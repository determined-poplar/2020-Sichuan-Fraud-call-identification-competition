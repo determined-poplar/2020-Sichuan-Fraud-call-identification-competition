{
 "cells": [
  {
   "cell_type": "code",
   "execution_count": 1,
   "metadata": {},
   "outputs": [],
   "source": [
    "import warnings\n",
    "warnings.simplefilter('ignore')\n",
    "import numpy as np\n",
    "import pandas as pd\n",
    "import matplotlib.pyplot as plt\n",
    "import seaborn as sns\n",
    "\n",
    "from tqdm import tqdm\n",
    "tqdm.pandas()\n",
    "from sklearn.preprocessing import LabelEncoder\n",
    "import gc"
   ]
  },
  {
   "cell_type": "markdown",
   "metadata": {},
   "source": [
    "# user"
   ]
  },
  {
   "cell_type": "code",
   "execution_count": 2,
   "metadata": {},
   "outputs": [],
   "source": [
    "train_user = pd.read_csv(r'E:\\Term2\\数据挖掘\\pre\\rawdata\\train\\train_user.csv')\n",
    "test_user = pd.read_csv(r'E:\\Term2\\数据挖掘\\pre\\rawdata\\test\\test_user.csv')"
   ]
  },
  {
   "cell_type": "code",
   "execution_count": 3,
   "metadata": {},
   "outputs": [
    {
     "data": {
      "text/html": [
       "<div>\n",
       "<style scoped>\n",
       "    .dataframe tbody tr th:only-of-type {\n",
       "        vertical-align: middle;\n",
       "    }\n",
       "\n",
       "    .dataframe tbody tr th {\n",
       "        vertical-align: top;\n",
       "    }\n",
       "\n",
       "    .dataframe thead th {\n",
       "        text-align: right;\n",
       "    }\n",
       "</style>\n",
       "<table border=\"1\" class=\"dataframe\">\n",
       "  <thead>\n",
       "    <tr style=\"text-align: right;\">\n",
       "      <th></th>\n",
       "      <th>phone_no_m</th>\n",
       "      <th>city_name</th>\n",
       "      <th>county_name</th>\n",
       "      <th>idcard_cnt</th>\n",
       "      <th>arpu_202004</th>\n",
       "    </tr>\n",
       "  </thead>\n",
       "  <tbody>\n",
       "    <tr>\n",
       "      <th>0</th>\n",
       "      <td>22d522340df77e2252c1a4d92b4bcb00d515e36f3ec6bf...</td>\n",
       "      <td>成都</td>\n",
       "      <td>金牛分公司</td>\n",
       "      <td>1</td>\n",
       "      <td>9.0</td>\n",
       "    </tr>\n",
       "    <tr>\n",
       "      <th>1</th>\n",
       "      <td>5220d4b8429bdba3971a7b46a088c6b8fa6710f4060759...</td>\n",
       "      <td>天府新区</td>\n",
       "      <td>天府直属部门</td>\n",
       "      <td>1</td>\n",
       "      <td>NaN</td>\n",
       "    </tr>\n",
       "    <tr>\n",
       "      <th>2</th>\n",
       "      <td>7d19dd2b50ced56f03d23bf928cf34dc570a48525571a8...</td>\n",
       "      <td>成都</td>\n",
       "      <td>锦江分公司</td>\n",
       "      <td>1</td>\n",
       "      <td>9.0</td>\n",
       "    </tr>\n",
       "    <tr>\n",
       "      <th>3</th>\n",
       "      <td>134a4a591185c9d3788021896dcfc235e9e0a6a1e3f8a4...</td>\n",
       "      <td>绵阳</td>\n",
       "      <td>江油分公司</td>\n",
       "      <td>1</td>\n",
       "      <td>138.7</td>\n",
       "    </tr>\n",
       "    <tr>\n",
       "      <th>4</th>\n",
       "      <td>2356dcd6759d50455ddaeed03c838843558e9182d5962f...</td>\n",
       "      <td>成都</td>\n",
       "      <td>青羊分公司</td>\n",
       "      <td>2</td>\n",
       "      <td>39.0</td>\n",
       "    </tr>\n",
       "  </tbody>\n",
       "</table>\n",
       "</div>"
      ],
      "text/plain": [
       "                                          phone_no_m city_name county_name  \\\n",
       "0  22d522340df77e2252c1a4d92b4bcb00d515e36f3ec6bf...        成都       金牛分公司   \n",
       "1  5220d4b8429bdba3971a7b46a088c6b8fa6710f4060759...      天府新区      天府直属部门   \n",
       "2  7d19dd2b50ced56f03d23bf928cf34dc570a48525571a8...        成都       锦江分公司   \n",
       "3  134a4a591185c9d3788021896dcfc235e9e0a6a1e3f8a4...        绵阳       江油分公司   \n",
       "4  2356dcd6759d50455ddaeed03c838843558e9182d5962f...        成都       青羊分公司   \n",
       "\n",
       "   idcard_cnt  arpu_202004  \n",
       "0           1          9.0  \n",
       "1           1          NaN  \n",
       "2           1          9.0  \n",
       "3           1        138.7  \n",
       "4           2         39.0  "
      ]
     },
     "execution_count": 3,
     "metadata": {},
     "output_type": "execute_result"
    }
   ],
   "source": [
    "test_user.head()"
   ]
  },
  {
   "cell_type": "code",
   "execution_count": 4,
   "metadata": {},
   "outputs": [
    {
     "data": {
      "text/plain": [
       "set()"
      ]
     },
     "execution_count": 4,
     "metadata": {},
     "output_type": "execute_result"
    }
   ],
   "source": [
    "tr_u = set(list(train_user.phone_no_m.unique()))\n",
    "te_u = set(list(test_user.phone_no_m.unique()))\n",
    "\n",
    "tr_u & te_u"
   ]
  },
  {
   "cell_type": "code",
   "execution_count": 5,
   "metadata": {},
   "outputs": [
    {
     "data": {
      "text/plain": [
       "Text(0.5, 1.0, 'Label')"
      ]
     },
     "execution_count": 5,
     "metadata": {},
     "output_type": "execute_result"
    },
    {
     "data": {
      "image/png": "[encoded data removed]",
      "text/plain": [
       "<Figure size 360x360 with 1 Axes>"
      ]
     },
     "metadata": {},
     "output_type": "display_data"
    }
   ],
   "source": [
    "plt.figure(figsize=(5,5))\n",
    "label_count=train_user.label.value_counts()\n",
    "patches,l_text,p_text=plt.pie(label_count,labels=['0','1'],autopct='%1.1f%%',colors=['pink','#3778bf'])\n",
    "for t in l_text:\n",
    "    t.set_size(14)\n",
    "for t in p_text:\n",
    "    t.set_size(13)\n",
    "\n",
    "plt.title('Label',family= 'Times New Roman',size=13)"
   ]
  },
  {
   "cell_type": "code",
   "execution_count": 7,
   "metadata": {},
   "outputs": [
    {
     "data": {
      "text/plain": [
       "((6106, 13), (2045, 5))"
      ]
     },
     "execution_count": 7,
     "metadata": {},
     "output_type": "execute_result"
    }
   ],
   "source": [
    "train_user.shape, test_user.shape"
   ]
  },
  {
   "cell_type": "code",
   "execution_count": 8,
   "metadata": {},
   "outputs": [
    {
     "data": {
      "text/html": [
       "<div>\n",
       "<style scoped>\n",
       "    .dataframe tbody tr th:only-of-type {\n",
       "        vertical-align: middle;\n",
       "    }\n",
       "\n",
       "    .dataframe tbody tr th {\n",
       "        vertical-align: top;\n",
       "    }\n",
       "\n",
       "    .dataframe thead th {\n",
       "        text-align: right;\n",
       "    }\n",
       "</style>\n",
       "<table border=\"1\" class=\"dataframe\">\n",
       "  <thead>\n",
       "    <tr style=\"text-align: right;\">\n",
       "      <th></th>\n",
       "      <th>phone_no_m</th>\n",
       "      <th>city_name</th>\n",
       "      <th>county_name</th>\n",
       "      <th>idcard_cnt</th>\n",
       "      <th>arpu_201908</th>\n",
       "      <th>arpu_201909</th>\n",
       "      <th>arpu_201910</th>\n",
       "      <th>arpu_201911</th>\n",
       "      <th>arpu_201912</th>\n",
       "      <th>arpu_202001</th>\n",
       "      <th>arpu_202002</th>\n",
       "      <th>arpu_202003</th>\n",
       "      <th>label</th>\n",
       "      <th>arpu_202004</th>\n",
       "    </tr>\n",
       "  </thead>\n",
       "  <tbody>\n",
       "    <tr>\n",
       "      <th>0</th>\n",
       "      <td>672ddbf02a5544d32e4ecc9433b1981bffe23bf912273a...</td>\n",
       "      <td>绵阳</td>\n",
       "      <td>江油分公司</td>\n",
       "      <td>1</td>\n",
       "      <td>46.06</td>\n",
       "      <td>45.00</td>\n",
       "      <td>45.0</td>\n",
       "      <td>45.00</td>\n",
       "      <td>45.00</td>\n",
       "      <td>45.0</td>\n",
       "      <td>45.0</td>\n",
       "      <td>45.0</td>\n",
       "      <td>0</td>\n",
       "      <td>45.0</td>\n",
       "    </tr>\n",
       "    <tr>\n",
       "      <th>1</th>\n",
       "      <td>5e1272273e041e82cb275ae877710be98cdaf5b0a8f34d...</td>\n",
       "      <td>德阳</td>\n",
       "      <td>旌阳分公司</td>\n",
       "      <td>1</td>\n",
       "      <td>79.00</td>\n",
       "      <td>79.20</td>\n",
       "      <td>79.1</td>\n",
       "      <td>79.30</td>\n",
       "      <td>41.40</td>\n",
       "      <td>34.1</td>\n",
       "      <td>59.4</td>\n",
       "      <td>60.0</td>\n",
       "      <td>0</td>\n",
       "      <td>60.0</td>\n",
       "    </tr>\n",
       "    <tr>\n",
       "      <th>2</th>\n",
       "      <td>eaab3472ec87b076e69e6e8bb62b14341638fc63661a6c...</td>\n",
       "      <td>成都</td>\n",
       "      <td>金堂分公司</td>\n",
       "      <td>2</td>\n",
       "      <td>18.85</td>\n",
       "      <td>24.45</td>\n",
       "      <td>22.0</td>\n",
       "      <td>21.40</td>\n",
       "      <td>22.15</td>\n",
       "      <td>21.1</td>\n",
       "      <td>61.3</td>\n",
       "      <td>63.0</td>\n",
       "      <td>0</td>\n",
       "      <td>63.0</td>\n",
       "    </tr>\n",
       "    <tr>\n",
       "      <th>3</th>\n",
       "      <td>0ce1bb415704178bf44e9c9b431a39b083a132c8e6d99f...</td>\n",
       "      <td>成都</td>\n",
       "      <td>高新分公司</td>\n",
       "      <td>2</td>\n",
       "      <td>19.20</td>\n",
       "      <td>29.65</td>\n",
       "      <td>130.4</td>\n",
       "      <td>173.12</td>\n",
       "      <td>19.00</td>\n",
       "      <td>19.0</td>\n",
       "      <td>19.0</td>\n",
       "      <td>23.2</td>\n",
       "      <td>0</td>\n",
       "      <td>23.2</td>\n",
       "    </tr>\n",
       "    <tr>\n",
       "      <th>4</th>\n",
       "      <td>28b87f35f63f65096a53e3a4c97eaffd4a6c43ffa7e92d...</td>\n",
       "      <td>德阳</td>\n",
       "      <td>旌阳分公司</td>\n",
       "      <td>1</td>\n",
       "      <td>50.00</td>\n",
       "      <td>50.00</td>\n",
       "      <td>50.0</td>\n",
       "      <td>50.00</td>\n",
       "      <td>50.00</td>\n",
       "      <td>50.0</td>\n",
       "      <td>50.0</td>\n",
       "      <td>50.0</td>\n",
       "      <td>0</td>\n",
       "      <td>50.0</td>\n",
       "    </tr>\n",
       "  </tbody>\n",
       "</table>\n",
       "</div>"
      ],
      "text/plain": [
       "                                          phone_no_m city_name county_name  \\\n",
       "0  672ddbf02a5544d32e4ecc9433b1981bffe23bf912273a...        绵阳       江油分公司   \n",
       "1  5e1272273e041e82cb275ae877710be98cdaf5b0a8f34d...        德阳       旌阳分公司   \n",
       "2  eaab3472ec87b076e69e6e8bb62b14341638fc63661a6c...        成都       金堂分公司   \n",
       "3  0ce1bb415704178bf44e9c9b431a39b083a132c8e6d99f...        成都       高新分公司   \n",
       "4  28b87f35f63f65096a53e3a4c97eaffd4a6c43ffa7e92d...        德阳       旌阳分公司   \n",
       "\n",
       "   idcard_cnt  arpu_201908  arpu_201909  arpu_201910  arpu_201911  \\\n",
       "0           1        46.06        45.00         45.0        45.00   \n",
       "1           1        79.00        79.20         79.1        79.30   \n",
       "2           2        18.85        24.45         22.0        21.40   \n",
       "3           2        19.20        29.65        130.4       173.12   \n",
       "4           1        50.00        50.00         50.0        50.00   \n",
       "\n",
       "   arpu_201912  arpu_202001  arpu_202002  arpu_202003  label  arpu_202004  \n",
       "0        45.00         45.0         45.0         45.0      0         45.0  \n",
       "1        41.40         34.1         59.4         60.0      0         60.0  \n",
       "2        22.15         21.1         61.3         63.0      0         63.0  \n",
       "3        19.00         19.0         19.0         23.2      0         23.2  \n",
       "4        50.00         50.0         50.0         50.0      0         50.0  "
      ]
     },
     "execution_count": 8,
     "metadata": {},
     "output_type": "execute_result"
    }
   ],
   "source": [
    "# 只取训练集中最后一个月的数据\n",
    "train_user['arpu_202004'] = train_user['arpu_202003']\n",
    "train_user.head()"
   ]
  },
  {
   "cell_type": "code",
   "execution_count": 9,
   "metadata": {},
   "outputs": [],
   "source": [
    "train_user.drop(['arpu_201908', 'arpu_201909', 'arpu_201910', 'arpu_201911',\n",
    "                 'arpu_201912', 'arpu_202001', 'arpu_202002', 'arpu_202003'], axis=1, inplace=True)"
   ]
  },
  {
   "cell_type": "code",
   "execution_count": 10,
   "metadata": {},
   "outputs": [],
   "source": [
    "df_user = pd.concat([train_user, test_user])"
   ]
  },
  {
   "cell_type": "code",
   "execution_count": 11,
   "metadata": {},
   "outputs": [],
   "source": [
    "plt.rcParams['font.sans-serif']=['SimHei'] #用来正常显示中文标签\n",
    "\n",
    "plt.rcParams['axes.unicode_minus']=False"
   ]
  },
  {
   "cell_type": "code",
   "execution_count": 12,
   "metadata": {},
   "outputs": [
    {
     "data": {
      "text/plain": [
       "Text(0, 0.5, 'Count')"
      ]
     },
     "execution_count": 12,
     "metadata": {},
     "output_type": "execute_result"
    },
    {
     "data": {
      "image/png": "[encoded data removed]",
      "text/plain": [
       "<Figure size 1440x720 with 1 Axes>"
      ]
     },
     "metadata": {
      "needs_background": "light"
     },
     "output_type": "display_data"
    }
   ],
   "source": [
    "plt.figure(figsize=(20,10))\n",
    "tem=train_user['city_name'].value_counts()\n",
    "sns.countplot(train_user['city_name'],order=tem.index)\n",
    "plt.tick_params(labelsize=13)\n",
    "plt.xlabel('City_name',size=5,family= 'Times New Roman')\n",
    "plt.ylabel('Count',size=15,family= 'Times New Roman')"
   ]
  },
  {
   "cell_type": "code",
   "execution_count": null,
   "metadata": {},
   "outputs": [],
   "source": [
    "\n",
    "fig = plt.figure()\n",
    "fig.set(alpha=0.2) # 设定图表颜色alpha参数\n",
    "\n",
    "Survived_m = data_train.Survived[data_train.Sex == 'male'].value_counts()\n",
    "Survived_f = data_train.Survived[data_train.Sex == 'female'].value_counts()\n",
    "df=pd.DataFrame({u'男性':Survived_m, u'女性':Survived_f})\n",
    "df.plot(kind='bar', stacked=True)\n",
    "plt.title(u\"按性别看获救情况\")\n",
    "plt.xlabel(u\"性别\")\n",
    "plt.ylabel(u\"人数\")\n",
    "plt.show()\n"
   ]
  },
  {
   "cell_type": "code",
   "execution_count": 288,
   "metadata": {},
   "outputs": [
    {
     "data": {
      "text/plain": [
       "Text(0, 0.5, 'Count')"
      ]
     },
     "execution_count": 288,
     "metadata": {},
     "output_type": "execute_result"
    },
    {
     "data": {
      "image/png": "[encoded data removed]",
      "text/plain": [
       "<Figure size 1440x504 with 1 Axes>"
      ]
     },
     "metadata": {
      "needs_background": "light"
     },
     "output_type": "display_data"
    }
   ],
   "source": [
    "plt.figure(figsize=(20,7))\n",
    "tem=train_user.county_name.value_counts()\n",
    "tem=tem[tem>50]\n",
    "sns.countplot(train_user[train_user.county_name.isin(tem.index)].county_name,order=tem.index)\n",
    "plt.xticks(rotation=25)\n",
    "plt.tick_params(labelsize=12)\n",
    "plt.xlabel('County_name',size=17,family= 'Times New Roman')\n",
    "plt.ylabel('Count',size=17,family= 'Times New Roman')"
   ]
  },
  {
   "cell_type": "code",
   "execution_count": 270,
   "metadata": {},
   "outputs": [
    {
     "data": {
      "text/plain": [
       "182"
      ]
     },
     "execution_count": 270,
     "metadata": {},
     "output_type": "execute_result"
    }
   ],
   "source": [
    "len(train_user['county_name'].unique())"
   ]
  },
  {
   "cell_type": "code",
   "execution_count": 284,
   "metadata": {},
   "outputs": [
    {
     "data": {
      "text/plain": [
       "Text(0, 0.5, 'Count')"
      ]
     },
     "execution_count": 284,
     "metadata": {},
     "output_type": "execute_result"
    },
    {
     "data": {
      "image/png": "[encoded data removed]",
      "text/plain": [
       "<Figure size 1080x504 with 1 Axes>"
      ]
     },
     "metadata": {
      "needs_background": "light"
     },
     "output_type": "display_data"
    }
   ],
   "source": [
    "plt.figure(figsize=(15,7))\n",
    "tem=train_user['idcard_cnt'].value_counts()\n",
    "sns.countplot(train_user['idcard_cnt'],order=tem.index)\n",
    "plt.tick_params(labelsize=15)\n",
    "plt.xlabel('Idcard_count',size=17,family= 'Times New Roman')\n",
    "plt.ylabel('Count',size=17,family= 'Times New Roman')"
   ]
  },
  {
   "cell_type": "code",
   "execution_count": 123,
   "metadata": {},
   "outputs": [
    {
     "data": {
      "text/plain": [
       "<matplotlib.axes._subplots.AxesSubplot at 0x1f2306f7d08>"
      ]
     },
     "execution_count": 123,
     "metadata": {},
     "output_type": "execute_result"
    },
    {
     "data": {
      "image/png": "[encoded data removed]",
      "text/plain": [
       "<Figure size 1440x720 with 1 Axes>"
      ]
     },
     "metadata": {
      "needs_background": "light"
     },
     "output_type": "display_data"
    }
   ],
   "source": [
    "plt.figure(figsize=(20,10))\n",
    "sns.countplot(x='idcard_cnt',hue='label',data=train_user)"
   ]
  },
  {
   "cell_type": "code",
   "execution_count": 316,
   "metadata": {},
   "outputs": [
    {
     "data": {
      "image/png": "[encoded data removed]",
      "text/plain": [
       "<Figure size 720x720 with 1 Axes>"
      ]
     },
     "metadata": {
      "needs_background": "light"
     },
     "output_type": "display_data"
    }
   ],
   "source": [
    "plt.figure(figsize=(10,10))\n",
    "sns.distplot(train_user.loc[train_user.label==0]['arpu_202004'])\n",
    "#sns.distplot(train_user.loc[train_user.label==1]['arpu_202004'])\n",
    "plt.title('Label=0')\n",
    "plt.show()"
   ]
  },
  {
   "cell_type": "code",
   "execution_count": 319,
   "metadata": {},
   "outputs": [
    {
     "data": {
      "image/png": "[encoded data removed]",
      "text/plain": [
       "<Figure size 720x720 with 1 Axes>"
      ]
     },
     "metadata": {
      "needs_background": "light"
     },
     "output_type": "display_data"
    }
   ],
   "source": [
    "plt.figure(figsize=(10,10))\n",
    "#sns.distplot(train_user.loc[train_user.label==0]['arpu_202004'])\n",
    "sns.distplot(train_user.loc[train_user.label==1]['arpu_202004'],color='#c74767')\n",
    "plt.title('Label=1')\n",
    "plt.show()"
   ]
  },
  {
   "cell_type": "markdown",
   "metadata": {},
   "source": [
    "## 城市、区域编码"
   ]
  },
  {
   "cell_type": "code",
   "execution_count": 13,
   "metadata": {},
   "outputs": [
    {
     "name": "stderr",
     "output_type": "stream",
     "text": [
      "100%|█████████████████████████████████████████████████████████████████████████████████████████████████████████████████████████| 2/2 [00:00<00:00, 166.69it/s]\n"
     ]
    },
    {
     "data": {
      "text/html": [
       "<div>\n",
       "<style scoped>\n",
       "    .dataframe tbody tr th:only-of-type {\n",
       "        vertical-align: middle;\n",
       "    }\n",
       "\n",
       "    .dataframe tbody tr th {\n",
       "        vertical-align: top;\n",
       "    }\n",
       "\n",
       "    .dataframe thead th {\n",
       "        text-align: right;\n",
       "    }\n",
       "</style>\n",
       "<table border=\"1\" class=\"dataframe\">\n",
       "  <thead>\n",
       "    <tr style=\"text-align: right;\">\n",
       "      <th></th>\n",
       "      <th>phone_no_m</th>\n",
       "      <th>city_name</th>\n",
       "      <th>county_name</th>\n",
       "      <th>idcard_cnt</th>\n",
       "      <th>label</th>\n",
       "      <th>arpu_202004</th>\n",
       "    </tr>\n",
       "  </thead>\n",
       "  <tbody>\n",
       "    <tr>\n",
       "      <th>0</th>\n",
       "      <td>672ddbf02a5544d32e4ecc9433b1981bffe23bf912273a...</td>\n",
       "      <td>16</td>\n",
       "      <td>97</td>\n",
       "      <td>1</td>\n",
       "      <td>0.0</td>\n",
       "      <td>45.0</td>\n",
       "    </tr>\n",
       "    <tr>\n",
       "      <th>1</th>\n",
       "      <td>5e1272273e041e82cb275ae877710be98cdaf5b0a8f34d...</td>\n",
       "      <td>10</td>\n",
       "      <td>82</td>\n",
       "      <td>1</td>\n",
       "      <td>0.0</td>\n",
       "      <td>60.0</td>\n",
       "    </tr>\n",
       "    <tr>\n",
       "      <th>2</th>\n",
       "      <td>eaab3472ec87b076e69e6e8bb62b14341638fc63661a6c...</td>\n",
       "      <td>11</td>\n",
       "      <td>160</td>\n",
       "      <td>2</td>\n",
       "      <td>0.0</td>\n",
       "      <td>63.0</td>\n",
       "    </tr>\n",
       "    <tr>\n",
       "      <th>3</th>\n",
       "      <td>0ce1bb415704178bf44e9c9b431a39b083a132c8e6d99f...</td>\n",
       "      <td>11</td>\n",
       "      <td>181</td>\n",
       "      <td>2</td>\n",
       "      <td>0.0</td>\n",
       "      <td>23.2</td>\n",
       "    </tr>\n",
       "    <tr>\n",
       "      <th>4</th>\n",
       "      <td>28b87f35f63f65096a53e3a4c97eaffd4a6c43ffa7e92d...</td>\n",
       "      <td>10</td>\n",
       "      <td>82</td>\n",
       "      <td>1</td>\n",
       "      <td>0.0</td>\n",
       "      <td>50.0</td>\n",
       "    </tr>\n",
       "  </tbody>\n",
       "</table>\n",
       "</div>"
      ],
      "text/plain": [
       "                                          phone_no_m  city_name  county_name  \\\n",
       "0  672ddbf02a5544d32e4ecc9433b1981bffe23bf912273a...         16           97   \n",
       "1  5e1272273e041e82cb275ae877710be98cdaf5b0a8f34d...         10           82   \n",
       "2  eaab3472ec87b076e69e6e8bb62b14341638fc63661a6c...         11          160   \n",
       "3  0ce1bb415704178bf44e9c9b431a39b083a132c8e6d99f...         11          181   \n",
       "4  28b87f35f63f65096a53e3a4c97eaffd4a6c43ffa7e92d...         10           82   \n",
       "\n",
       "   idcard_cnt  label  arpu_202004  \n",
       "0           1    0.0         45.0  \n",
       "1           1    0.0         60.0  \n",
       "2           2    0.0         63.0  \n",
       "3           2    0.0         23.2  \n",
       "4           1    0.0         50.0  "
      ]
     },
     "execution_count": 13,
     "metadata": {},
     "output_type": "execute_result"
    }
   ],
   "source": [
    "for f in tqdm(['city_name', 'county_name']):\n",
    "    lbl = LabelEncoder()\n",
    "    df_user[f] = df_user[f].fillna('NA')\n",
    "    df_user[f] = lbl.fit_transform(df_user[f].astype(str))\n",
    "    \n",
    "df_user.head()"
   ]
  },
  {
   "cell_type": "markdown",
   "metadata": {},
   "source": [
    "# voc"
   ]
  },
  {
   "cell_type": "code",
   "execution_count": 20,
   "metadata": {},
   "outputs": [],
   "source": [
    "train_voc = pd.read_csv(r'E:\\Term2\\数据挖掘\\pre\\rawdata\\train\\train_voc.csv')\n",
    "test_voc = pd.read_csv(r'E:\\Term2\\数据挖掘\\pre\\rawdata\\test\\test_voc.csv')\n",
    "\n",
    "train_voc['start_datetime'] = train_voc['start_datetime'].astype('datetime64')\n",
    "test_voc['start_datetime'] = test_voc['start_datetime'].astype('datetime64')"
   ]
  },
  {
   "cell_type": "code",
   "execution_count": null,
   "metadata": {},
   "outputs": [],
   "source": []
  },
  {
   "cell_type": "code",
   "execution_count": 15,
   "metadata": {
    "scrolled": true
   },
   "outputs": [
    {
     "data": {
      "text/plain": [
       "5015430"
      ]
     },
     "execution_count": 15,
     "metadata": {},
     "output_type": "execute_result"
    }
   ],
   "source": [
    "len(train_voc)"
   ]
  },
  {
   "cell_type": "code",
   "execution_count": 16,
   "metadata": {},
   "outputs": [
    {
     "data": {
      "text/plain": [
       "array([2, 1], dtype=int64)"
      ]
     },
     "execution_count": 16,
     "metadata": {},
     "output_type": "execute_result"
    }
   ],
   "source": [
    "ex=train_voc.phone_no_m.iloc[0]\n",
    "train_voc.loc[train_voc.phone_no_m==ex].calltype_id.unique()"
   ]
  },
  {
   "cell_type": "code",
   "execution_count": 17,
   "metadata": {},
   "outputs": [
    {
     "ename": "NameError",
     "evalue": "name 'df_voc' is not defined",
     "output_type": "error",
     "traceback": [
      "\u001b[1;31m---------------------------------------------------------------------------\u001b[0m",
      "\u001b[1;31mNameError\u001b[0m                                 Traceback (most recent call last)",
      "\u001b[1;32m<ipython-input-17-8263fd6d5087>\u001b[0m in \u001b[0;36m<module>\u001b[1;34m\u001b[0m\n\u001b[0;32m      1\u001b[0m \u001b[0mplt\u001b[0m\u001b[1;33m.\u001b[0m\u001b[0mfigure\u001b[0m\u001b[1;33m(\u001b[0m\u001b[0mfigsize\u001b[0m\u001b[1;33m=\u001b[0m\u001b[1;33m(\u001b[0m\u001b[1;36m10\u001b[0m\u001b[1;33m,\u001b[0m\u001b[1;36m8\u001b[0m\u001b[1;33m)\u001b[0m\u001b[1;33m)\u001b[0m\u001b[1;33m\u001b[0m\u001b[1;33m\u001b[0m\u001b[0m\n\u001b[1;32m----> 2\u001b[1;33m \u001b[0msns\u001b[0m\u001b[1;33m.\u001b[0m\u001b[0mdistplot\u001b[0m\u001b[1;33m(\u001b[0m\u001b[0mdf_voc\u001b[0m\u001b[1;33m.\u001b[0m\u001b[0mloc\u001b[0m\u001b[1;33m[\u001b[0m\u001b[0mdf_voc\u001b[0m\u001b[1;33m.\u001b[0m\u001b[0mcall_dur\u001b[0m\u001b[1;33m]\u001b[0m\u001b[1;33m[\u001b[0m\u001b[1;34m'call_dur'\u001b[0m\u001b[1;33m]\u001b[0m\u001b[1;33m)\u001b[0m\u001b[1;33m\u001b[0m\u001b[1;33m\u001b[0m\u001b[0m\n\u001b[0m\u001b[0;32m      3\u001b[0m \u001b[0mplt\u001b[0m\u001b[1;33m.\u001b[0m\u001b[0mtick_params\u001b[0m\u001b[1;33m(\u001b[0m\u001b[0mlabelsize\u001b[0m\u001b[1;33m=\u001b[0m\u001b[1;36m12\u001b[0m\u001b[1;33m)\u001b[0m\u001b[1;33m\u001b[0m\u001b[1;33m\u001b[0m\u001b[0m\n\u001b[0;32m      4\u001b[0m \u001b[0mplt\u001b[0m\u001b[1;33m.\u001b[0m\u001b[0mxlabel\u001b[0m\u001b[1;33m(\u001b[0m\u001b[1;34m'Call_dur'\u001b[0m\u001b[1;33m,\u001b[0m\u001b[0msize\u001b[0m\u001b[1;33m=\u001b[0m\u001b[1;36m15\u001b[0m\u001b[1;33m,\u001b[0m\u001b[0mfamily\u001b[0m\u001b[1;33m=\u001b[0m \u001b[1;34m'Times New Roman'\u001b[0m\u001b[1;33m)\u001b[0m\u001b[1;33m\u001b[0m\u001b[1;33m\u001b[0m\u001b[0m\n",
      "\u001b[1;31mNameError\u001b[0m: name 'df_voc' is not defined"
     ]
    },
    {
     "data": {
      "text/plain": [
       "<Figure size 720x576 with 0 Axes>"
      ]
     },
     "metadata": {},
     "output_type": "display_data"
    }
   ],
   "source": [
    "plt.figure(figsize=(10,8))\n",
    "sns.distplot(df_voc.loc[df_voc.call_dur]['call_dur'])\n",
    "plt.tick_params(labelsize=12)\n",
    "plt.xlabel('Call_dur',size=15,family= 'Times New Roman')"
   ]
  },
  {
   "cell_type": "code",
   "execution_count": 193,
   "metadata": {},
   "outputs": [
    {
     "data": {
      "text/plain": [
       "1    245905\n",
       "2    234619\n",
       "0    196541\n",
       "4    151236\n",
       "3    124274\n",
       "5     33091\n",
       "Name: call_dur_cut, dtype: int64"
      ]
     },
     "execution_count": 193,
     "metadata": {},
     "output_type": "execute_result"
    }
   ],
   "source": [
    "df_voc['call_dur_cut']= pd.cut(df_voc['call_dur'],bins=[0,15,30,60,100,400,max(df_voc.call_dur)+1],labels=[0,1,2,3,4,5],right=False)   #按四分位数切割\n",
    "df_voc['call_dur_cut'].value_counts()"
   ]
  },
  {
   "cell_type": "code",
   "execution_count": 148,
   "metadata": {},
   "outputs": [
    {
     "data": {
      "text/plain": [
       "array([ 175,   33,   39, ..., 3264, 2454, 3405], dtype=int64)"
      ]
     },
     "execution_count": 148,
     "metadata": {},
     "output_type": "execute_result"
    }
   ],
   "source": [
    "voc_label=train_voc.merge(train_user['phone_no_m','label'])"
   ]
  },
  {
   "cell_type": "code",
   "execution_count": 338,
   "metadata": {},
   "outputs": [
    {
     "data": {
      "text/plain": [
       "Text(0, 0.5, 'Count')"
      ]
     },
     "execution_count": 338,
     "metadata": {},
     "output_type": "execute_result"
    },
    {
     "data": {
      "image/png": "[encoded data removed]",
      "text/plain": [
       "<Figure size 720x576 with 1 Axes>"
      ]
     },
     "metadata": {
      "needs_background": "light"
     },
     "output_type": "display_data"
    }
   ],
   "source": [
    "plt.figure(figsize=(10,8))\n",
    "sns.countplot(train_voc['calltype_id'],palette=['#fc96aa','#75bbfd','#ffb07c'])\n",
    "plt.tick_params(labelsize=12)\n",
    "plt.xlabel('Calltype_id',size=15,family= 'Times New Roman')\n",
    "plt.ylabel('Count',size=15,family= 'Times New Roman')"
   ]
  },
  {
   "cell_type": "code",
   "execution_count": 139,
   "metadata": {},
   "outputs": [
    {
     "data": {
      "text/html": [
       "<div>\n",
       "<style scoped>\n",
       "    .dataframe tbody tr th:only-of-type {\n",
       "        vertical-align: middle;\n",
       "    }\n",
       "\n",
       "    .dataframe tbody tr th {\n",
       "        vertical-align: top;\n",
       "    }\n",
       "\n",
       "    .dataframe thead th {\n",
       "        text-align: right;\n",
       "    }\n",
       "</style>\n",
       "<table border=\"1\" class=\"dataframe\">\n",
       "  <thead>\n",
       "    <tr style=\"text-align: right;\">\n",
       "      <th></th>\n",
       "      <th>phone_no_m</th>\n",
       "      <th>call_dur</th>\n",
       "      <th>label</th>\n",
       "    </tr>\n",
       "  </thead>\n",
       "  <tbody>\n",
       "    <tr>\n",
       "      <th>0</th>\n",
       "      <td>b3994b4c46e39954cfe0cb8ebd2a79703a2ace6612fa18241509e8b2dfe9d75f503823b6df2d10180a9033ccd22390aaeda397037ca4cd26604d6db6e3470874</td>\n",
       "      <td>175</td>\n",
       "      <td>0</td>\n",
       "    </tr>\n",
       "    <tr>\n",
       "      <th>1</th>\n",
       "      <td>b3994b4c46e39954cfe0cb8ebd2a79703a2ace6612fa18241509e8b2dfe9d75f503823b6df2d10180a9033ccd22390aaeda397037ca4cd26604d6db6e3470874</td>\n",
       "      <td>33</td>\n",
       "      <td>0</td>\n",
       "    </tr>\n",
       "    <tr>\n",
       "      <th>2</th>\n",
       "      <td>c5502a6d3e4cabaf8c0e298c4aac693b6e80835d50d4e4f393d8426bd49c0d4d00c3959d2a2c8341410e57af28bee6dc5c80dbad7cf147018ec0ece7bfa0cf5f</td>\n",
       "      <td>39</td>\n",
       "      <td>0</td>\n",
       "    </tr>\n",
       "    <tr>\n",
       "      <th>3</th>\n",
       "      <td>c5502a6d3e4cabaf8c0e298c4aac693b6e80835d50d4e4f393d8426bd49c0d4d00c3959d2a2c8341410e57af28bee6dc5c80dbad7cf147018ec0ece7bfa0cf5f</td>\n",
       "      <td>32</td>\n",
       "      <td>0</td>\n",
       "    </tr>\n",
       "    <tr>\n",
       "      <th>4</th>\n",
       "      <td>2bdbc0a45d6228970b353d691e2ec229f0cf60790a1a39d5e01c0175b5e20cd2ca7d39aff8506741884fd7a4cd4fd9fdec5112ddb764d81c2983752c989f1078</td>\n",
       "      <td>3</td>\n",
       "      <td>0</td>\n",
       "    </tr>\n",
       "  </tbody>\n",
       "</table>\n",
       "</div>"
      ],
      "text/plain": [
       "                                                                                                                         phone_no_m  \\\n",
       "0  b3994b4c46e39954cfe0cb8ebd2a79703a2ace6612fa18241509e8b2dfe9d75f503823b6df2d10180a9033ccd22390aaeda397037ca4cd26604d6db6e3470874   \n",
       "1  b3994b4c46e39954cfe0cb8ebd2a79703a2ace6612fa18241509e8b2dfe9d75f503823b6df2d10180a9033ccd22390aaeda397037ca4cd26604d6db6e3470874   \n",
       "2  c5502a6d3e4cabaf8c0e298c4aac693b6e80835d50d4e4f393d8426bd49c0d4d00c3959d2a2c8341410e57af28bee6dc5c80dbad7cf147018ec0ece7bfa0cf5f   \n",
       "3  c5502a6d3e4cabaf8c0e298c4aac693b6e80835d50d4e4f393d8426bd49c0d4d00c3959d2a2c8341410e57af28bee6dc5c80dbad7cf147018ec0ece7bfa0cf5f   \n",
       "4  2bdbc0a45d6228970b353d691e2ec229f0cf60790a1a39d5e01c0175b5e20cd2ca7d39aff8506741884fd7a4cd4fd9fdec5112ddb764d81c2983752c989f1078   \n",
       "\n",
       "   call_dur  label  \n",
       "0       175      0  \n",
       "1        33      0  \n",
       "2        39      0  \n",
       "3        32      0  \n",
       "4         3      0  "
      ]
     },
     "execution_count": 139,
     "metadata": {},
     "output_type": "execute_result"
    }
   ],
   "source": [
    "phonelabel=train_user[['phone_no_m','label']]\n",
    "phonecall=train_voc[['phone_no_m','call_dur']]\n",
    "label_call=pd.merge(phonecall,phonelabel,how='left',on='phone_no_m')\n",
    "label_call.head()"
   ]
  },
  {
   "cell_type": "code",
   "execution_count": 147,
   "metadata": {},
   "outputs": [
    {
     "data": {
      "text/plain": [
       "<matplotlib.axes._subplots.AxesSubplot at 0x1f23cc41e48>"
      ]
     },
     "execution_count": 147,
     "metadata": {},
     "output_type": "execute_result"
    },
    {
     "data": {
      "image/png": "[encoded data removed]",
      "text/plain": [
       "<Figure size 432x288 with 1 Axes>"
      ]
     },
     "metadata": {
      "needs_background": "light"
     },
     "output_type": "display_data"
    }
   ],
   "source": [
    "sns.boxplot(x='label',y='call_dur',data=label_call.loc[label_call.call_dur<100])"
   ]
  },
  {
   "cell_type": "code",
   "execution_count": 19,
   "metadata": {},
   "outputs": [],
   "source": [
    "# 同样只取最后一个月的数据\n",
    "#train_voc= train_voc[train_voc['start_datetime'] >= '2020-03-01 00:00:00']"
   ]
  },
  {
   "cell_type": "code",
   "execution_count": 43,
   "metadata": {},
   "outputs": [],
   "source": [
    "train_voc_3= train_voc_3.reset_index(drop=True)"
   ]
  },
  {
   "cell_type": "code",
   "execution_count": 21,
   "metadata": {},
   "outputs": [],
   "source": [
    "train_voc_2= train_voc[train_voc['start_datetime'] >= '2020-02-01 00:00:00']"
   ]
  },
  {
   "cell_type": "code",
   "execution_count": 22,
   "metadata": {},
   "outputs": [],
   "source": [
    "train_voc_3= train_voc[train_voc['start_datetime'] >= '2020-03-01 00:00:00']"
   ]
  },
  {
   "cell_type": "code",
   "execution_count": 181,
   "metadata": {},
   "outputs": [],
   "source": [
    "train_voc_1= train_voc[train_voc['start_datetime'] >= '2020-01-01 00:00:00']"
   ]
  },
  {
   "cell_type": "code",
   "execution_count": 234,
   "metadata": {},
   "outputs": [],
   "source": [
    "df_voc = pd.concat([train_voc_3, test_voc])"
   ]
  },
  {
   "cell_type": "code",
   "execution_count": 235,
   "metadata": {},
   "outputs": [],
   "source": [
    "##  添加标签： 通话呼出城市与号码开户城市是否一样\n",
    "#temp=pd.merge(df_voc,df_user[['phone_no_m','city_name']],how='left',on='phone_no_m')\n",
    "#temp['flag_same_city']=temp['city_name_x']==temp['city_name_y']"
   ]
  },
  {
   "cell_type": "code",
   "execution_count": 236,
   "metadata": {},
   "outputs": [],
   "source": [
    "# 时间切割\n",
    "df_voc['voc_day'] = df_voc['start_datetime'].dt.day\n",
    "df_voc['voc_hour'] = df_voc['start_datetime'].dt.hour\n",
    "df_voc['voc_weekday']=df_voc['start_datetime'].dt.dayofweek\n",
    "#df_voc['voc_ts'] = np.datetime64(df_voc['start_datetime'], unit='ns').dt.total_seconds().astype(int)\n",
    "#df_voc = df_voc.sort_values(by='voc_ts').reset_index(drop=True)"
   ]
  },
  {
   "cell_type": "code",
   "execution_count": 237,
   "metadata": {},
   "outputs": [
    {
     "data": {
      "text/plain": [
       "array([21, 18, 11, 15, 19,  9, 12, 14,  6, 20, 10, 13, 22,  8, 16, 17,  7,\n",
       "        5,  1, 23,  0,  3,  2,  4], dtype=int64)"
      ]
     },
     "execution_count": 237,
     "metadata": {},
     "output_type": "execute_result"
    }
   ],
   "source": [
    "df_voc['voc_hour'].unique()"
   ]
  },
  {
   "cell_type": "code",
   "execution_count": 238,
   "metadata": {},
   "outputs": [],
   "source": [
    "df_voc['voc_hour_label']= pd.cut(df_voc['voc_hour'],bins=[0,7,12,15,19,24],labels=[0,1,2,3,4],right=False)  "
   ]
  },
  {
   "cell_type": "code",
   "execution_count": 239,
   "metadata": {},
   "outputs": [],
   "source": [
    "# 一天内通话次数统计量\n",
    "df_voc['voc_day_count'] = df_voc.groupby(['phone_no_m', 'voc_day'])['phone_no_m'].transform('count')\n",
    "df_voc['voc_day_count_max'] = df_voc.groupby('phone_no_m')['voc_day_count'].transform('max')\n",
    "df_voc['voc_day_count_min'] = df_voc.groupby('phone_no_m')['voc_day_count'].transform('min')\n",
    "df_voc['voc_day_count_mean'] = df_voc.groupby('phone_no_m')['voc_day_count'].transform('mean')\n",
    "df_voc['voc_day_count_median'] = df_voc.groupby('phone_no_m')['voc_day_count'].transform('median')\n",
    "df_voc['voc_day_count_std'] = df_voc.groupby('phone_no_m')['voc_day_count'].transform('std')\n",
    "\n",
    "del df_voc['voc_day_count']"
   ]
  },
  {
   "cell_type": "code",
   "execution_count": 240,
   "metadata": {},
   "outputs": [],
   "source": [
    "# 总量\n",
    "df_voc['voc_count'] = df_voc.groupby('phone_no_m')['phone_no_m'].transform('count')"
   ]
  },
  {
   "cell_type": "code",
   "execution_count": 241,
   "metadata": {},
   "outputs": [],
   "source": [
    "#主叫通话\n",
    "calltype1=df_voc.loc[df_voc.calltype_id==1]\n",
    "calltype1=calltype1.groupby('phone_no_m')['calltype_id'].agg(calltype_1='count').reset_index()\n",
    "#calltype2.set_index('phone_no_m').groupby('phone_no_m')['calltype_id'].transform('count').reset_index()\n",
    "df_voc=df_voc.merge(calltype1,how='left',on='phone_no_m')\n",
    "df_voc['calltype_1'].fillna(0)\n",
    "df_voc['calltype_1_rate']=df_voc['calltype_1']/df_voc['voc_count'] "
   ]
  },
  {
   "cell_type": "code",
   "execution_count": 242,
   "metadata": {},
   "outputs": [],
   "source": [
    "# 一小时内通话次数统计量\n",
    "df_voc['voc_hour_count'] = df_voc.groupby(['phone_no_m', 'voc_hour'])['phone_no_m'].transform('count')\n",
    "df_voc['voc_hour_count_max'] = df_voc.groupby('phone_no_m')['voc_hour_count'].transform('max')\n",
    "df_voc['voc_hour_count_min'] = df_voc.groupby('phone_no_m')['voc_hour_count'].transform('min')\n",
    "df_voc['voc_hour_count_mean'] = df_voc.groupby('phone_no_m')['voc_hour_count'].transform('mean')\n",
    "df_voc['voc_hour_count_median'] = df_voc.groupby('phone_no_m')['voc_hour_count'].transform('median')\n",
    "df_voc['voc_hour_count_std'] = df_voc.groupby('phone_no_m')['voc_hour_count'].transform('std')\n",
    "\n",
    "del df_voc['voc_hour_count']"
   ]
  },
  {
   "cell_type": "code",
   "execution_count": 243,
   "metadata": {},
   "outputs": [],
   "source": [
    "#df_voc['voc_dur_sum']=df_voc.groupby(['phone_no_m'])['call_dur'].transform('sum')\n",
    "#df_voc['voc_dur_mean']=df_voc.groupby(['phone_no_m'])['call_dur'].transform('mean')\n",
    "#df_voc['voc_dur_std']=df_voc.groupby(['phone_no_m'])['call_dur'].transform('std')"
   ]
  },
  {
   "cell_type": "code",
   "execution_count": 244,
   "metadata": {},
   "outputs": [],
   "source": [
    "def unique_count(data):\n",
    "    res=len(data.unique())\n",
    "    return res"
   ]
  },
  {
   "cell_type": "code",
   "execution_count": 245,
   "metadata": {},
   "outputs": [],
   "source": [
    "#打电话的总人数\n",
    "df_voc['voc_people_count']=df_voc.groupby('phone_no_m')['opposite_no_m'].transform(unique_count)\n",
    "\n",
    "#给同一个人打电话的次数\n",
    "df_voc['voc_opposite_same_count']=df_voc.groupby(['phone_no_m', 'opposite_no_m'])['phone_no_m'].transform('count')\n",
    "#相关统计量\n",
    "df_voc['voc_opposite_same_count_max']=df_voc.groupby('phone_no_m')['voc_opposite_same_count'].transform('max')\n",
    "df_voc['voc_opposite_same_count_min']=df_voc.groupby('phone_no_m')['voc_opposite_same_count'].transform('min')\n",
    "df_voc['voc_opposite_same_count_mean']=df_voc.groupby('phone_no_m')['voc_opposite_same_count'].transform('mean')\n",
    "df_voc['voc_opposite_same_count_median']=df_voc.groupby('phone_no_m')['voc_opposite_same_count'].transform('median')\n",
    "df_voc['voc_opposite_same_count_std']=df_voc.groupby('phone_no_m')['voc_opposite_same_count'].transform('std')\n",
    "\n",
    "del df_voc['voc_opposite_same_count']\n",
    "\n",
    "#给同一个人打电话的时长\n",
    "df_voc['voc_opposite_same_hour_count']=df_voc.groupby(['phone_no_m', 'opposite_no_m'])['call_dur'].transform('sum')\n",
    "#相关统计量\n",
    "df_voc['voc_opposite_same_hour_max']=df_voc.groupby('phone_no_m')['voc_opposite_same_hour_count'].transform('max')\n",
    "df_voc['voc_opposite_same_hour_min']=df_voc.groupby('phone_no_m')['voc_opposite_same_hour_count'].transform('min')\n",
    "df_voc['voc_opposite_same_hour_median']=df_voc.groupby('phone_no_m')['voc_opposite_same_hour_count'].transform('median')\n",
    "df_voc['voc_opposite_same_hour_mean']=df_voc.groupby('phone_no_m')['voc_opposite_same_hour_count'].transform('mean')\n",
    "df_voc['voc_opposite_same_hour_std']=df_voc.groupby('phone_no_m')['voc_opposite_same_hour_count'].transform('std')\n",
    "\n",
    "del df_voc['voc_opposite_same_hour_count']\n",
    "\n",
    "\n",
    "#一天内打电话的总人数\n",
    "df_voc['voc_day_people_count']=df_voc.groupby(['phone_no_m','voc_day'])['opposite_no_m'].transform(unique_count)\n",
    "#相关统计量\n",
    "df_voc['voc_day_people_count_max']=df_voc.groupby('phone_no_m')['voc_day_people_count'].transform('max')\n",
    "df_voc['voc_day_people_count_min']=df_voc.groupby('phone_no_m')['voc_day_people_count'].transform('min')\n",
    "df_voc['voc_day_people_count_median']=df_voc.groupby('phone_no_m')['voc_day_people_count'].transform('median')\n",
    "df_voc['voc_day_people_count_mean']=df_voc.groupby('phone_no_m')['voc_day_people_count'].transform('mean')\n",
    "df_voc['voc_day_people_count_std']=df_voc.groupby('phone_no_m')['voc_day_people_count'].transform('std')\n",
    "del df_voc['voc_day_people_count']"
   ]
  },
  {
   "cell_type": "code",
   "execution_count": 246,
   "metadata": {},
   "outputs": [],
   "source": [
    "#一天内给同一个人打电话的次数\n",
    "df_voc['voc_day_same_count']=df_voc.groupby(['phone_no_m', 'opposite_no_m','voc_day'])['phone_no_m'].transform('count')\n",
    "#相关统计量\n",
    "df_voc['voc_day_same_count_max']=df_voc.groupby('phone_no_m')['voc_day_same_count'].transform('max')\n",
    "df_voc['voc_day_same_count_min']=df_voc.groupby('phone_no_m')['voc_day_same_count'].transform('min')\n",
    "df_voc['voc_day_same_count_mean']=df_voc.groupby('phone_no_m')['voc_day_same_count'].transform('mean')\n",
    "df_voc['voc_day_same_count_median']=df_voc.groupby('phone_no_m')['voc_day_same_count'].transform('median')\n",
    "df_voc['voc_day_same_count_std']=df_voc.groupby('phone_no_m')['voc_day_same_count'].transform('std')\n",
    "\n",
    "del df_voc['voc_day_same_count']\n",
    "\n",
    "#一天内给同一个人打电话的时长\n",
    "df_voc['voc_day_same_hour_count']=df_voc.groupby(['phone_no_m', 'opposite_no_m','voc_day'])['call_dur'].transform('sum')\n",
    "#相关统计量\n",
    "df_voc['voc_day_same_hour_max']=df_voc.groupby('phone_no_m')['voc_day_same_hour_count'].transform('max')\n",
    "df_voc['voc_day_same_hour_min']=df_voc.groupby('phone_no_m')['voc_day_same_hour_count'].transform('min')\n",
    "df_voc['voc_day_same_hour_mean']=df_voc.groupby('phone_no_m')['voc_day_same_hour_count'].transform('mean')\n",
    "df_voc['voc_day_same_hour_median']=df_voc.groupby('phone_no_m')['voc_day_same_hour_count'].transform('median')\n",
    "df_voc['voc_day_same_hour_std']=df_voc.groupby('phone_no_m')['voc_day_same_hour_count'].transform('std')\n",
    "\n",
    "del df_voc['voc_day_same_hour_count']"
   ]
  },
  {
   "cell_type": "code",
   "execution_count": 247,
   "metadata": {},
   "outputs": [],
   "source": [
    "def mode_func(data):\n",
    "    res=np.argmax(np.bincount(data))\n",
    "    return res"
   ]
  },
  {
   "cell_type": "code",
   "execution_count": 248,
   "metadata": {},
   "outputs": [],
   "source": [
    "#通话次数最多的星期\n",
    "df_voc['voc_week_mode']=df_voc.groupby('phone_no_m')['voc_weekday'].transform(mode_func)"
   ]
  },
  {
   "cell_type": "code",
   "execution_count": 249,
   "metadata": {},
   "outputs": [
    {
     "data": {
      "text/html": [
       "<div>\n",
       "<style scoped>\n",
       "    .dataframe tbody tr th:only-of-type {\n",
       "        vertical-align: middle;\n",
       "    }\n",
       "\n",
       "    .dataframe tbody tr th {\n",
       "        vertical-align: top;\n",
       "    }\n",
       "\n",
       "    .dataframe thead th {\n",
       "        text-align: right;\n",
       "    }\n",
       "</style>\n",
       "<table border=\"1\" class=\"dataframe\">\n",
       "  <thead>\n",
       "    <tr style=\"text-align: right;\">\n",
       "      <th></th>\n",
       "      <th>phone_no_m</th>\n",
       "      <th>opposite_no_m</th>\n",
       "      <th>calltype_id</th>\n",
       "      <th>start_datetime</th>\n",
       "      <th>call_dur</th>\n",
       "      <th>city_name</th>\n",
       "      <th>county_name</th>\n",
       "      <th>imei_m</th>\n",
       "      <th>voc_day</th>\n",
       "      <th>voc_hour</th>\n",
       "      <th>...</th>\n",
       "      <th>voc_day_same_count_min</th>\n",
       "      <th>voc_day_same_count_mean</th>\n",
       "      <th>voc_day_same_count_median</th>\n",
       "      <th>voc_day_same_count_std</th>\n",
       "      <th>voc_day_same_hour_max</th>\n",
       "      <th>voc_day_same_hour_min</th>\n",
       "      <th>voc_day_same_hour_mean</th>\n",
       "      <th>voc_day_same_hour_median</th>\n",
       "      <th>voc_day_same_hour_std</th>\n",
       "      <th>voc_week_mode</th>\n",
       "    </tr>\n",
       "  </thead>\n",
       "  <tbody>\n",
       "    <tr>\n",
       "      <th>0</th>\n",
       "      <td>b3994b4c46e39954cfe0cb8ebd2a79703a2ace6612fa18...</td>\n",
       "      <td>1b01124a6ad0443ad868757c6594a605a0c5179c2b5b57...</td>\n",
       "      <td>1</td>\n",
       "      <td>2020-03-22 21:38:40</td>\n",
       "      <td>175</td>\n",
       "      <td>NaN</td>\n",
       "      <td>NaN</td>\n",
       "      <td>90ba61111dad175330029e10da8264a86dfdb3a281ccb8...</td>\n",
       "      <td>22</td>\n",
       "      <td>21</td>\n",
       "      <td>...</td>\n",
       "      <td>1</td>\n",
       "      <td>1.688000</td>\n",
       "      <td>1.0</td>\n",
       "      <td>0.919467</td>\n",
       "      <td>628</td>\n",
       "      <td>1</td>\n",
       "      <td>120.160000</td>\n",
       "      <td>62.0</td>\n",
       "      <td>132.515696</td>\n",
       "      <td>0</td>\n",
       "    </tr>\n",
       "    <tr>\n",
       "      <th>1</th>\n",
       "      <td>b3994b4c46e39954cfe0cb8ebd2a79703a2ace6612fa18...</td>\n",
       "      <td>1b01124a6ad0443ad868757c6594a605a0c5179c2b5b57...</td>\n",
       "      <td>1</td>\n",
       "      <td>2020-03-23 18:05:41</td>\n",
       "      <td>33</td>\n",
       "      <td>NaN</td>\n",
       "      <td>NaN</td>\n",
       "      <td>90ba61111dad175330029e10da8264a86dfdb3a281ccb8...</td>\n",
       "      <td>23</td>\n",
       "      <td>18</td>\n",
       "      <td>...</td>\n",
       "      <td>1</td>\n",
       "      <td>1.688000</td>\n",
       "      <td>1.0</td>\n",
       "      <td>0.919467</td>\n",
       "      <td>628</td>\n",
       "      <td>1</td>\n",
       "      <td>120.160000</td>\n",
       "      <td>62.0</td>\n",
       "      <td>132.515696</td>\n",
       "      <td>0</td>\n",
       "    </tr>\n",
       "    <tr>\n",
       "      <th>2</th>\n",
       "      <td>c5502a6d3e4cabaf8c0e298c4aac693b6e80835d50d4e4...</td>\n",
       "      <td>f1b73c46a691c068bfd38253e20e882d4993c8d3e58016...</td>\n",
       "      <td>1</td>\n",
       "      <td>2020-03-01 11:24:37</td>\n",
       "      <td>39</td>\n",
       "      <td>NaN</td>\n",
       "      <td>NaN</td>\n",
       "      <td>e1e1149b2c06e9972293c457293abb32ad05b0c82b3b64...</td>\n",
       "      <td>1</td>\n",
       "      <td>11</td>\n",
       "      <td>...</td>\n",
       "      <td>1</td>\n",
       "      <td>1.200000</td>\n",
       "      <td>1.0</td>\n",
       "      <td>0.410391</td>\n",
       "      <td>39</td>\n",
       "      <td>5</td>\n",
       "      <td>18.250000</td>\n",
       "      <td>16.0</td>\n",
       "      <td>8.415994</td>\n",
       "      <td>6</td>\n",
       "    </tr>\n",
       "    <tr>\n",
       "      <th>3</th>\n",
       "      <td>c5502a6d3e4cabaf8c0e298c4aac693b6e80835d50d4e4...</td>\n",
       "      <td>5bc6d97a3017578edfa7979fa43653cd74bad827f18337...</td>\n",
       "      <td>1</td>\n",
       "      <td>2020-03-01 11:23:44</td>\n",
       "      <td>32</td>\n",
       "      <td>NaN</td>\n",
       "      <td>NaN</td>\n",
       "      <td>e1e1149b2c06e9972293c457293abb32ad05b0c82b3b64...</td>\n",
       "      <td>1</td>\n",
       "      <td>11</td>\n",
       "      <td>...</td>\n",
       "      <td>1</td>\n",
       "      <td>1.200000</td>\n",
       "      <td>1.0</td>\n",
       "      <td>0.410391</td>\n",
       "      <td>39</td>\n",
       "      <td>5</td>\n",
       "      <td>18.250000</td>\n",
       "      <td>16.0</td>\n",
       "      <td>8.415994</td>\n",
       "      <td>6</td>\n",
       "    </tr>\n",
       "    <tr>\n",
       "      <th>4</th>\n",
       "      <td>2bdbc0a45d6228970b353d691e2ec229f0cf60790a1a39...</td>\n",
       "      <td>c42eeddeff98feb87860441ea6548f8bda2a080c935e02...</td>\n",
       "      <td>2</td>\n",
       "      <td>2020-03-03 15:34:21</td>\n",
       "      <td>3</td>\n",
       "      <td>NaN</td>\n",
       "      <td>NaN</td>\n",
       "      <td>3e808a14fa2aa61524c70f262539d1c8532b8e3a8c7c87...</td>\n",
       "      <td>3</td>\n",
       "      <td>15</td>\n",
       "      <td>...</td>\n",
       "      <td>1</td>\n",
       "      <td>1.974359</td>\n",
       "      <td>1.0</td>\n",
       "      <td>1.485640</td>\n",
       "      <td>1475</td>\n",
       "      <td>3</td>\n",
       "      <td>318.628205</td>\n",
       "      <td>164.0</td>\n",
       "      <td>418.374129</td>\n",
       "      <td>0</td>\n",
       "    </tr>\n",
       "  </tbody>\n",
       "</table>\n",
       "<p>5 rows × 52 columns</p>\n",
       "</div>"
      ],
      "text/plain": [
       "                                          phone_no_m  \\\n",
       "0  b3994b4c46e39954cfe0cb8ebd2a79703a2ace6612fa18...   \n",
       "1  b3994b4c46e39954cfe0cb8ebd2a79703a2ace6612fa18...   \n",
       "2  c5502a6d3e4cabaf8c0e298c4aac693b6e80835d50d4e4...   \n",
       "3  c5502a6d3e4cabaf8c0e298c4aac693b6e80835d50d4e4...   \n",
       "4  2bdbc0a45d6228970b353d691e2ec229f0cf60790a1a39...   \n",
       "\n",
       "                                       opposite_no_m  calltype_id  \\\n",
       "0  1b01124a6ad0443ad868757c6594a605a0c5179c2b5b57...            1   \n",
       "1  1b01124a6ad0443ad868757c6594a605a0c5179c2b5b57...            1   \n",
       "2  f1b73c46a691c068bfd38253e20e882d4993c8d3e58016...            1   \n",
       "3  5bc6d97a3017578edfa7979fa43653cd74bad827f18337...            1   \n",
       "4  c42eeddeff98feb87860441ea6548f8bda2a080c935e02...            2   \n",
       "\n",
       "       start_datetime  call_dur city_name county_name  \\\n",
       "0 2020-03-22 21:38:40       175       NaN         NaN   \n",
       "1 2020-03-23 18:05:41        33       NaN         NaN   \n",
       "2 2020-03-01 11:24:37        39       NaN         NaN   \n",
       "3 2020-03-01 11:23:44        32       NaN         NaN   \n",
       "4 2020-03-03 15:34:21         3       NaN         NaN   \n",
       "\n",
       "                                              imei_m  voc_day  voc_hour  ...  \\\n",
       "0  90ba61111dad175330029e10da8264a86dfdb3a281ccb8...       22        21  ...   \n",
       "1  90ba61111dad175330029e10da8264a86dfdb3a281ccb8...       23        18  ...   \n",
       "2  e1e1149b2c06e9972293c457293abb32ad05b0c82b3b64...        1        11  ...   \n",
       "3  e1e1149b2c06e9972293c457293abb32ad05b0c82b3b64...        1        11  ...   \n",
       "4  3e808a14fa2aa61524c70f262539d1c8532b8e3a8c7c87...        3        15  ...   \n",
       "\n",
       "   voc_day_same_count_min voc_day_same_count_mean  voc_day_same_count_median  \\\n",
       "0                       1                1.688000                        1.0   \n",
       "1                       1                1.688000                        1.0   \n",
       "2                       1                1.200000                        1.0   \n",
       "3                       1                1.200000                        1.0   \n",
       "4                       1                1.974359                        1.0   \n",
       "\n",
       "   voc_day_same_count_std  voc_day_same_hour_max  voc_day_same_hour_min  \\\n",
       "0                0.919467                    628                      1   \n",
       "1                0.919467                    628                      1   \n",
       "2                0.410391                     39                      5   \n",
       "3                0.410391                     39                      5   \n",
       "4                1.485640                   1475                      3   \n",
       "\n",
       "   voc_day_same_hour_mean  voc_day_same_hour_median  voc_day_same_hour_std  \\\n",
       "0              120.160000                      62.0             132.515696   \n",
       "1              120.160000                      62.0             132.515696   \n",
       "2               18.250000                      16.0               8.415994   \n",
       "3               18.250000                      16.0               8.415994   \n",
       "4              318.628205                     164.0             418.374129   \n",
       "\n",
       "   voc_week_mode  \n",
       "0              0  \n",
       "1              0  \n",
       "2              6  \n",
       "3              6  \n",
       "4              0  \n",
       "\n",
       "[5 rows x 52 columns]"
      ]
     },
     "execution_count": 249,
     "metadata": {},
     "output_type": "execute_result"
    }
   ],
   "source": [
    "df_voc.head()"
   ]
  },
  {
   "cell_type": "code",
   "execution_count": 252,
   "metadata": {},
   "outputs": [],
   "source": [
    "df_train_voc=df_voc[df_voc.phone_no_m.isin(list(train_voc.phone_no_m))]"
   ]
  },
  {
   "cell_type": "code",
   "execution_count": 253,
   "metadata": {},
   "outputs": [],
   "source": [
    "df_train_voc.to_excel(r'E:\\Term2\\数据挖掘\\pre\\df_train_voc.xlsx',index=0)"
   ]
  },
  {
   "cell_type": "code",
   "execution_count": null,
   "metadata": {},
   "outputs": [],
   "source": [
    "df_train_voc.to_cvs(r'E:\\Term2\\数据挖掘\\pre\\df_train_voc.xlsx',index=0)"
   ]
  },
  {
   "cell_type": "markdown",
   "metadata": {},
   "source": [
    "# sms"
   ]
  },
  {
   "cell_type": "code",
   "execution_count": null,
   "metadata": {},
   "outputs": [],
   "source": [
    "train_sms = pd.read_csv(r'E:\\Term2\\数据挖掘\\pre\\rawdata\\train\\train_sms.csv')\n",
    "test_sms = pd.read_csv(r'E:\\Term2\\数据挖掘\\pre\\rawdata\\test\\test_sms.csv')\n",
    "\n",
    "train_sms['request_datetime'] = train_sms['request_datetime'].astype('datetime64')\n",
    "test_sms['request_datetime'] = test_sms['request_datetime'].astype('datetime64')"
   ]
  },
  {
   "cell_type": "code",
   "execution_count": 776,
   "metadata": {},
   "outputs": [
    {
     "data": {
      "text/plain": [
       "Text(0, 0.5, 'Count')"
      ]
     },
     "execution_count": 776,
     "metadata": {},
     "output_type": "execute_result"
    },
    {
     "data": {
      "image/png": "[encoded data removed]",
      "text/plain": [
       "<Figure size 720x576 with 1 Axes>"
      ]
     },
     "metadata": {
      "needs_background": "light"
     },
     "output_type": "display_data"
    }
   ],
   "source": [
    "plt.figure(figsize=(10,8))\n",
    "sns.countplot(train_sms_3['calltype_id'],palette=['#fc96aa','#75bbfd'])\n",
    "plt.tick_params(labelsize=12)\n",
    "plt.xlabel('Calltype_id',size=15,family= 'Times New Roman')\n",
    "plt.ylabel('Count',size=15,family= 'Times New Roman')"
   ]
  },
  {
   "cell_type": "code",
   "execution_count": 254,
   "metadata": {},
   "outputs": [],
   "source": [
    "# 同样只取最后一个月的数据\n",
    "train_sms_3 = train_sms[train_sms['request_datetime'] >= '2020-03-01 00:00:00']\n",
    "train_sms_1 = train_sms[train_sms['request_datetime'] >= '2020-01-01 00:00:00']\n",
    "train_sms_3= train_sms_3.reset_index(drop=True)"
   ]
  },
  {
   "cell_type": "code",
   "execution_count": 777,
   "metadata": {},
   "outputs": [
    {
     "data": {
      "text/plain": [
       "Index(['phone_no_m', 'opposite_no_m', 'calltype_id', 'request_datetime'], dtype='object')"
      ]
     },
     "execution_count": 777,
     "metadata": {},
     "output_type": "execute_result"
    }
   ],
   "source": [
    "train_sms_3.columns"
   ]
  },
  {
   "cell_type": "code",
   "execution_count": 255,
   "metadata": {},
   "outputs": [],
   "source": [
    "df_sms = pd.concat([train_sms_3, test_sms])"
   ]
  },
  {
   "cell_type": "code",
   "execution_count": 256,
   "metadata": {},
   "outputs": [],
   "source": [
    "# 时间切割\n",
    "\n",
    "df_sms['sms_day'] = df_sms['request_datetime'].dt.day\n",
    "df_sms['sms_hour'] = df_sms['request_datetime'].dt.hour\n",
    "#df_sms['sms_ts'] = pd.to_timedelta(df_sms['request_datetime'], unit='ns').dt.total_seconds().astype(int)\n",
    "\n",
    "#df_sms = df_sms.sort_values(by='sms_ts').reset_index(drop=True)"
   ]
  },
  {
   "cell_type": "code",
   "execution_count": 257,
   "metadata": {},
   "outputs": [],
   "source": [
    "# 总量\n",
    "\n",
    "df_sms['sms_count'] = df_sms.groupby('phone_no_m')['phone_no_m'].transform('count')"
   ]
  },
  {
   "cell_type": "code",
   "execution_count": 258,
   "metadata": {},
   "outputs": [],
   "source": [
    "#短信下行比例\n",
    "calltype2=df_sms.loc[df_sms.calltype_id==2]\n",
    "calltype2=calltype2.groupby('phone_no_m')['calltype_id'].agg(calltype_2='count').reset_index()\n",
    "#calltype2.set_index('phone_no_m').groupby('phone_no_m')['calltype_id'].transform('count').reset_index()\n",
    "df_sms=df_sms.merge(calltype2,how='left',on='phone_no_m')\n",
    "df_sms['calltype_2'].fillna(0)\n",
    "df_sms['calltype_2_rate']=df_sms['calltype_2']/df_sms['sms_count'] "
   ]
  },
  {
   "cell_type": "code",
   "execution_count": 259,
   "metadata": {},
   "outputs": [],
   "source": [
    "#df_sms['sms_hour_label']=np.zeros(len(df_sms))\n",
    "#for i in range(len(df_sms)):\n",
    "#    if df_sms['sms_hour'].iloc[i] in [0,1,2,3,4,5,6]:\n",
    "#        df_sms['sms_hour_label'].iloc[i]=0\n",
    "#    elif df_sms['sms_hour'].iloc[i] in [7,8,9,10,11]:\n",
    "#        df_sms['sms_hour_label'].iloc[i]=1\n",
    "#    elif df_sms['sms_hour'].iloc[i] in [12,13,14]:\n",
    "#        df_sms['sms_hour_label'].iloc[i]=2\n",
    "#    elif df_sms['sms_hour'].iloc[i] in [15,16,17,18]:\n",
    "#        df_sms['sms_hour_label'].iloc[i]=3\n",
    "#    elif df_sms['sms_hour'].iloc[i] in [19,20,21,22,23]:\n",
    "#        df_sms['sms_hour_label'].iloc[i]=4"
   ]
  },
  {
   "cell_type": "code",
   "execution_count": 260,
   "metadata": {},
   "outputs": [],
   "source": [
    "df_sms['sms_hour_label']= pd.cut(df_sms['sms_hour'],bins=[0,6,11,14,18,24],labels=[0,1,2,3,4],right=False)"
   ]
  },
  {
   "cell_type": "code",
   "execution_count": 261,
   "metadata": {},
   "outputs": [],
   "source": [
    "# 一天内短信统计量\n",
    "\n",
    "df_sms['sms_day_count'] = df_sms.groupby(['phone_no_m', 'sms_day'])['phone_no_m'].transform('count')\n",
    "df_sms['sms_day_count_max'] = df_sms.groupby('phone_no_m')['sms_day_count'].transform('max')\n",
    "df_sms['sms_day_count_min'] = df_sms.groupby('phone_no_m')['sms_day_count'].transform('min')\n",
    "df_sms['sms_day_count_median'] = df_sms.groupby('phone_no_m')['sms_day_count'].transform('median')\n",
    "df_sms['sms_day_count_mean'] = df_sms.groupby('phone_no_m')['sms_day_count'].transform('mean')\n",
    "df_sms['sms_day_count_std'] = df_sms.groupby('phone_no_m')['sms_day_count'].transform('std')\n",
    "\n",
    "del df_sms['sms_day_count']"
   ]
  },
  {
   "cell_type": "code",
   "execution_count": 262,
   "metadata": {},
   "outputs": [],
   "source": [
    "# 一小时内短信统计量\n",
    "\n",
    "df_sms['sms_hour_count'] = df_sms.groupby(['phone_no_m', 'sms_hour'])['phone_no_m'].transform('count')\n",
    "df_sms['sms_hour_count_max'] = df_sms.groupby('phone_no_m')['sms_hour_count'].transform('max')\n",
    "df_sms['sms_hour_count_min'] = df_sms.groupby('phone_no_m')['sms_hour_count'].transform('min')\n",
    "df_sms['sms_hour_count_mean'] = df_sms.groupby('phone_no_m')['sms_hour_count'].transform('mean')\n",
    "df_sms['sms_hour_count_median'] = df_sms.groupby('phone_no_m')['sms_hour_count'].transform('median')\n",
    "df_sms['sms_hour_count_std'] = df_sms.groupby('phone_no_m')['sms_hour_count'].transform('std')\n",
    "\n",
    "del df_sms['sms_hour_count']"
   ]
  },
  {
   "cell_type": "code",
   "execution_count": 263,
   "metadata": {},
   "outputs": [],
   "source": [
    "#发短信的总人数\n",
    "df_sms['sms_people_count']=df_sms.groupby('phone_no_m')['opposite_no_m'].transform(unique_count)\n",
    "#给同一个人发短信的次数\n",
    "df_sms['sms_same_count']=df_sms.groupby(['phone_no_m', 'opposite_no_m'])['phone_no_m'].transform('count')\n",
    "#相关统计量\n",
    "df_sms['sms_same_count_max']=df_sms.groupby('phone_no_m')['sms_same_count'].transform('max')\n",
    "df_sms['sms_same_count_min']=df_sms.groupby('phone_no_m')['sms_same_count'].transform('min')\n",
    "df_sms['sms_same_count_mean']=df_sms.groupby('phone_no_m')['sms_same_count'].transform('mean')\n",
    "df_sms['sms_same_count_median']=df_sms.groupby('phone_no_m')['sms_same_count'].transform('median')\n",
    "df_sms['sms_same_count_std']=df_sms.groupby('phone_no_m')['sms_same_count'].transform('std')\n",
    "\n",
    "del df_sms['sms_same_count']\n",
    "\n",
    "#一天内发短信的总人数\n",
    "df_sms['sms_day_people_count']=df_sms.groupby(['phone_no_m','sms_day'])['opposite_no_m'].transform(unique_count)\n",
    "#相关统计量\n",
    "df_sms['sms_day_people_count_max']=df_sms.groupby('phone_no_m')['sms_day_people_count'].transform('max')\n",
    "df_sms['sms_day_people_count_min']=df_sms.groupby('phone_no_m')['sms_day_people_count'].transform('min')\n",
    "df_sms['sms_day_people_count_mean']=df_sms.groupby('phone_no_m')['sms_day_people_count'].transform('mean')\n",
    "df_sms['sms_day_people_count_median']=df_sms.groupby('phone_no_m')['sms_day_people_count'].transform('median')\n",
    "df_sms['sms_day_people_count_std']=df_sms.groupby('phone_no_m')['sms_day_people_count'].transform('std')\n",
    "del df_sms['sms_day_people_count']\n",
    "\n",
    "#一天内给同一个人发短信的次数\n",
    "df_sms['sms_day_same_count']=df_sms.groupby(['phone_no_m', 'opposite_no_m','sms_day'])['phone_no_m'].transform('count')\n",
    "#相关统计量\n",
    "df_sms['sms_day_same_count_max']=df_sms.groupby('phone_no_m')['sms_day_same_count'].transform('max')\n",
    "df_sms['sms_day_same_count_min']=df_sms.groupby('phone_no_m')['sms_day_same_count'].transform('min')\n",
    "df_sms['sms_day_same_count_mean']=df_sms.groupby('phone_no_m')['sms_day_same_count'].transform('mean')\n",
    "df_sms['sms_day_same_count_median']=df_sms.groupby('phone_no_m')['sms_day_same_count'].transform('median')\n",
    "df_sms['sms_day_same_count_std']=df_sms.groupby('phone_no_m')['sms_day_same_count'].transform('std')\n",
    "del df_sms['sms_day_same_count']"
   ]
  },
  {
   "cell_type": "code",
   "execution_count": null,
   "metadata": {},
   "outputs": [],
   "source": [
    "df_sms_type2=df_sms.loc[df_sms.calltype_id==2]"
   ]
  },
  {
   "cell_type": "code",
   "execution_count": null,
   "metadata": {},
   "outputs": [],
   "source": [
    "#特征\n",
    "df_sms_type2['sms_2_count']=df_sms_type2.groupby('phone_no_m')['phone_no_m'].transform('count')\n",
    "df_sms_type2[]"
   ]
  },
  {
   "cell_type": "code",
   "execution_count": 264,
   "metadata": {},
   "outputs": [],
   "source": [
    "df_sms['sms_weekday']=df_sms['request_datetime'].dt.dayofweek\n",
    "#通话次数最多的星期\n",
    "df_sms['sms_week_mode']=df_sms.groupby('phone_no_m')['sms_weekday'].transform(mode_func)"
   ]
  },
  {
   "cell_type": "code",
   "execution_count": 265,
   "metadata": {},
   "outputs": [
    {
     "data": {
      "text/html": [
       "<div>\n",
       "<style scoped>\n",
       "    .dataframe tbody tr th:only-of-type {\n",
       "        vertical-align: middle;\n",
       "    }\n",
       "\n",
       "    .dataframe tbody tr th {\n",
       "        vertical-align: top;\n",
       "    }\n",
       "\n",
       "    .dataframe thead th {\n",
       "        text-align: right;\n",
       "    }\n",
       "</style>\n",
       "<table border=\"1\" class=\"dataframe\">\n",
       "  <thead>\n",
       "    <tr style=\"text-align: right;\">\n",
       "      <th></th>\n",
       "      <th>phone_no_m</th>\n",
       "      <th>opposite_no_m</th>\n",
       "      <th>calltype_id</th>\n",
       "      <th>request_datetime</th>\n",
       "      <th>sms_day</th>\n",
       "      <th>sms_hour</th>\n",
       "      <th>sms_count</th>\n",
       "      <th>calltype_2</th>\n",
       "      <th>calltype_2_rate</th>\n",
       "      <th>sms_hour_label</th>\n",
       "      <th>...</th>\n",
       "      <th>sms_day_people_count_mean</th>\n",
       "      <th>sms_day_people_count_median</th>\n",
       "      <th>sms_day_people_count_std</th>\n",
       "      <th>sms_day_same_count_max</th>\n",
       "      <th>sms_day_same_count_min</th>\n",
       "      <th>sms_day_same_count_mean</th>\n",
       "      <th>sms_day_same_count_median</th>\n",
       "      <th>sms_day_same_count_std</th>\n",
       "      <th>sms_weekday</th>\n",
       "      <th>sms_week_mode</th>\n",
       "    </tr>\n",
       "  </thead>\n",
       "  <tbody>\n",
       "    <tr>\n",
       "      <th>0</th>\n",
       "      <td>3c4adabd6c1eb2774054cdc67e8d1df09f89f4fd0b44fa...</td>\n",
       "      <td>df22edbc0e3dd6bc4f2f453e687b743e8442a54834b64f...</td>\n",
       "      <td>2</td>\n",
       "      <td>2020-03-01 10:19:12</td>\n",
       "      <td>1</td>\n",
       "      <td>10</td>\n",
       "      <td>76</td>\n",
       "      <td>76.0</td>\n",
       "      <td>1.000000</td>\n",
       "      <td>1</td>\n",
       "      <td>...</td>\n",
       "      <td>1.552632</td>\n",
       "      <td>1.5</td>\n",
       "      <td>0.597656</td>\n",
       "      <td>7</td>\n",
       "      <td>1</td>\n",
       "      <td>2.526316</td>\n",
       "      <td>2.0</td>\n",
       "      <td>1.595608</td>\n",
       "      <td>6</td>\n",
       "      <td>4</td>\n",
       "    </tr>\n",
       "    <tr>\n",
       "      <th>1</th>\n",
       "      <td>3c4adabd6c1eb2774054cdc67e8d1df09f89f4fd0b44fa...</td>\n",
       "      <td>df22edbc0e3dd6bc4f2f453e687b743e8442a54834b64f...</td>\n",
       "      <td>2</td>\n",
       "      <td>2020-03-01 10:19:12</td>\n",
       "      <td>1</td>\n",
       "      <td>10</td>\n",
       "      <td>76</td>\n",
       "      <td>76.0</td>\n",
       "      <td>1.000000</td>\n",
       "      <td>1</td>\n",
       "      <td>...</td>\n",
       "      <td>1.552632</td>\n",
       "      <td>1.5</td>\n",
       "      <td>0.597656</td>\n",
       "      <td>7</td>\n",
       "      <td>1</td>\n",
       "      <td>2.526316</td>\n",
       "      <td>2.0</td>\n",
       "      <td>1.595608</td>\n",
       "      <td>6</td>\n",
       "      <td>4</td>\n",
       "    </tr>\n",
       "    <tr>\n",
       "      <th>2</th>\n",
       "      <td>e531a69afd185e0e97fb35fd7caa0f5e2e4efc4a1c80f7...</td>\n",
       "      <td>df22edbc0e3dd6bc4f2f453e687b743e8442a54834b64f...</td>\n",
       "      <td>2</td>\n",
       "      <td>2020-03-01 14:29:26</td>\n",
       "      <td>1</td>\n",
       "      <td>14</td>\n",
       "      <td>568</td>\n",
       "      <td>539.0</td>\n",
       "      <td>0.948944</td>\n",
       "      <td>3</td>\n",
       "      <td>...</td>\n",
       "      <td>7.705986</td>\n",
       "      <td>8.0</td>\n",
       "      <td>2.257615</td>\n",
       "      <td>24</td>\n",
       "      <td>1</td>\n",
       "      <td>4.954225</td>\n",
       "      <td>4.0</td>\n",
       "      <td>4.788804</td>\n",
       "      <td>6</td>\n",
       "      <td>3</td>\n",
       "    </tr>\n",
       "    <tr>\n",
       "      <th>3</th>\n",
       "      <td>e531a69afd185e0e97fb35fd7caa0f5e2e4efc4a1c80f7...</td>\n",
       "      <td>df22edbc0e3dd6bc4f2f453e687b743e8442a54834b64f...</td>\n",
       "      <td>2</td>\n",
       "      <td>2020-03-01 14:29:26</td>\n",
       "      <td>1</td>\n",
       "      <td>14</td>\n",
       "      <td>568</td>\n",
       "      <td>539.0</td>\n",
       "      <td>0.948944</td>\n",
       "      <td>3</td>\n",
       "      <td>...</td>\n",
       "      <td>7.705986</td>\n",
       "      <td>8.0</td>\n",
       "      <td>2.257615</td>\n",
       "      <td>24</td>\n",
       "      <td>1</td>\n",
       "      <td>4.954225</td>\n",
       "      <td>4.0</td>\n",
       "      <td>4.788804</td>\n",
       "      <td>6</td>\n",
       "      <td>3</td>\n",
       "    </tr>\n",
       "    <tr>\n",
       "      <th>4</th>\n",
       "      <td>e531a69afd185e0e97fb35fd7caa0f5e2e4efc4a1c80f7...</td>\n",
       "      <td>df22edbc0e3dd6bc4f2f453e687b743e8442a54834b64f...</td>\n",
       "      <td>2</td>\n",
       "      <td>2020-03-01 14:29:26</td>\n",
       "      <td>1</td>\n",
       "      <td>14</td>\n",
       "      <td>568</td>\n",
       "      <td>539.0</td>\n",
       "      <td>0.948944</td>\n",
       "      <td>3</td>\n",
       "      <td>...</td>\n",
       "      <td>7.705986</td>\n",
       "      <td>8.0</td>\n",
       "      <td>2.257615</td>\n",
       "      <td>24</td>\n",
       "      <td>1</td>\n",
       "      <td>4.954225</td>\n",
       "      <td>4.0</td>\n",
       "      <td>4.788804</td>\n",
       "      <td>6</td>\n",
       "      <td>3</td>\n",
       "    </tr>\n",
       "  </tbody>\n",
       "</table>\n",
       "<p>5 rows × 38 columns</p>\n",
       "</div>"
      ],
      "text/plain": [
       "                                          phone_no_m  \\\n",
       "0  3c4adabd6c1eb2774054cdc67e8d1df09f89f4fd0b44fa...   \n",
       "1  3c4adabd6c1eb2774054cdc67e8d1df09f89f4fd0b44fa...   \n",
       "2  e531a69afd185e0e97fb35fd7caa0f5e2e4efc4a1c80f7...   \n",
       "3  e531a69afd185e0e97fb35fd7caa0f5e2e4efc4a1c80f7...   \n",
       "4  e531a69afd185e0e97fb35fd7caa0f5e2e4efc4a1c80f7...   \n",
       "\n",
       "                                       opposite_no_m  calltype_id  \\\n",
       "0  df22edbc0e3dd6bc4f2f453e687b743e8442a54834b64f...            2   \n",
       "1  df22edbc0e3dd6bc4f2f453e687b743e8442a54834b64f...            2   \n",
       "2  df22edbc0e3dd6bc4f2f453e687b743e8442a54834b64f...            2   \n",
       "3  df22edbc0e3dd6bc4f2f453e687b743e8442a54834b64f...            2   \n",
       "4  df22edbc0e3dd6bc4f2f453e687b743e8442a54834b64f...            2   \n",
       "\n",
       "     request_datetime  sms_day  sms_hour  sms_count  calltype_2  \\\n",
       "0 2020-03-01 10:19:12        1        10         76        76.0   \n",
       "1 2020-03-01 10:19:12        1        10         76        76.0   \n",
       "2 2020-03-01 14:29:26        1        14        568       539.0   \n",
       "3 2020-03-01 14:29:26        1        14        568       539.0   \n",
       "4 2020-03-01 14:29:26        1        14        568       539.0   \n",
       "\n",
       "   calltype_2_rate sms_hour_label  ...  sms_day_people_count_mean  \\\n",
       "0         1.000000              1  ...                   1.552632   \n",
       "1         1.000000              1  ...                   1.552632   \n",
       "2         0.948944              3  ...                   7.705986   \n",
       "3         0.948944              3  ...                   7.705986   \n",
       "4         0.948944              3  ...                   7.705986   \n",
       "\n",
       "   sms_day_people_count_median  sms_day_people_count_std  \\\n",
       "0                          1.5                  0.597656   \n",
       "1                          1.5                  0.597656   \n",
       "2                          8.0                  2.257615   \n",
       "3                          8.0                  2.257615   \n",
       "4                          8.0                  2.257615   \n",
       "\n",
       "   sms_day_same_count_max  sms_day_same_count_min  sms_day_same_count_mean  \\\n",
       "0                       7                       1                 2.526316   \n",
       "1                       7                       1                 2.526316   \n",
       "2                      24                       1                 4.954225   \n",
       "3                      24                       1                 4.954225   \n",
       "4                      24                       1                 4.954225   \n",
       "\n",
       "   sms_day_same_count_median  sms_day_same_count_std  sms_weekday  \\\n",
       "0                        2.0                1.595608            6   \n",
       "1                        2.0                1.595608            6   \n",
       "2                        4.0                4.788804            6   \n",
       "3                        4.0                4.788804            6   \n",
       "4                        4.0                4.788804            6   \n",
       "\n",
       "   sms_week_mode  \n",
       "0              4  \n",
       "1              4  \n",
       "2              3  \n",
       "3              3  \n",
       "4              3  \n",
       "\n",
       "[5 rows x 38 columns]"
      ]
     },
     "execution_count": 265,
     "metadata": {},
     "output_type": "execute_result"
    }
   ],
   "source": [
    "df_sms.head()"
   ]
  },
  {
   "cell_type": "code",
   "execution_count": 266,
   "metadata": {},
   "outputs": [],
   "source": [
    "df_train_sms=df_sms.loc[df_sms.phone_no_m.isin(list(train_sms.phone_no_m.unique()))]"
   ]
  },
  {
   "cell_type": "code",
   "execution_count": 267,
   "metadata": {},
   "outputs": [],
   "source": [
    "df_train_sms.to_excel(r'E:\\Term2\\数据挖掘\\pre\\df_train_sms.xlsx',index=0)"
   ]
  },
  {
   "cell_type": "markdown",
   "metadata": {},
   "source": [
    "# app"
   ]
  },
  {
   "cell_type": "code",
   "execution_count": 210,
   "metadata": {},
   "outputs": [],
   "source": [
    "train_app = pd.read_csv(r'E:\\Term2\\数据挖掘\\pre\\rawdata\\train\\train_app.csv')\n",
    "test_app = pd.read_csv(r'E:\\Term2\\数据挖掘\\pre\\rawdata\\test\\test_app.csv')"
   ]
  },
  {
   "cell_type": "code",
   "execution_count": 211,
   "metadata": {},
   "outputs": [
    {
     "data": {
      "text/plain": [
       "1"
      ]
     },
     "execution_count": 211,
     "metadata": {},
     "output_type": "execute_result"
    }
   ],
   "source": [
    "a=train_app.phone_no_m[0]\n",
    "len(train_app.loc[train_app.phone_no_m==a]['busi_name'].unique())"
   ]
  },
  {
   "cell_type": "code",
   "execution_count": 212,
   "metadata": {},
   "outputs": [
    {
     "data": {
      "text/plain": [
       "微信                 38131\n",
       "QQ                 34340\n",
       "DNS                32239\n",
       "高德导航               30288\n",
       "腾讯视频               28786\n",
       "                   ...  \n",
       "Upalytics              1\n",
       "HuLuWa                 1\n",
       "Abc360                 1\n",
       "Papago_Browsing        1\n",
       "7天连锁酒店                 1\n",
       "Name: busi_name, Length: 4994, dtype: int64"
      ]
     },
     "execution_count": 212,
     "metadata": {},
     "output_type": "execute_result"
    }
   ],
   "source": [
    "train_app.busi_name.value_counts()"
   ]
  },
  {
   "cell_type": "code",
   "execution_count": 213,
   "metadata": {
    "scrolled": true
   },
   "outputs": [
    {
     "data": {
      "text/html": [
       "<div>\n",
       "<style scoped>\n",
       "    .dataframe tbody tr th:only-of-type {\n",
       "        vertical-align: middle;\n",
       "    }\n",
       "\n",
       "    .dataframe tbody tr th {\n",
       "        vertical-align: top;\n",
       "    }\n",
       "\n",
       "    .dataframe thead th {\n",
       "        text-align: right;\n",
       "    }\n",
       "</style>\n",
       "<table border=\"1\" class=\"dataframe\">\n",
       "  <thead>\n",
       "    <tr style=\"text-align: right;\">\n",
       "      <th></th>\n",
       "      <th>phone_no_m</th>\n",
       "      <th>busi_name</th>\n",
       "      <th>flow</th>\n",
       "      <th>month_id</th>\n",
       "    </tr>\n",
       "  </thead>\n",
       "  <tbody>\n",
       "    <tr>\n",
       "      <th>0</th>\n",
       "      <td>416cec0f25b93f08bfd9cff44382c5da3a6346beb16a2c...</td>\n",
       "      <td>NaN</td>\n",
       "      <td>0.000000</td>\n",
       "      <td>NaN</td>\n",
       "    </tr>\n",
       "    <tr>\n",
       "      <th>1</th>\n",
       "      <td>26fcb7c6f4125ee5445756d4ff5346c29f2aff7d0f2e31...</td>\n",
       "      <td>NaN</td>\n",
       "      <td>0.000000</td>\n",
       "      <td>NaN</td>\n",
       "    </tr>\n",
       "    <tr>\n",
       "      <th>2</th>\n",
       "      <td>1a58c82eeefdb00ea6abf2e6010a8e808b27e1802b764d...</td>\n",
       "      <td>NaN</td>\n",
       "      <td>0.021529</td>\n",
       "      <td>2019-12</td>\n",
       "    </tr>\n",
       "    <tr>\n",
       "      <th>3</th>\n",
       "      <td>1a58c82eeefdb00ea6abf2e6010a8e808b27e1802b764d...</td>\n",
       "      <td>微信</td>\n",
       "      <td>0.001846</td>\n",
       "      <td>2019-12</td>\n",
       "    </tr>\n",
       "    <tr>\n",
       "      <th>4</th>\n",
       "      <td>1a58c82eeefdb00ea6abf2e6010a8e808b27e1802b764d...</td>\n",
       "      <td>高德导航</td>\n",
       "      <td>0.002288</td>\n",
       "      <td>2019-12</td>\n",
       "    </tr>\n",
       "  </tbody>\n",
       "</table>\n",
       "</div>"
      ],
      "text/plain": [
       "                                          phone_no_m busi_name      flow  \\\n",
       "0  416cec0f25b93f08bfd9cff44382c5da3a6346beb16a2c...       NaN  0.000000   \n",
       "1  26fcb7c6f4125ee5445756d4ff5346c29f2aff7d0f2e31...       NaN  0.000000   \n",
       "2  1a58c82eeefdb00ea6abf2e6010a8e808b27e1802b764d...       NaN  0.021529   \n",
       "3  1a58c82eeefdb00ea6abf2e6010a8e808b27e1802b764d...        微信  0.001846   \n",
       "4  1a58c82eeefdb00ea6abf2e6010a8e808b27e1802b764d...      高德导航  0.002288   \n",
       "\n",
       "  month_id  \n",
       "0      NaN  \n",
       "1      NaN  \n",
       "2  2019-12  \n",
       "3  2019-12  \n",
       "4  2019-12  "
      ]
     },
     "execution_count": 213,
     "metadata": {},
     "output_type": "execute_result"
    }
   ],
   "source": [
    "train_app.head()"
   ]
  },
  {
   "cell_type": "code",
   "execution_count": 214,
   "metadata": {},
   "outputs": [
    {
     "data": {
      "text/plain": [
       "Text(0, 0.5, 'Count')"
      ]
     },
     "execution_count": 214,
     "metadata": {},
     "output_type": "execute_result"
    },
    {
     "data": {
      "image/png": "[encoded data removed]",
      "text/plain": [
       "<Figure size 1440x504 with 1 Axes>"
      ]
     },
     "metadata": {
      "needs_background": "light"
     },
     "output_type": "display_data"
    }
   ],
   "source": [
    "plt.figure(figsize=(20,7))\n",
    "\n",
    "tem=train_app.busi_name.value_counts()\n",
    "tem=tem[tem>2500]\n",
    "tem\n",
    "sns.countplot(train_app[train_app.busi_name.isin(tem.index)].busi_name,order=tem.index)\n",
    "plt.xticks(rotation=60)\n",
    "plt.tick_params(labelsize=12)\n",
    "plt.xlabel('APP',size=17,family= 'Times New Roman')\n",
    "plt.ylabel('Count',size=17,family= 'Times New Roman')"
   ]
  },
  {
   "cell_type": "code",
   "execution_count": 215,
   "metadata": {},
   "outputs": [
    {
     "data": {
      "text/plain": [
       "4995"
      ]
     },
     "execution_count": 215,
     "metadata": {},
     "output_type": "execute_result"
    }
   ],
   "source": [
    "len(train_app.busi_name.unique())"
   ]
  },
  {
   "cell_type": "code",
   "execution_count": 216,
   "metadata": {},
   "outputs": [],
   "source": [
    "# 同样只取最后一个月的数据\n",
    "train_app_3 = train_app[train_app['month_id'] >= '2020-03']\n",
    "train_app_3= train_app_3.reset_index(drop=True)\n",
    "df_app = pd.concat([train_app_3, test_app])"
   ]
  },
  {
   "cell_type": "code",
   "execution_count": 217,
   "metadata": {},
   "outputs": [
    {
     "data": {
      "text/html": [
       "<div>\n",
       "<style scoped>\n",
       "    .dataframe tbody tr th:only-of-type {\n",
       "        vertical-align: middle;\n",
       "    }\n",
       "\n",
       "    .dataframe tbody tr th {\n",
       "        vertical-align: top;\n",
       "    }\n",
       "\n",
       "    .dataframe thead th {\n",
       "        text-align: right;\n",
       "    }\n",
       "</style>\n",
       "<table border=\"1\" class=\"dataframe\">\n",
       "  <thead>\n",
       "    <tr style=\"text-align: right;\">\n",
       "      <th></th>\n",
       "      <th>phone_no_m</th>\n",
       "      <th>busi_name</th>\n",
       "      <th>flow</th>\n",
       "      <th>month_id</th>\n",
       "    </tr>\n",
       "  </thead>\n",
       "  <tbody>\n",
       "    <tr>\n",
       "      <th>0</th>\n",
       "      <td>416cec0f25b93f08bfd9cff44382c5da3a6346beb16a2c...</td>\n",
       "      <td>NaN</td>\n",
       "      <td>0.000000</td>\n",
       "      <td>NaN</td>\n",
       "    </tr>\n",
       "    <tr>\n",
       "      <th>1</th>\n",
       "      <td>26fcb7c6f4125ee5445756d4ff5346c29f2aff7d0f2e31...</td>\n",
       "      <td>NaN</td>\n",
       "      <td>0.000000</td>\n",
       "      <td>NaN</td>\n",
       "    </tr>\n",
       "    <tr>\n",
       "      <th>2</th>\n",
       "      <td>1a58c82eeefdb00ea6abf2e6010a8e808b27e1802b764d...</td>\n",
       "      <td>NaN</td>\n",
       "      <td>0.021529</td>\n",
       "      <td>2019-12</td>\n",
       "    </tr>\n",
       "    <tr>\n",
       "      <th>3</th>\n",
       "      <td>1a58c82eeefdb00ea6abf2e6010a8e808b27e1802b764d...</td>\n",
       "      <td>微信</td>\n",
       "      <td>0.001846</td>\n",
       "      <td>2019-12</td>\n",
       "    </tr>\n",
       "    <tr>\n",
       "      <th>4</th>\n",
       "      <td>1a58c82eeefdb00ea6abf2e6010a8e808b27e1802b764d...</td>\n",
       "      <td>高德导航</td>\n",
       "      <td>0.002288</td>\n",
       "      <td>2019-12</td>\n",
       "    </tr>\n",
       "  </tbody>\n",
       "</table>\n",
       "</div>"
      ],
      "text/plain": [
       "                                          phone_no_m busi_name      flow  \\\n",
       "0  416cec0f25b93f08bfd9cff44382c5da3a6346beb16a2c...       NaN  0.000000   \n",
       "1  26fcb7c6f4125ee5445756d4ff5346c29f2aff7d0f2e31...       NaN  0.000000   \n",
       "2  1a58c82eeefdb00ea6abf2e6010a8e808b27e1802b764d...       NaN  0.021529   \n",
       "3  1a58c82eeefdb00ea6abf2e6010a8e808b27e1802b764d...        微信  0.001846   \n",
       "4  1a58c82eeefdb00ea6abf2e6010a8e808b27e1802b764d...      高德导航  0.002288   \n",
       "\n",
       "  month_id  \n",
       "0      NaN  \n",
       "1      NaN  \n",
       "2  2019-12  \n",
       "3  2019-12  \n",
       "4  2019-12  "
      ]
     },
     "execution_count": 217,
     "metadata": {},
     "output_type": "execute_result"
    }
   ],
   "source": [
    "train_app.head()"
   ]
  },
  {
   "cell_type": "code",
   "execution_count": 218,
   "metadata": {
    "scrolled": false
   },
   "outputs": [],
   "source": [
    "# 流量统计\n",
    "\n",
    "df_app['total_flow'] = df_app.groupby('phone_no_m')['flow'].transform('sum')\n",
    "df_app['flow_max'] = df_app.groupby('phone_no_m')['flow'].transform('max')\n",
    "df_app['flow_min'] = df_app.groupby('phone_no_m')['flow'].transform('min')\n",
    "df_app['flow_mean'] = df_app.groupby('phone_no_m')['flow'].transform('mean')\n",
    "df_app['flow_median'] = df_app.groupby('phone_no_m')['flow'].transform('median')\n",
    "df_app['flow_std'] = df_app.groupby('phone_no_m')['flow'].transform('std')\n",
    "\n",
    "# 应用数\n",
    "df_app['app_count'] = df_app.groupby('phone_no_m')['phone_no_m'].transform('count')"
   ]
  },
  {
   "cell_type": "code",
   "execution_count": 76,
   "metadata": {},
   "outputs": [
    {
     "data": {
      "text/html": [
       "<div>\n",
       "<style scoped>\n",
       "    .dataframe tbody tr th:only-of-type {\n",
       "        vertical-align: middle;\n",
       "    }\n",
       "\n",
       "    .dataframe tbody tr th {\n",
       "        vertical-align: top;\n",
       "    }\n",
       "\n",
       "    .dataframe thead th {\n",
       "        text-align: right;\n",
       "    }\n",
       "</style>\n",
       "<table border=\"1\" class=\"dataframe\">\n",
       "  <thead>\n",
       "    <tr style=\"text-align: right;\">\n",
       "      <th></th>\n",
       "      <th>phone_no_m</th>\n",
       "      <th>busi_name</th>\n",
       "      <th>flow</th>\n",
       "      <th>month_id</th>\n",
       "      <th>total_flow</th>\n",
       "      <th>flow_max</th>\n",
       "      <th>flow_min</th>\n",
       "      <th>flow_mean</th>\n",
       "      <th>flow_std</th>\n",
       "      <th>app_count</th>\n",
       "    </tr>\n",
       "  </thead>\n",
       "  <tbody>\n",
       "    <tr>\n",
       "      <th>0</th>\n",
       "      <td>229a0f324de3c54b4cc4c82dafbf78ee5874fe491e4d9a...</td>\n",
       "      <td>NaN</td>\n",
       "      <td>125.060604</td>\n",
       "      <td>2020-03</td>\n",
       "      <td>5189.21207</td>\n",
       "      <td>2000.995233</td>\n",
       "      <td>0.00074</td>\n",
       "      <td>55.797979</td>\n",
       "      <td>250.141054</td>\n",
       "      <td>93</td>\n",
       "    </tr>\n",
       "    <tr>\n",
       "      <th>1</th>\n",
       "      <td>229a0f324de3c54b4cc4c82dafbf78ee5874fe491e4d9a...</td>\n",
       "      <td>QQ</td>\n",
       "      <td>7.247598</td>\n",
       "      <td>2020-03</td>\n",
       "      <td>5189.21207</td>\n",
       "      <td>2000.995233</td>\n",
       "      <td>0.00074</td>\n",
       "      <td>55.797979</td>\n",
       "      <td>250.141054</td>\n",
       "      <td>93</td>\n",
       "    </tr>\n",
       "    <tr>\n",
       "      <th>2</th>\n",
       "      <td>229a0f324de3c54b4cc4c82dafbf78ee5874fe491e4d9a...</td>\n",
       "      <td>旺信</td>\n",
       "      <td>0.008341</td>\n",
       "      <td>2020-03</td>\n",
       "      <td>5189.21207</td>\n",
       "      <td>2000.995233</td>\n",
       "      <td>0.00074</td>\n",
       "      <td>55.797979</td>\n",
       "      <td>250.141054</td>\n",
       "      <td>93</td>\n",
       "    </tr>\n",
       "    <tr>\n",
       "      <th>3</th>\n",
       "      <td>229a0f324de3c54b4cc4c82dafbf78ee5874fe491e4d9a...</td>\n",
       "      <td>微信</td>\n",
       "      <td>584.027821</td>\n",
       "      <td>2020-03</td>\n",
       "      <td>5189.21207</td>\n",
       "      <td>2000.995233</td>\n",
       "      <td>0.00074</td>\n",
       "      <td>55.797979</td>\n",
       "      <td>250.141054</td>\n",
       "      <td>93</td>\n",
       "    </tr>\n",
       "    <tr>\n",
       "      <th>4</th>\n",
       "      <td>229a0f324de3c54b4cc4c82dafbf78ee5874fe491e4d9a...</td>\n",
       "      <td>起点读书</td>\n",
       "      <td>5.342432</td>\n",
       "      <td>2020-03</td>\n",
       "      <td>5189.21207</td>\n",
       "      <td>2000.995233</td>\n",
       "      <td>0.00074</td>\n",
       "      <td>55.797979</td>\n",
       "      <td>250.141054</td>\n",
       "      <td>93</td>\n",
       "    </tr>\n",
       "  </tbody>\n",
       "</table>\n",
       "</div>"
      ],
      "text/plain": [
       "                                          phone_no_m busi_name        flow  \\\n",
       "0  229a0f324de3c54b4cc4c82dafbf78ee5874fe491e4d9a...       NaN  125.060604   \n",
       "1  229a0f324de3c54b4cc4c82dafbf78ee5874fe491e4d9a...        QQ    7.247598   \n",
       "2  229a0f324de3c54b4cc4c82dafbf78ee5874fe491e4d9a...        旺信    0.008341   \n",
       "3  229a0f324de3c54b4cc4c82dafbf78ee5874fe491e4d9a...        微信  584.027821   \n",
       "4  229a0f324de3c54b4cc4c82dafbf78ee5874fe491e4d9a...      起点读书    5.342432   \n",
       "\n",
       "  month_id  total_flow     flow_max  flow_min  flow_mean    flow_std  \\\n",
       "0  2020-03  5189.21207  2000.995233   0.00074  55.797979  250.141054   \n",
       "1  2020-03  5189.21207  2000.995233   0.00074  55.797979  250.141054   \n",
       "2  2020-03  5189.21207  2000.995233   0.00074  55.797979  250.141054   \n",
       "3  2020-03  5189.21207  2000.995233   0.00074  55.797979  250.141054   \n",
       "4  2020-03  5189.21207  2000.995233   0.00074  55.797979  250.141054   \n",
       "\n",
       "   app_count  \n",
       "0         93  \n",
       "1         93  \n",
       "2         93  \n",
       "3         93  \n",
       "4         93  "
      ]
     },
     "execution_count": 76,
     "metadata": {},
     "output_type": "execute_result"
    }
   ],
   "source": [
    "df_app.head()"
   ]
  },
  {
   "cell_type": "code",
   "execution_count": 38,
   "metadata": {},
   "outputs": [
    {
     "data": {
      "text/plain": [
       "array(['2020-03', '2020-04', nan], dtype=object)"
      ]
     },
     "execution_count": 38,
     "metadata": {},
     "output_type": "execute_result"
    }
   ],
   "source": [
    "df_app.month_id.unique()"
   ]
  },
  {
   "cell_type": "code",
   "execution_count": 106,
   "metadata": {
    "scrolled": true
   },
   "outputs": [
    {
     "data": {
      "text/plain": [
       "[nan,\n",
       " 'QQ',\n",
       " '旺信',\n",
       " '微信',\n",
       " '起点读书',\n",
       " '掌阅iReader',\n",
       " 'qq空间',\n",
       " 'Qzone',\n",
       " '百度地图',\n",
       " '腾讯地图',\n",
       " '高德导航',\n",
       " '腾讯视频',\n",
       " '芒果TV',\n",
       " '爱奇艺视频',\n",
       " 'RTP',\n",
       " 'RTCP',\n",
       " 'RTMFP',\n",
       " '听云',\n",
       " 'QQ音乐',\n",
       " '酷狗音乐',\n",
       " '应用宝',\n",
       " 'oppo应用商店',\n",
       " '魅族应用中心',\n",
       " '支付宝',\n",
       " '财付通',\n",
       " 'WeiXin_Pay_Action',\n",
       " '腾讯动漫',\n",
       " '爱奇艺PPS',\n",
       " 'Other VoIP',\n",
       " '手机百度',\n",
       " '大众点评',\n",
       " '腾讯网',\n",
       " '新浪网',\n",
       " '网易网',\n",
       " '腾讯新闻',\n",
       " '搜狗搜索',\n",
       " '今日头条',\n",
       " '腾讯软件中心',\n",
       " 'UC浏览器',\n",
       " 'QQ浏览器',\n",
       " '网页浏览',\n",
       " 'QQ TongXunLu',\n",
       " 'QQ商店',\n",
       " 'WeiZongYinHang',\n",
       " '阿里巴巴服务',\n",
       " '个推',\n",
       " 'OPPO公共服务',\n",
       " '小米服务',\n",
       " '友盟+',\n",
       " 'Imtmp',\n",
       " '武汉安天信息技术有限责任公司',\n",
       " 'Teddymobile',\n",
       " '中国移动账户管理中心和通行证门户',\n",
       " 'MIS系统',\n",
       " 'wifi万能钥匙广告系统',\n",
       " 'CM Security',\n",
       " '淘宝',\n",
       " '亚马逊购物',\n",
       " '美团',\n",
       " '拼多多',\n",
       " 'NearMe云笔记',\n",
       " '阿里云',\n",
       " 'QiXiuZhiBo',\n",
       " 'KuGouZhiBo',\n",
       " '搜狗输入法',\n",
       " 'WiFI万能钥匙',\n",
       " 'DNS',\n",
       " 'WAP2',\n",
       " 'STUN',\n",
       " 'NTP',\n",
       " 'HTTPS',\n",
       " 'SSL',\n",
       " '谷歌应用',\n",
       " 'Ksmobile',\n",
       " 'YumChina_Browsing',\n",
       " '钞针系统',\n",
       " 'Coloros',\n",
       " '2o7',\n",
       " 'Qchannel',\n",
       " 'FXLTSBL',\n",
       " 'YFCloud',\n",
       " 'QQ群',\n",
       " 'HiLaiDian_Browsing',\n",
       " '咪咕阅读',\n",
       " '熊猫看书',\n",
       " '纵横小说',\n",
       " 'YouTube视频',\n",
       " '百度视频',\n",
       " '微视',\n",
       " '抖音',\n",
       " '火山小视频',\n",
       " '蜻蜓FM',\n",
       " 'VIVO应用商店',\n",
       " '农行掌上银行',\n",
       " '银联网上银行',\n",
       " 'Behavior',\n",
       " '触宝',\n",
       " '百度搜索',\n",
       " '百度新闻',\n",
       " 'Facebook',\n",
       " '众安保险',\n",
       " 'LianShangDuShu',\n",
       " '网宿科技',\n",
       " '对吧',\n",
       " 'Vivo官网',\n",
       " 'MmStat',\n",
       " 'Appsflyer',\n",
       " '步步高集团',\n",
       " '百度钱包',\n",
       " 'Izatcloud',\n",
       " '18Guanjia',\n",
       " '玩咖欢聚',\n",
       " '北京字节跳动科技有限公司',\n",
       " 'ChinaGovSites',\n",
       " '360安全卫士',\n",
       " '京东',\n",
       " '天猫',\n",
       " '四川航空',\n",
       " '航旅纵横',\n",
       " '百度网盘',\n",
       " '微云',\n",
       " 'NOW直播',\n",
       " '西瓜视频',\n",
       " 'TalkingData',\n",
       " 'JPush',\n",
       " 'QQ同步助手',\n",
       " 'HTTP2',\n",
       " '讯飞语音云',\n",
       " 'Crashlytics网络协议',\n",
       " '腾讯灯塔',\n",
       " 'XiGuaShiPin',\n",
       " 'XiGuaShiPin_HTTP_Video',\n",
       " 'FengKongCloud',\n",
       " 'AiTingZhuoYue',\n",
       " 'BaiDuTongJi',\n",
       " 'Tanx',\n",
       " 'ShuiYinXiangJi',\n",
       " '钉钉',\n",
       " 'QQ阅读',\n",
       " 'WeiLiKanKan',\n",
       " 'HereMap',\n",
       " '优酷',\n",
       " '秒拍',\n",
       " 'ICY',\n",
       " '好看视频',\n",
       " '凤凰电台',\n",
       " 'MySpace',\n",
       " '华为应用市场',\n",
       " '中国工商银行',\n",
       " 'QQ旋风',\n",
       " '搜狐网',\n",
       " '人民网',\n",
       " '51com客户端',\n",
       " '百度网址大全',\n",
       " '百度文库',\n",
       " '百度知道',\n",
       " '百度百科',\n",
       " '中国移动',\n",
       " 'Base',\n",
       " '腾讯云',\n",
       " '华为服务',\n",
       " '信析宝',\n",
       " '华扬联众官方网站',\n",
       " '网易考拉海购',\n",
       " '搜狐快站',\n",
       " '日历官网',\n",
       " 'Suishenyun',\n",
       " 'CIBN互联网电视官网',\n",
       " '加和科技',\n",
       " 'ShuiDiChou',\n",
       " '小米商城',\n",
       " '小红书海外购物神器',\n",
       " '铁路12306',\n",
       " '华为网盘',\n",
       " '万年历',\n",
       " 'Google Analytics',\n",
       " 'CNZZ统计',\n",
       " 'B612咔叽',\n",
       " 'SSDP',\n",
       " 'GoogleAdsense',\n",
       " '华为桌面云',\n",
       " 'LkMe',\n",
       " 'TengYunTianXia',\n",
       " 'LeBoTouPing',\n",
       " 'eSpace 华为即时通讯软件',\n",
       " 'Zalo',\n",
       " '豆瓣小组',\n",
       " 'Twitter',\n",
       " 'PP助手',\n",
       " '开心消消乐',\n",
       " '中国建设银行',\n",
       " '平安口袋银行',\n",
       " '126邮箱',\n",
       " 'SIP Control',\n",
       " '华为TE',\n",
       " 'Vippie',\n",
       " '彩信',\n",
       " '中华网',\n",
       " '宝宝树孕育',\n",
       " '口袋购物',\n",
       " '下厨房',\n",
       " '麦当劳麦乐送',\n",
       " '环球时报',\n",
       " '美食杰',\n",
       " '妈妈网',\n",
       " '美食天下',\n",
       " '华为商城',\n",
       " '360搜索',\n",
       " '微店',\n",
       " '2345网址导航',\n",
       " '家长帮',\n",
       " '人民日报',\n",
       " '39健康',\n",
       " '中国移动应用',\n",
       " '中国电信营业厅',\n",
       " 'AdMaster精硕科技',\n",
       " '易企秀',\n",
       " '聚胜万合',\n",
       " 'ShareSDK',\n",
       " '中国青年网',\n",
       " '海峡网',\n",
       " 'Eastday',\n",
       " 'Att',\n",
       " '宝宝巴士',\n",
       " '本地宝',\n",
       " 'Bootcss',\n",
       " 'Cyol',\n",
       " '齐鲁壹点',\n",
       " '新民网',\n",
       " '住哪网',\n",
       " '50Bang',\n",
       " '53Kf',\n",
       " '国双',\n",
       " '快递1000',\n",
       " 'Shobserver',\n",
       " 'appjiagu网',\n",
       " '城际分类信息网',\n",
       " '看看新闻网',\n",
       " '北京天润基业官网',\n",
       " '有赞网',\n",
       " '台海网',\n",
       " '东方财富',\n",
       " '平安服务',\n",
       " '唯品会',\n",
       " '东部山区体育',\n",
       " 'Google翻译',\n",
       " '有道词典',\n",
       " '最美天气',\n",
       " 'MDNS',\n",
       " 'AndroidConCheck',\n",
       " '七牛云存储',\n",
       " 'HelloBike',\n",
       " 'BeiKe',\n",
       " 'CaiNiaoGuoGuo',\n",
       " '陌陌',\n",
       " 'WuLiZiXun',\n",
       " '新浪微博',\n",
       " 'UC影音',\n",
       " '快手',\n",
       " 'DtsCDN',\n",
       " 'MiaoBo',\n",
       " '豌豆荚',\n",
       " '金山网络',\n",
       " '快手动漫',\n",
       " '新浪邮箱',\n",
       " 'QQ邮箱',\n",
       " '沃邮箱',\n",
       " '歪歪',\n",
       " '词典翻译金山词霸',\n",
       " '沪江开心词场',\n",
       " '神马搜索',\n",
       " '太平洋电脑网',\n",
       " 'Cloudflare',\n",
       " '七牛',\n",
       " 'AliBaBaCaiGou',\n",
       " 'BlueKai',\n",
       " '广州通摩信息技术有限公司',\n",
       " '微赞',\n",
       " '中国天气通',\n",
       " 'Leancloud',\n",
       " '11222 cn',\n",
       " '金山办事处',\n",
       " '乐居',\n",
       " '上海宏路数据技术股份有限公司',\n",
       " 'WangShangYinHang',\n",
       " '谷歌安全卫士',\n",
       " '齐家装修',\n",
       " '滴滴出行',\n",
       " '金山云',\n",
       " '映客直播',\n",
       " 'DoubleClick广告',\n",
       " '一起作业学生端',\n",
       " 'WPS Office',\n",
       " 'QQFTN',\n",
       " 'Histats',\n",
       " 'Coap',\n",
       " '海度云分析',\n",
       " 'FengDongcdn',\n",
       " 'XYCDN_Other',\n",
       " 'MiJia',\n",
       " 'NeiXin',\n",
       " 'DaYu',\n",
       " 'TongDun',\n",
       " 'Openinstall',\n",
       " 'WenJuanXing',\n",
       " 'Jabber',\n",
       " '融云即时通讯云',\n",
       " '腾讯文学',\n",
       " 'TianTianKuaiBao',\n",
       " '搜狐视频',\n",
       " 'JJ斗地主',\n",
       " '九游',\n",
       " 'HaiBinXiaoXiaoLe',\n",
       " 'Happyelements',\n",
       " '139邮箱',\n",
       " '知乎',\n",
       " '萤石',\n",
       " 'Glpals',\n",
       " 'Boss直聘',\n",
       " '千丁',\n",
       " '智云众',\n",
       " '苏宁易购',\n",
       " '携程旅行',\n",
       " '去哪儿旅行',\n",
       " '途牛旅游',\n",
       " 'NetBios',\n",
       " 'MLinks',\n",
       " 'QQ游戏',\n",
       " '王者荣耀',\n",
       " '迅游',\n",
       " 'ShouQianBa',\n",
       " 'qq voice',\n",
       " 'Nubia',\n",
       " 'Ppdai',\n",
       " '同程旅游',\n",
       " 'HuaWeiShiPin',\n",
       " 'PaiPaiKanKan',\n",
       " 'QQ中国象棋',\n",
       " '绝地求生社区',\n",
       " 'XinYueJuLeBu',\n",
       " '银联钱包',\n",
       " '招商银行',\n",
       " '民生银行',\n",
       " 'QuanMinShengHuo',\n",
       " 'OUTLOOK邮箱',\n",
       " '58同城',\n",
       " '网易新闻',\n",
       " '汽车之家',\n",
       " 'ServingSys',\n",
       " 'WindowsPhone系统推送消息',\n",
       " '途虎',\n",
       " 'NrData',\n",
       " 'Onesignal',\n",
       " 'APICloud 柚子科技有限公司',\n",
       " '网速大师',\n",
       " 'Shuzilm',\n",
       " '旺信手机版',\n",
       " 'Newrelic',\n",
       " '金融界',\n",
       " 'YangGuangHuiShengHuo',\n",
       " '百度糯米',\n",
       " '掌上链家',\n",
       " 'AdView',\n",
       " 'Trend Micro Update',\n",
       " 'MS Common',\n",
       " 'De',\n",
       " 'TencentClass',\n",
       " 'WangYiQiYu',\n",
       " 'Ptengine',\n",
       " 'KouDaiGuShi',\n",
       " 'BetaMax',\n",
       " '3GPP',\n",
       " 'IMO',\n",
       " '腾讯微博',\n",
       " '沃TV',\n",
       " '全民K歌',\n",
       " '咪咕游戏',\n",
       " 'QQ斗地主',\n",
       " '边锋',\n",
       " 'HuanXiDouDiZhu',\n",
       " '12317Wan_Browsing',\n",
       " '365You',\n",
       " 'Syyx',\n",
       " 'Facetime',\n",
       " '谷歌搜索',\n",
       " 'AccuWeather',\n",
       " '兔展',\n",
       " 'Zendesk',\n",
       " '斐波那契',\n",
       " 'Szzbmy',\n",
       " '手机电视MBBMS',\n",
       " '口袋E行销',\n",
       " '51AiWan',\n",
       " 'Aiclk',\n",
       " 'ZhangShangDaoJuCheng',\n",
       " 'Hangouts环聊',\n",
       " '虾米音乐',\n",
       " '米聊',\n",
       " '点点虫',\n",
       " 'iMessage',\n",
       " 'Apple Siri',\n",
       " '苹果地图',\n",
       " 'AppStore',\n",
       " '盛大',\n",
       " '盛大系列游戏',\n",
       " '中国银行手机银行',\n",
       " 'JingDongQianBao',\n",
       " '邮箱IMAP SSL网络协议',\n",
       " 'Icloud邮箱',\n",
       " 'BitTorrent',\n",
       " '微信电话本',\n",
       " '冲浪导航',\n",
       " '返利网',\n",
       " '饿了么',\n",
       " 'YahooSearch',\n",
       " 'Digicert证书校验网站',\n",
       " 'AppleID Login',\n",
       " '苹果服务',\n",
       " '天气频道',\n",
       " 'Comodoca',\n",
       " 'Adjust',\n",
       " 'Mapbox',\n",
       " 'Sf Express',\n",
       " 'Shuqireader',\n",
       " 'Taou',\n",
       " '风灵创景网',\n",
       " '风灵创景科技有限公司官网',\n",
       " '京东金融',\n",
       " 'ICBCRongELian',\n",
       " 'Shengbeijisudai',\n",
       " '墨迹天气',\n",
       " '我查查',\n",
       " 'ITunes',\n",
       " 'AppleiCloud',\n",
       " 'IOS PushMessage',\n",
       " 'DTLS',\n",
       " 'LaiFeng',\n",
       " 'Find My Friends',\n",
       " 'SPDY',\n",
       " 'AppleCertificate',\n",
       " 'WebRTC',\n",
       " '表情云官网',\n",
       " 'FengChao',\n",
       " 'AliGames',\n",
       " 'MaiMai',\n",
       " '小米视频',\n",
       " '小米应用商店',\n",
       " '风行',\n",
       " 'Cz89',\n",
       " '喔噻',\n",
       " '1LanTV_Streaming',\n",
       " '英威诺',\n",
       " '百度贴吧',\n",
       " 'Sina_WeiBo_HTTP_Video',\n",
       " 'Xiaoka',\n",
       " '网易云音乐',\n",
       " '华夏银行',\n",
       " 'PP视频',\n",
       " '安居客',\n",
       " '易车网',\n",
       " '东方博雅',\n",
       " '移动健身教练',\n",
       " 'Godaddy',\n",
       " 'Usertrust',\n",
       " '哆啦宝',\n",
       " 'Ctags',\n",
       " '小米路由器',\n",
       " '1Rtb',\n",
       " '公安部交通安全综合服务管理平台',\n",
       " '摩拜单车',\n",
       " '斗鱼直播',\n",
       " '天气通',\n",
       " '中华万年历',\n",
       " '追追漫画',\n",
       " 'Akamaihd',\n",
       " 'Shell',\n",
       " '三星应用商店',\n",
       " 'Skype',\n",
       " '苹果固件更新',\n",
       " '什么值得买',\n",
       " '三星集团',\n",
       " '惠普公司',\n",
       " 'Game Mode',\n",
       " 'Sharepoint',\n",
       " '婚礼纪',\n",
       " 'Scrcu',\n",
       " 'Samqaicongen',\n",
       " '腾讯公共流量',\n",
       " 'InMobi广告',\n",
       " 'Office',\n",
       " 'Demdex',\n",
       " '一点资讯',\n",
       " '卡妞微秀',\n",
       " '35HuLian',\n",
       " '小年糕',\n",
       " 'Mpush',\n",
       " '品友互动',\n",
       " '讯飞输入法',\n",
       " 'Ulike_Browsing',\n",
       " 'CMFree',\n",
       " 'Levect',\n",
       " '互动通联壁纸圈',\n",
       " '大智慧',\n",
       " 'Telegram',\n",
       " 'QIYIReader',\n",
       " '酷6视频',\n",
       " '百度手机助手',\n",
       " '疯狂猜图',\n",
       " 'TuYouDouDiZhu_Game',\n",
       " 'vagaa',\n",
       " '掌酷',\n",
       " '红薯中文网',\n",
       " '联发科芯片科技',\n",
       " '中国人寿保险股份有限公司官网',\n",
       " '天气网',\n",
       " 'Growingio',\n",
       " '艺龙',\n",
       " '云系统',\n",
       " 'SheDiao',\n",
       " 'CADkantu',\n",
       " 'Kakao Talk',\n",
       " '搜房网',\n",
       " '虎扑',\n",
       " '新京报',\n",
       " '土巴兔装修网',\n",
       " '房天下',\n",
       " '齐家装修网',\n",
       " '南方财富网',\n",
       " '股城网',\n",
       " 'STongHuaShun',\n",
       " '喜马拉雅听',\n",
       " '中国银联',\n",
       " 'hao123上网导航',\n",
       " '美拍',\n",
       " '易观集团',\n",
       " 'Meitustat',\n",
       " 'Qschou',\n",
       " 'Szy',\n",
       " '各种广告',\n",
       " '360云盘',\n",
       " '百度音乐',\n",
       " '美图秀秀',\n",
       " '美颜相机',\n",
       " 'XueAnQuan',\n",
       " '百度导航',\n",
       " '多益网络',\n",
       " '国信证券',\n",
       " 'Bshare',\n",
       " '育儿网',\n",
       " 'IP查询网站',\n",
       " '金太阳',\n",
       " '聚划算',\n",
       " '快的打车',\n",
       " 'ChinaDaily',\n",
       " '平安好医生',\n",
       " '聚美优品',\n",
       " '360News',\n",
       " 'HuaWei PushMessage',\n",
       " '奇虎壁纸',\n",
       " '360手机卫士',\n",
       " 'Unity3D',\n",
       " 'SnakeOff',\n",
       " '北京白鹭时代信息科技有限公司',\n",
       " 'AiKuCun',\n",
       " 'JiaZhangTong',\n",
       " 'GoForAndroid',\n",
       " '虎牙直播',\n",
       " '飞聊',\n",
       " '天涯社区',\n",
       " '乐视视频',\n",
       " 'Rayjump',\n",
       " '好网友',\n",
       " '搜狐新闻',\n",
       " 'Ymtracking',\n",
       " 'GlobalSign',\n",
       " 'Geotrust',\n",
       " '7Y7',\n",
       " '猫眼电影',\n",
       " '热云',\n",
       " '五谷磨房品牌官网',\n",
       " '分期购物商城',\n",
       " '蚂蜂窝',\n",
       " 'SoHuGouFangZhuShou',\n",
       " 'WuTaCam',\n",
       " 'JingDongDaoJia',\n",
       " '辣妈帮',\n",
       " '妈妈帮',\n",
       " '网上泰康人寿保险',\n",
       " '腾讯手机管家',\n",
       " 'QQWiFiManager',\n",
       " '追书网',\n",
       " '三国鼎立',\n",
       " '360JieTiao',\n",
       " 'TencentFileManager',\n",
       " '1Qianbao',\n",
       " '万里通',\n",
       " '瓜子',\n",
       " '悠易互通广告',\n",
       " 'SuYunBo',\n",
       " 'MM商场',\n",
       " '同步推',\n",
       " '微乐游戏',\n",
       " '新浪新闻',\n",
       " '太平洋汽车网',\n",
       " 'Xhamster',\n",
       " '空中食宿',\n",
       " 'Vungle',\n",
       " 'Moatads',\n",
       " 'Branch',\n",
       " 'TeamViewer',\n",
       " 'Cloudmobi',\n",
       " 'Sobot',\n",
       " '哔哩哔哩动画',\n",
       " 'HanJuTV',\n",
       " '唱吧',\n",
       " '微俱聚',\n",
       " '搜搜',\n",
       " '微医',\n",
       " '好大夫在线',\n",
       " '中国军网',\n",
       " 'Naver',\n",
       " '薄荷科技',\n",
       " 'Intsig',\n",
       " 'Zoom',\n",
       " '51Touxiang',\n",
       " 'Cd120',\n",
       " 'Cpic',\n",
       " '秀米',\n",
       " 'Cloud7',\n",
       " '美篇',\n",
       " '学而思网校',\n",
       " '大象就医',\n",
       " '猿辅导',\n",
       " 'PuFaXinYongKa',\n",
       " '扫描全能王',\n",
       " '小猿搜题',\n",
       " 'PingAnHaoCheZhu',\n",
       " 'ZhangShangDianLi',\n",
       " 'JiLiGuaLa',\n",
       " '新浪视频',\n",
       " '视源股份',\n",
       " 'google play store',\n",
       " '天天爱消除',\n",
       " '迅雷',\n",
       " '中关村在线',\n",
       " '车轮查违章',\n",
       " '英语流利说',\n",
       " 'nice好赞',\n",
       " 'FastlyCDN',\n",
       " 'EClicks',\n",
       " 'Optimizely',\n",
       " 'Omtrdc',\n",
       " 'Urbanairship',\n",
       " '114图片',\n",
       " '色影无忌',\n",
       " '健客网',\n",
       " '嘉宝集团',\n",
       " '酷控手机遥控',\n",
       " '猫酷',\n",
       " 'Tencentmind',\n",
       " 'Nikon',\n",
       " '西部网',\n",
       " '沪江CC课堂',\n",
       " '凡科登录管理平台',\n",
       " 'nice图片',\n",
       " '清澈的水滴',\n",
       " 'Segment',\n",
       " 'Nike+Running',\n",
       " 'Wordpress',\n",
       " 'Adblockplus',\n",
       " '珍爱网',\n",
       " 'YouLiShiPin',\n",
       " 'Mumble',\n",
       " '屈臣氏购物网',\n",
       " 'GuanZhongWang',\n",
       " 'RTMP',\n",
       " '360手机助手',\n",
       " '兴业银行',\n",
       " '广发银行',\n",
       " '前程无忧51job',\n",
       " '小世界',\n",
       " '小世界官网',\n",
       " 'Avast Update',\n",
       " 'ZeGo',\n",
       " 'Vuze',\n",
       " '蘑菇街',\n",
       " 'Duapps',\n",
       " 'Go2Cloud',\n",
       " '中通快递官网',\n",
       " 'Glispa',\n",
       " 'Line',\n",
       " 'QiMaoReader',\n",
       " '酷我音乐',\n",
       " 'bilibili游戏中心',\n",
       " '第一弹',\n",
       " '作业帮',\n",
       " 'Orange',\n",
       " 'Liftoff',\n",
       " 'Snow',\n",
       " 'XianYu',\n",
       " 'Faceu激萌',\n",
       " '追踪APP',\n",
       " 'ZhangShangShengHuo',\n",
       " 'WangZheRongYaoZhuShou',\n",
       " 'TianYiCloudService',\n",
       " '顶点小说',\n",
       " '33言情小说',\n",
       " '凤凰新闻',\n",
       " '智联招聘',\n",
       " '缤客',\n",
       " 'Jquery',\n",
       " 'MSN',\n",
       " '苹果游戏中心',\n",
       " '网易邮箱',\n",
       " '必应搜索',\n",
       " '丁香园',\n",
       " '济宁新闻网',\n",
       " '四川新闻网',\n",
       " '巨盾',\n",
       " 'Xyy001',\n",
       " 'Gansudaily',\n",
       " '医脉通',\n",
       " 'Conac',\n",
       " '鲁大师',\n",
       " 'Flurry',\n",
       " 'Windows更新',\n",
       " 'Msftncsi',\n",
       " 'XiaoMiYunDong',\n",
       " 'LiePin',\n",
       " '交通银行',\n",
       " '8684公交',\n",
       " 'UC头条',\n",
       " '广西新闻网',\n",
       " '精硕科技',\n",
       " '中文书城',\n",
       " '当当',\n",
       " '赛门铁克认证',\n",
       " 'Ssports',\n",
       " '小米盒子',\n",
       " '游族网络',\n",
       " '玩吧',\n",
       " 'eMule',\n",
       " 'Mookie1',\n",
       " '灵集科技',\n",
       " '新数网络',\n",
       " '深圳市微领科技有限公司',\n",
       " '广汽本田官网',\n",
       " 'AnG',\n",
       " '金山毒霸',\n",
       " '猎豹清理大师',\n",
       " '糖豆广场舞',\n",
       " '探探',\n",
       " 'BaiDuMoTu',\n",
       " 'Tangdou_HTTP_Video',\n",
       " 'BaiShanYun',\n",
       " 'Aiclicash',\n",
       " 'WeiDianGo',\n",
       " '凤凰视频',\n",
       " 'Dropbox',\n",
       " '乐变',\n",
       " '密罐下载',\n",
       " 'NB美的路灯',\n",
       " '搜狗手机助手',\n",
       " '掌上英雄联盟',\n",
       " '全球速卖通',\n",
       " '华厦人寿保险',\n",
       " '嘀嗒拼车',\n",
       " 'ZAKER',\n",
       " 'XiaoMiTV',\n",
       " '极光世界',\n",
       " 'Easemob',\n",
       " '铃声多多',\n",
       " '智慧树',\n",
       " 'Snmi',\n",
       " '集享卡',\n",
       " 'OPPOSheQu',\n",
       " '魔力相册',\n",
       " 'WAP1',\n",
       " '神鬼传奇',\n",
       " '搜狗浏览器',\n",
       " '51240便民查询网',\n",
       " 'Lenzmx',\n",
       " 'Apxadtracking',\n",
       " 'DroidVPN',\n",
       " 'MiDuReader',\n",
       " '皮皮影视',\n",
       " '360影视大全',\n",
       " '穿越火线',\n",
       " 'QQ麻将',\n",
       " 'BitAutoTech',\n",
       " '车168',\n",
       " '极验验证码',\n",
       " '花椒直播',\n",
       " 'etoote',\n",
       " 'I单击',\n",
       " '艾客信息咨询',\n",
       " '移动梦网',\n",
       " '3Gmimo',\n",
       " '北京文青博业科技',\n",
       " '56书库',\n",
       " 'QianNiu_Browsing',\n",
       " '智行火车',\n",
       " '看准',\n",
       " '趣看',\n",
       " '和彩云',\n",
       " '抱抱',\n",
       " '网易视频',\n",
       " 'Showself',\n",
       " '91Muzhi',\n",
       " '熊猫驾信',\n",
       " '麦客',\n",
       " 'Fotoable',\n",
       " '新浪游戏',\n",
       " '番茄游戏',\n",
       " '我要啦',\n",
       " 'Qingsongchou',\n",
       " '查询580',\n",
       " '趣点点赚钱',\n",
       " 'JS中国',\n",
       " 'IPIP',\n",
       " 'Weshine',\n",
       " '当当云阅读',\n",
       " 'WeiXinDuShu',\n",
       " '咪咕视频',\n",
       " '土豆视频',\n",
       " '站酷网',\n",
       " 'Video加加云视链开放平台',\n",
       " 'VUEVlog',\n",
       " 'Polyv',\n",
       " '荔枝FM',\n",
       " 'Yahoo 电子信箱',\n",
       " '澎湃新闻',\n",
       " '飞常准',\n",
       " '新浪体育',\n",
       " '又拍',\n",
       " '堆糖',\n",
       " '简书',\n",
       " 'Adobe',\n",
       " '360个人图书馆',\n",
       " '互动百科',\n",
       " '互众广告',\n",
       " '美卓网',\n",
       " '大姨妈',\n",
       " 'Dreamstime',\n",
       " 'Appier',\n",
       " '必要-',\n",
       " 'Bokecc',\n",
       " 'Chaoxing',\n",
       " 'Cr173',\n",
       " '环球网校',\n",
       " '阿凡题',\n",
       " '农产品移动电商平台',\n",
       " '童鞋会博客',\n",
       " 'Hockeyapp',\n",
       " '183Me',\n",
       " '乐视云计算有限公司',\n",
       " '魔方格',\n",
       " 'My0832',\n",
       " 'Optimix',\n",
       " 'Redocn',\n",
       " 'Soyoung',\n",
       " '百分糖',\n",
       " '华人开运网',\n",
       " '温州新闻网',\n",
       " '户外资料网',\n",
       " 'APP林子',\n",
       " '3158招商加盟网',\n",
       " '北京时间',\n",
       " '中国供应商',\n",
       " '可可简笔画',\n",
       " '昵图网',\n",
       " '初中作文网',\n",
       " '百草录',\n",
       " '万流客',\n",
       " '吆喝科技官网',\n",
       " '么么闪信',\n",
       " '51信用卡',\n",
       " '61info',\n",
       " 'NASA',\n",
       " 'Changyou',\n",
       " '律图书馆',\n",
       " 'Jss',\n",
       " 'Yokagames_Browsing',\n",
       " 'AcFun',\n",
       " '小天才',\n",
       " '步步高下载中心',\n",
       " 'Instagram',\n",
       " '多盟',\n",
       " '古诗文网',\n",
       " '搜狗地图',\n",
       " '彩视',\n",
       " 'Keepvid',\n",
       " 'R1CDN',\n",
       " 'VZuWang',\n",
       " '酷狗手机铃声',\n",
       " 'Yahoo',\n",
       " 'AddThis',\n",
       " 'ExoClick',\n",
       " '贝瓦网',\n",
       " 'EdgeCastCDN',\n",
       " 'QuantServe',\n",
       " 'AhCDN',\n",
       " 'MediaMath',\n",
       " 'Quantcast',\n",
       " 'TiqCDN',\n",
       " 'Imrworldwide',\n",
       " 'Adsrvr',\n",
       " 'AD调查',\n",
       " '财新网',\n",
       " '意派',\n",
       " '家庭医生',\n",
       " '凯迪网络',\n",
       " '可可英语',\n",
       " '乐乐课堂',\n",
       " 'CNET科技咨询官网',\n",
       " '新东方在线官网',\n",
       " '听力课堂',\n",
       " '美洽客服',\n",
       " '每日壁纸',\n",
       " '网站监测应用',\n",
       " '兑吧',\n",
       " 'Agkn',\n",
       " '同花顺',\n",
       " 'Flyme',\n",
       " 'ScorecardResearch',\n",
       " 'YouDaoYunBiJi',\n",
       " '云迈天行',\n",
       " '一下科技',\n",
       " 'BoBoShiPin',\n",
       " '中国联通手机营业厅',\n",
       " '天天炫拍',\n",
       " '网上厨房',\n",
       " '积分商城',\n",
       " 'Truste',\n",
       " 'Bootstrapcdn',\n",
       " '01Zhuanche',\n",
       " '中彩网',\n",
       " 'MaiDanBa',\n",
       " 'NaTieZhiTou',\n",
       " '移动彩云',\n",
       " '叮咚音乐',\n",
       " 'TianTianDouDiZhu',\n",
       " 'XianLiao',\n",
       " '随手记',\n",
       " '翼支付',\n",
       " '美柚',\n",
       " '宜泊科技',\n",
       " '柚子街',\n",
       " '稻壳儿',\n",
       " 'Dftoutiao',\n",
       " 'Zoosnet',\n",
       " '益盟操盘手',\n",
       " 'HuiTouTiao',\n",
       " 'FourSquare',\n",
       " 'Adkmob',\n",
       " 'Ospserver',\n",
       " 'Elexapp',\n",
       " 'Localytics',\n",
       " '中国兰花交易网',\n",
       " '惠锁屏',\n",
       " '书香云集',\n",
       " 'HuaDongChuanMei',\n",
       " 'QQ飞车',\n",
       " 'Placehold',\n",
       " '微爱',\n",
       " 'Qqtn',\n",
       " 'Seasidecity',\n",
       " '龙珠直播',\n",
       " '互联星空',\n",
       " 'DreamLeagueSoccer',\n",
       " 'Minecraft',\n",
       " 'MiniWorld',\n",
       " 'Viber',\n",
       " '作业盒子',\n",
       " '网易16163游戏网',\n",
       " 'GeDeng',\n",
       " 'RakNetGame',\n",
       " 'AnQuanShouHu2',\n",
       " 'LaiFenQi',\n",
       " '好豆菜谱',\n",
       " '趣分期',\n",
       " '我要个性网',\n",
       " 'Chunyuyisheng',\n",
       " '有书',\n",
       " 'Pc6',\n",
       " 'Qlchat',\n",
       " '正保远程教育',\n",
       " '艾媒网',\n",
       " '海信传媒网络技术有限公司官网',\n",
       " '飞翔下载',\n",
       " '中华会计网校',\n",
       " '创盛视联数码科技',\n",
       " '新浪财经',\n",
       " 'ZhaoLianJinRong',\n",
       " 'NiWoDai',\n",
       " '天下电子书',\n",
       " '谷歌地图',\n",
       " 'PiPiXia',\n",
       " 'TapTap',\n",
       " 'Adtilt',\n",
       " ...]"
      ]
     },
     "execution_count": 106,
     "metadata": {},
     "output_type": "execute_result"
    }
   ],
   "source": [
    "list(df_app.busi_name.unique())"
   ]
  },
  {
   "cell_type": "markdown",
   "metadata": {},
   "source": [
    "# 合并"
   ]
  },
  {
   "cell_type": "code",
   "execution_count": 619,
   "metadata": {},
   "outputs": [
    {
     "data": {
      "text/plain": [
       "((8151, 6), (985666, 52), (1319506, 38), (512100, 11))"
      ]
     },
     "execution_count": 619,
     "metadata": {},
     "output_type": "execute_result"
    }
   ],
   "source": [
    "df_user.shape, df_voc.shape, df_sms.shape, df_app.shape"
   ]
  },
  {
   "cell_type": "code",
   "execution_count": 692,
   "metadata": {},
   "outputs": [],
   "source": [
    "df_voc_1= df_voc[['phone_no_m', 'calltype_1_rate', #'call_dur',\n",
    "                  'voc_day', \n",
    "                  'voc_hour',\n",
    "                  'voc_weekday',\n",
    "                 'voc_day_count_max',\n",
    "                  #'voc_day_count_min', \n",
    "                  #'voc_day_count_mean',  \n",
    "                  'voc_day_count_median',\n",
    "                  'voc_day_count_std', \n",
    "                 'voc_hour_count_max',\n",
    "                  #'voc_hour_count_min', \n",
    "                 #'voc_hour_count_mean',\n",
    "                  'voc_hour_count_median',\n",
    "                  'voc_hour_count_std',\n",
    "                 'voc_count', \n",
    "                  'voc_people_count',\n",
    "                'voc_opposite_same_count_max',\n",
    "                #'voc_opposite_same_count_min',\n",
    "                'voc_opposite_same_count_mean',\n",
    "                #'voc_opposite_same_count_median',\n",
    "                  'voc_opposite_same_count_std',\n",
    "                \n",
    "                #'voc_opposite_same_hour_max',\n",
    "                #'voc_opposite_same_hour_min',\n",
    "                #'voc_opposite_same_hour_mean',\n",
    "                  'voc_opposite_same_hour_median',\n",
    "                  'voc_opposite_same_hour_std',\n",
    "                 'voc_day_people_count_max',\n",
    "                  #'voc_day_people_count_min',\n",
    "                 #'voc_day_people_count_mean',  \n",
    "                  'voc_day_people_count_median',\n",
    "                  'voc_day_people_count_std',\n",
    "               # 'voc_day_same_count_max','voc_day_same_count_min',\n",
    "                #'voc_day_same_count_mean', \n",
    "                'voc_day_same_count_median',\n",
    "                'voc_day_same_count_std',\n",
    "                'voc_day_same_hour_max',\n",
    "                 #'voc_day_same_hour_min',\n",
    "                'voc_day_same_hour_mean',\n",
    "                  'voc_day_same_hour_median',\n",
    "                  'voc_day_same_hour_std',\n",
    "                #'call_dur_cut',\n",
    "                #'voc_hour_label',\n",
    "                #'voc_week_mode'\n",
    "                 ]].drop_duplicates(subset=['phone_no_m'])"
   ]
  },
  {
   "cell_type": "code",
   "execution_count": 663,
   "metadata": {},
   "outputs": [],
   "source": [
    "df_voc_2= df_voc[['phone_no_m', 'calltype_1_rate', #'call_dur',\n",
    "                  'voc_day', \n",
    "                  'voc_hour',\n",
    "                  'voc_weekday',\n",
    "                 'voc_day_count_max',\n",
    "                  'voc_day_count_min', \n",
    "                  'voc_day_count_mean',  \n",
    "                  'voc_day_count_median',\n",
    "                  'voc_day_count_std', \n",
    "                 'voc_hour_count_max',\n",
    "                  'voc_hour_count_min', \n",
    "                 'voc_hour_count_mean',\n",
    "                  'voc_hour_count_median',\n",
    "                  'voc_hour_count_std',\n",
    "                 'voc_count', \n",
    "                  'voc_people_count',\n",
    "                'voc_opposite_same_count_max',\n",
    "                'voc_opposite_same_count_min',\n",
    "                'voc_opposite_same_count_mean',\n",
    "                'voc_opposite_same_count_median',\n",
    "                  'voc_opposite_same_count_std',\n",
    "                \n",
    "                'voc_opposite_same_hour_max',\n",
    "                'voc_opposite_same_hour_min',\n",
    "                'voc_opposite_same_hour_mean',\n",
    "                  'voc_opposite_same_hour_median',\n",
    "                  'voc_opposite_same_hour_std',\n",
    "                 'voc_day_people_count_max',\n",
    "                  'voc_day_people_count_min',\n",
    "                 'voc_day_people_count_mean',  \n",
    "                  'voc_day_people_count_median',\n",
    "                  'voc_day_people_count_std',\n",
    "               'voc_day_same_count_max','voc_day_same_count_min',\n",
    "            'voc_day_same_count_mean', \n",
    "                'voc_day_same_count_median',\n",
    "                'voc_day_same_count_std',\n",
    "                'voc_day_same_hour_max',\n",
    "                 'voc_day_same_hour_min',\n",
    "                'voc_day_same_hour_mean',\n",
    "                  'voc_day_same_hour_median',\n",
    "                  'voc_day_same_hour_std',\n",
    "                #'call_dur_cut',\n",
    "                #'voc_hour_label',\n",
    "                #'voc_week_mode'\n",
    "                 ]].drop_duplicates(subset=['phone_no_m'])"
   ]
  },
  {
   "cell_type": "code",
   "execution_count": 621,
   "metadata": {},
   "outputs": [],
   "source": [
    "df_train_user= pd.merge(df_user, df_voc_1, how='left', on='phone_no_m')\n",
    "df_train_user=df_train_user[df_train_user.label.notna()]\n",
    "df_train_user.to_excel('E:\\Term2\\数据挖掘\\pre\\df_voc_user.xlsx',index=0)"
   ]
  },
  {
   "cell_type": "code",
   "execution_count": 622,
   "metadata": {},
   "outputs": [
    {
     "data": {
      "text/plain": [
       "array([17., 30.,  9., 24.,  8., 18., nan, 26., 16., 15., 11., 21.,  4.,\n",
       "       28., 13., 14., 10., 22., 23.,  5.,  2.,  7., 27., 31., 29.,  3.,\n",
       "       25., 20.,  6., 19.,  1., 12.])"
      ]
     },
     "execution_count": 622,
     "metadata": {},
     "output_type": "execute_result"
    }
   ],
   "source": [
    "df_train_user.voc_day.unique()"
   ]
  },
  {
   "cell_type": "code",
   "execution_count": 623,
   "metadata": {},
   "outputs": [
    {
     "data": {
      "text/plain": [
       "Text(0.5, 1.0, 'Voc_opposite_same_count_max')"
      ]
     },
     "execution_count": 623,
     "metadata": {},
     "output_type": "execute_result"
    },
    {
     "data": {
      "image/png": "[encoded data removed]",
      "text/plain": [
       "<Figure size 720x576 with 1 Axes>"
      ]
     },
     "metadata": {
      "needs_background": "light"
     },
     "output_type": "display_data"
    }
   ],
   "source": [
    "plt.figure(figsize=(10,8))\n",
    "sns.boxplot(x=df_train_user['label'],y=df_train_user['voc_day_people_count_max'],palette=['#75bbfd','#fc96aa'])\n",
    "plt.tick_params(labelsize=12)\n",
    "plt.xlabel('Label',size=15,family= 'Times New Roman')\n",
    "plt.ylabel(' ')\n",
    "plt.title('Voc_opposite_same_count_max',size=15,family= 'Times New Roman')"
   ]
  },
  {
   "cell_type": "code",
   "execution_count": 624,
   "metadata": {},
   "outputs": [
    {
     "data": {
      "text/plain": [
       "231.7509778357236"
      ]
     },
     "execution_count": 624,
     "metadata": {},
     "output_type": "execute_result"
    }
   ],
   "source": [
    "df_train_user.loc[df_train_user.label==1].voc_people_count.mean()"
   ]
  },
  {
   "cell_type": "code",
   "execution_count": null,
   "metadata": {},
   "outputs": [],
   "source": []
  },
  {
   "cell_type": "code",
   "execution_count": 694,
   "metadata": {},
   "outputs": [],
   "source": [
    "df_sms_1 = df_sms[['phone_no_m', \n",
    "                   'sms_day',\n",
    "                   'sms_hour',\n",
    "                   'sms_weekday',\n",
    "                  'sms_day_count_max', \n",
    "                  'sms_day_count_min', \n",
    "                   #'sms_day_count_mean',\n",
    "                   'sms_day_count_median',\n",
    "                   'sms_day_count_std',\n",
    "                   'sms_count',\n",
    "                 'sms_hour_count_max', \n",
    "                #'sms_hour_count_min',\n",
    "                 #'sms_hour_count_mean', \n",
    "                 'sms_hour_count_median',\n",
    "                   'sms_hour_count_std',\n",
    "                   'sms_people_count', \n",
    "                  'sms_same_count_max',\n",
    "                   #'sms_same_count_min',\n",
    "                 'sms_same_count_mean', \n",
    "                  # 'sms_same_count_median',\n",
    "                   'sms_same_count_std',\n",
    "                 'sms_day_people_count_max',\n",
    "                #'sms_day_people_count_min',\n",
    "                 'sms_day_people_count_mean', \n",
    "                   #'sms_day_people_count_median',\n",
    "                   'sms_day_people_count_std',\n",
    "                 'sms_day_same_count_max',#'sms_day_same_count_min',\n",
    "                 'sms_day_same_count_mean',#'sms_day_same_count_median',\n",
    "                 'sms_day_same_count_std','calltype_2_rate',\n",
    "                # 'sms_hour_label',# 'sms_week_mode'\n",
    "                ]].drop_duplicates(subset=['phone_no_m'])"
   ]
  },
  {
   "cell_type": "code",
   "execution_count": 664,
   "metadata": {},
   "outputs": [],
   "source": [
    "df_sms_2 = df_sms[['phone_no_m', \n",
    "                   'sms_day',\n",
    "                   'sms_hour',\n",
    "                   'sms_weekday',\n",
    "                  'sms_day_count_max', \n",
    "                  'sms_day_count_min', \n",
    "                   'sms_day_count_mean',\n",
    "                   'sms_day_count_median',\n",
    "                   'sms_day_count_std',\n",
    "                   'sms_count',\n",
    "                 'sms_hour_count_max', \n",
    "                'sms_hour_count_min',\n",
    "                 'sms_hour_count_mean', \n",
    "                 'sms_hour_count_median',\n",
    "                   'sms_hour_count_std',\n",
    "                   'sms_people_count', \n",
    "                  'sms_same_count_max',\n",
    "                   'sms_same_count_min',\n",
    "                 'sms_same_count_mean', \n",
    "                  'sms_same_count_median',\n",
    "                   'sms_same_count_std',\n",
    "                 'sms_day_people_count_max',\n",
    "                'sms_day_people_count_min',\n",
    "                 'sms_day_people_count_mean', \n",
    "                   'sms_day_people_count_median',\n",
    "                   'sms_day_people_count_std',\n",
    "                 'sms_day_same_count_max',\n",
    "                   'sms_day_same_count_min',\n",
    "                 'sms_day_same_count_mean',\n",
    "                   'sms_day_same_count_median',\n",
    "                 'sms_day_same_count_std','calltype_2_rate',\n",
    "                # 'sms_hour_label',# 'sms_week_mode'\n",
    "                ]].drop_duplicates(subset=['phone_no_m'])"
   ]
  },
  {
   "cell_type": "code",
   "execution_count": 626,
   "metadata": {},
   "outputs": [],
   "source": [
    "df_sms_user= pd.merge(df_user, df_sms_1, how='left', on='phone_no_m')\n",
    "df_sms_user=df_sms_user[df_sms_user.label.notna()]\n",
    "df_sms_user.to_excel('E:\\Term2\\数据挖掘\\pre\\df_sms_user.xlsx',index=0)"
   ]
  },
  {
   "cell_type": "code",
   "execution_count": 696,
   "metadata": {},
   "outputs": [
    {
     "data": {
      "text/plain": [
       "Text(0.5, 1.0, 'Sms_day_people_count_std')"
      ]
     },
     "execution_count": 696,
     "metadata": {},
     "output_type": "execute_result"
    },
    {
     "data": {
      "image/png": "[encoded data removed]",
      "text/plain": [
       "<Figure size 720x576 with 1 Axes>"
      ]
     },
     "metadata": {
      "needs_background": "light"
     },
     "output_type": "display_data"
    }
   ],
   "source": [
    "plt.figure(figsize=(10,8))\n",
    "sns.boxplot(x=df_sms_user['label'],y=df_sms_user[ 'sms_day_people_count_std'],palette=['#75bbfd','#fc96aa'])\n",
    "plt.tick_params(labelsize=12)#.loc[df_sms_user.sms_same_count_max<2000]\n",
    "plt.xlabel('Label',size=15,family= 'Times New Roman')\n",
    "plt.ylabel(' ')\n",
    "plt.title('Sms_day_people_count_std',size=15,family= 'Times New Roman')"
   ]
  },
  {
   "cell_type": "code",
   "execution_count": 627,
   "metadata": {},
   "outputs": [
    {
     "data": {
      "text/plain": [
       "Text(0.5, 1.0, 'Sms_day_people_count_std<20')"
      ]
     },
     "execution_count": 627,
     "metadata": {},
     "output_type": "execute_result"
    },
    {
     "data": {
      "image/png": "[encoded data removed]",
      "text/plain": [
       "<Figure size 720x576 with 1 Axes>"
      ]
     },
     "metadata": {
      "needs_background": "light"
     },
     "output_type": "display_data"
    }
   ],
   "source": [
    "plt.figure(figsize=(10,8))\n",
    "sns.boxplot(x=df_sms_user.loc[df_sms_user.sms_day_people_count_std<200]['label'],y=df_sms_user.loc[df_sms_user.sms_day_people_count_std<200][ 'sms_day_people_count_std'],palette=['#75bbfd','#fc96aa'])\n",
    "plt.tick_params(labelsize=12)#.loc[df_sms_user.sms_same_count_max<2000]\n",
    "plt.xlabel('Label',size=15,family= 'Times New Roman')\n",
    "plt.ylabel(' ')\n",
    "plt.title('Sms_day_people_count_std<20',size=15,family= 'Times New Roman')\n",
    "\n"
   ]
  },
  {
   "cell_type": "code",
   "execution_count": 355,
   "metadata": {},
   "outputs": [
    {
     "data": {
      "text/html": [
       "<div>\n",
       "<style scoped>\n",
       "    .dataframe tbody tr th:only-of-type {\n",
       "        vertical-align: middle;\n",
       "    }\n",
       "\n",
       "    .dataframe tbody tr th {\n",
       "        vertical-align: top;\n",
       "    }\n",
       "\n",
       "    .dataframe thead th {\n",
       "        text-align: right;\n",
       "    }\n",
       "</style>\n",
       "<table border=\"1\" class=\"dataframe\">\n",
       "  <thead>\n",
       "    <tr style=\"text-align: right;\">\n",
       "      <th></th>\n",
       "      <th>phone_no_m</th>\n",
       "      <th>sms_day</th>\n",
       "      <th>sms_hour</th>\n",
       "      <th>sms_weekday</th>\n",
       "      <th>sms_day_count_max</th>\n",
       "      <th>sms_day_count_min</th>\n",
       "      <th>sms_day_count_mean</th>\n",
       "      <th>sms_day_count_median</th>\n",
       "      <th>sms_day_count_std</th>\n",
       "      <th>sms_count</th>\n",
       "      <th>...</th>\n",
       "      <th>sms_day_people_count_median</th>\n",
       "      <th>sms_day_people_count_std</th>\n",
       "      <th>sms_day_same_count_max</th>\n",
       "      <th>sms_day_same_count_min</th>\n",
       "      <th>sms_day_same_count_mean</th>\n",
       "      <th>sms_day_same_count_median</th>\n",
       "      <th>sms_day_same_count_std</th>\n",
       "      <th>calltype_2_rate</th>\n",
       "      <th>sms_hour_label</th>\n",
       "      <th>sms_week_mode</th>\n",
       "    </tr>\n",
       "  </thead>\n",
       "  <tbody>\n",
       "    <tr>\n",
       "      <th>6136</th>\n",
       "      <td>f7aab09e6732c5ae7b75ad2127eb0e978250cf4f60e99c...</td>\n",
       "      <td>25</td>\n",
       "      <td>16</td>\n",
       "      <td>2</td>\n",
       "      <td>1976</td>\n",
       "      <td>2</td>\n",
       "      <td>1023.877274</td>\n",
       "      <td>709.0</td>\n",
       "      <td>524.845070</td>\n",
       "      <td>14789</td>\n",
       "      <td>...</td>\n",
       "      <td>178.0</td>\n",
       "      <td>126.132028</td>\n",
       "      <td>33</td>\n",
       "      <td>1</td>\n",
       "      <td>4.251200</td>\n",
       "      <td>4.0</td>\n",
       "      <td>1.944347</td>\n",
       "      <td>0.293529</td>\n",
       "      <td>3</td>\n",
       "      <td>0</td>\n",
       "    </tr>\n",
       "    <tr>\n",
       "      <th>36200</th>\n",
       "      <td>57d7b766fe96fa6926234e82c3c5c1d07b54225c173737...</td>\n",
       "      <td>26</td>\n",
       "      <td>14</td>\n",
       "      <td>3</td>\n",
       "      <td>2205</td>\n",
       "      <td>2</td>\n",
       "      <td>1823.128405</td>\n",
       "      <td>2205.0</td>\n",
       "      <td>519.019675</td>\n",
       "      <td>3598</td>\n",
       "      <td>...</td>\n",
       "      <td>2102.0</td>\n",
       "      <td>509.869091</td>\n",
       "      <td>63</td>\n",
       "      <td>1</td>\n",
       "      <td>2.731518</td>\n",
       "      <td>1.0</td>\n",
       "      <td>8.864605</td>\n",
       "      <td>0.334074</td>\n",
       "      <td>3</td>\n",
       "      <td>4</td>\n",
       "    </tr>\n",
       "    <tr>\n",
       "      <th>56135</th>\n",
       "      <td>7c92e46ad3d74108603a5a0b608b4b029ae264f0d00210...</td>\n",
       "      <td>9</td>\n",
       "      <td>13</td>\n",
       "      <td>0</td>\n",
       "      <td>5712</td>\n",
       "      <td>1</td>\n",
       "      <td>4240.157392</td>\n",
       "      <td>5712.0</td>\n",
       "      <td>1518.309698</td>\n",
       "      <td>11106</td>\n",
       "      <td>...</td>\n",
       "      <td>5412.0</td>\n",
       "      <td>1377.474354</td>\n",
       "      <td>45</td>\n",
       "      <td>1</td>\n",
       "      <td>1.257338</td>\n",
       "      <td>1.0</td>\n",
       "      <td>2.856189</td>\n",
       "      <td>0.064470</td>\n",
       "      <td>2</td>\n",
       "      <td>3</td>\n",
       "    </tr>\n",
       "    <tr>\n",
       "      <th>65997</th>\n",
       "      <td>35029bab2931c515aa2e50a9317324d3a42d63721655cf...</td>\n",
       "      <td>24</td>\n",
       "      <td>21</td>\n",
       "      <td>1</td>\n",
       "      <td>7842</td>\n",
       "      <td>1</td>\n",
       "      <td>6517.751165</td>\n",
       "      <td>7842.0</td>\n",
       "      <td>2372.611120</td>\n",
       "      <td>10304</td>\n",
       "      <td>...</td>\n",
       "      <td>7681.0</td>\n",
       "      <td>2327.674467</td>\n",
       "      <td>57</td>\n",
       "      <td>1</td>\n",
       "      <td>1.560947</td>\n",
       "      <td>1.0</td>\n",
       "      <td>4.778260</td>\n",
       "      <td>0.579872</td>\n",
       "      <td>4</td>\n",
       "      <td>4</td>\n",
       "    </tr>\n",
       "    <tr>\n",
       "      <th>154693</th>\n",
       "      <td>951f6c74809e8f43bade3bcd9c8011bef138de4053bf6c...</td>\n",
       "      <td>14</td>\n",
       "      <td>9</td>\n",
       "      <td>5</td>\n",
       "      <td>7387</td>\n",
       "      <td>1</td>\n",
       "      <td>7217.970507</td>\n",
       "      <td>7387.0</td>\n",
       "      <td>1101.417445</td>\n",
       "      <td>7561</td>\n",
       "      <td>...</td>\n",
       "      <td>7266.0</td>\n",
       "      <td>1088.892108</td>\n",
       "      <td>52</td>\n",
       "      <td>1</td>\n",
       "      <td>1.726888</td>\n",
       "      <td>1.0</td>\n",
       "      <td>5.094439</td>\n",
       "      <td>0.253802</td>\n",
       "      <td>1</td>\n",
       "      <td>3</td>\n",
       "    </tr>\n",
       "    <tr>\n",
       "      <th>529790</th>\n",
       "      <td>acbcabd4159574dec28192f1b9f0f18077251efeae1ad6...</td>\n",
       "      <td>18</td>\n",
       "      <td>14</td>\n",
       "      <td>2</td>\n",
       "      <td>7528</td>\n",
       "      <td>15</td>\n",
       "      <td>7513.059658</td>\n",
       "      <td>7528.0</td>\n",
       "      <td>334.721420</td>\n",
       "      <td>7543</td>\n",
       "      <td>...</td>\n",
       "      <td>7401.0</td>\n",
       "      <td>329.642458</td>\n",
       "      <td>44</td>\n",
       "      <td>1</td>\n",
       "      <td>1.316320</td>\n",
       "      <td>1.0</td>\n",
       "      <td>3.359982</td>\n",
       "      <td>0.011401</td>\n",
       "      <td>3</td>\n",
       "      <td>2</td>\n",
       "    </tr>\n",
       "    <tr>\n",
       "      <th>653089</th>\n",
       "      <td>4ae63fc7f1524ad15eee70f0c8d2d0e4a4bc420c16b3d6...</td>\n",
       "      <td>2</td>\n",
       "      <td>12</td>\n",
       "      <td>0</td>\n",
       "      <td>9689</td>\n",
       "      <td>1</td>\n",
       "      <td>9688.000206</td>\n",
       "      <td>9689.0</td>\n",
       "      <td>98.417480</td>\n",
       "      <td>9690</td>\n",
       "      <td>...</td>\n",
       "      <td>9609.0</td>\n",
       "      <td>97.604784</td>\n",
       "      <td>36</td>\n",
       "      <td>1</td>\n",
       "      <td>1.140970</td>\n",
       "      <td>1.0</td>\n",
       "      <td>2.132649</td>\n",
       "      <td>0.227864</td>\n",
       "      <td>2</td>\n",
       "      <td>0</td>\n",
       "    </tr>\n",
       "    <tr>\n",
       "      <th>836754</th>\n",
       "      <td>2f7ead17feea42cc9488b620ddcd824c0e7deed6bf51b9...</td>\n",
       "      <td>18</td>\n",
       "      <td>15</td>\n",
       "      <td>2</td>\n",
       "      <td>4972</td>\n",
       "      <td>35</td>\n",
       "      <td>4937.489315</td>\n",
       "      <td>4972.0</td>\n",
       "      <td>411.366092</td>\n",
       "      <td>5007</td>\n",
       "      <td>...</td>\n",
       "      <td>4781.0</td>\n",
       "      <td>398.117721</td>\n",
       "      <td>41</td>\n",
       "      <td>1</td>\n",
       "      <td>1.559617</td>\n",
       "      <td>1.0</td>\n",
       "      <td>4.176680</td>\n",
       "      <td>0.023367</td>\n",
       "      <td>3</td>\n",
       "      <td>3</td>\n",
       "    </tr>\n",
       "    <tr>\n",
       "      <th>910630</th>\n",
       "      <td>5246bdcae52f1d21e42e732b043ce05af4879f97586c0c...</td>\n",
       "      <td>1</td>\n",
       "      <td>19</td>\n",
       "      <td>2</td>\n",
       "      <td>3567</td>\n",
       "      <td>4</td>\n",
       "      <td>1686.666047</td>\n",
       "      <td>1396.0</td>\n",
       "      <td>773.520424</td>\n",
       "      <td>34436</td>\n",
       "      <td>...</td>\n",
       "      <td>239.0</td>\n",
       "      <td>129.443733</td>\n",
       "      <td>95</td>\n",
       "      <td>1</td>\n",
       "      <td>11.482344</td>\n",
       "      <td>6.0</td>\n",
       "      <td>14.199109</td>\n",
       "      <td>0.318388</td>\n",
       "      <td>4</td>\n",
       "      <td>3</td>\n",
       "    </tr>\n",
       "    <tr>\n",
       "      <th>947801</th>\n",
       "      <td>0094ee4c6902abb1b154bdd79a1144c5dd50e2964dfcae...</td>\n",
       "      <td>26</td>\n",
       "      <td>12</td>\n",
       "      <td>6</td>\n",
       "      <td>10987</td>\n",
       "      <td>1</td>\n",
       "      <td>10948.182115</td>\n",
       "      <td>10987.0</td>\n",
       "      <td>651.566777</td>\n",
       "      <td>11026</td>\n",
       "      <td>...</td>\n",
       "      <td>10732.0</td>\n",
       "      <td>637.086206</td>\n",
       "      <td>147</td>\n",
       "      <td>1</td>\n",
       "      <td>3.937965</td>\n",
       "      <td>1.0</td>\n",
       "      <td>19.324637</td>\n",
       "      <td>0.016234</td>\n",
       "      <td>2</td>\n",
       "      <td>1</td>\n",
       "    </tr>\n",
       "    <tr>\n",
       "      <th>951525</th>\n",
       "      <td>1892e5d9ad54fcb441df2fbb36a51d90c9a74355b49bfa...</td>\n",
       "      <td>1</td>\n",
       "      <td>8</td>\n",
       "      <td>2</td>\n",
       "      <td>17785</td>\n",
       "      <td>17785</td>\n",
       "      <td>17785.000000</td>\n",
       "      <td>17785.0</td>\n",
       "      <td>0.000000</td>\n",
       "      <td>17785</td>\n",
       "      <td>...</td>\n",
       "      <td>17723.0</td>\n",
       "      <td>0.000000</td>\n",
       "      <td>15</td>\n",
       "      <td>1</td>\n",
       "      <td>1.027889</td>\n",
       "      <td>1.0</td>\n",
       "      <td>0.579497</td>\n",
       "      <td>0.220410</td>\n",
       "      <td>1</td>\n",
       "      <td>2</td>\n",
       "    </tr>\n",
       "    <tr>\n",
       "      <th>986652</th>\n",
       "      <td>a21559895cfc7e04ef2750417bcb7a72b37c57948cd4d4...</td>\n",
       "      <td>21</td>\n",
       "      <td>10</td>\n",
       "      <td>1</td>\n",
       "      <td>2771</td>\n",
       "      <td>2</td>\n",
       "      <td>1984.628976</td>\n",
       "      <td>2771.0</td>\n",
       "      <td>955.601505</td>\n",
       "      <td>4873</td>\n",
       "      <td>...</td>\n",
       "      <td>2159.0</td>\n",
       "      <td>747.061028</td>\n",
       "      <td>25</td>\n",
       "      <td>1</td>\n",
       "      <td>1.937821</td>\n",
       "      <td>1.0</td>\n",
       "      <td>2.767991</td>\n",
       "      <td>0.344962</td>\n",
       "      <td>1</td>\n",
       "      <td>4</td>\n",
       "    </tr>\n",
       "    <tr>\n",
       "      <th>987172</th>\n",
       "      <td>7c64d9da306e18d2a0d2e6bf5f08e186e9947e0d1ea2f1...</td>\n",
       "      <td>10</td>\n",
       "      <td>14</td>\n",
       "      <td>4</td>\n",
       "      <td>8921</td>\n",
       "      <td>1</td>\n",
       "      <td>7579.535196</td>\n",
       "      <td>8921.0</td>\n",
       "      <td>1738.467974</td>\n",
       "      <td>14462</td>\n",
       "      <td>...</td>\n",
       "      <td>8587.0</td>\n",
       "      <td>1679.363787</td>\n",
       "      <td>145</td>\n",
       "      <td>1</td>\n",
       "      <td>3.119762</td>\n",
       "      <td>1.0</td>\n",
       "      <td>15.348895</td>\n",
       "      <td>0.374430</td>\n",
       "      <td>3</td>\n",
       "      <td>3</td>\n",
       "    </tr>\n",
       "    <tr>\n",
       "      <th>1002711</th>\n",
       "      <td>13460ef63f4542a03dc5eaef61ec09c149bc4618dbf46d...</td>\n",
       "      <td>1</td>\n",
       "      <td>14</td>\n",
       "      <td>2</td>\n",
       "      <td>15049</td>\n",
       "      <td>7</td>\n",
       "      <td>12899.941132</td>\n",
       "      <td>15049.0</td>\n",
       "      <td>4522.560578</td>\n",
       "      <td>18448</td>\n",
       "      <td>...</td>\n",
       "      <td>14710.0</td>\n",
       "      <td>4410.094075</td>\n",
       "      <td>159</td>\n",
       "      <td>1</td>\n",
       "      <td>3.789137</td>\n",
       "      <td>1.0</td>\n",
       "      <td>20.512787</td>\n",
       "      <td>0.010624</td>\n",
       "      <td>3</td>\n",
       "      <td>3</td>\n",
       "    </tr>\n",
       "    <tr>\n",
       "      <th>1118700</th>\n",
       "      <td>167ca2b8a78916a83ad49f911d6048c4e673f62636a699...</td>\n",
       "      <td>1</td>\n",
       "      <td>20</td>\n",
       "      <td>2</td>\n",
       "      <td>5158</td>\n",
       "      <td>2</td>\n",
       "      <td>5138.140595</td>\n",
       "      <td>5158.0</td>\n",
       "      <td>318.958396</td>\n",
       "      <td>5178</td>\n",
       "      <td>...</td>\n",
       "      <td>5029.0</td>\n",
       "      <td>311.576132</td>\n",
       "      <td>46</td>\n",
       "      <td>1</td>\n",
       "      <td>2.033217</td>\n",
       "      <td>1.0</td>\n",
       "      <td>6.475945</td>\n",
       "      <td>0.011974</td>\n",
       "      <td>4</td>\n",
       "      <td>2</td>\n",
       "    </tr>\n",
       "  </tbody>\n",
       "</table>\n",
       "<p>15 rows × 34 columns</p>\n",
       "</div>"
      ],
      "text/plain": [
       "                                                phone_no_m  sms_day  sms_hour  \\\n",
       "6136     f7aab09e6732c5ae7b75ad2127eb0e978250cf4f60e99c...       25        16   \n",
       "36200    57d7b766fe96fa6926234e82c3c5c1d07b54225c173737...       26        14   \n",
       "56135    7c92e46ad3d74108603a5a0b608b4b029ae264f0d00210...        9        13   \n",
       "65997    35029bab2931c515aa2e50a9317324d3a42d63721655cf...       24        21   \n",
       "154693   951f6c74809e8f43bade3bcd9c8011bef138de4053bf6c...       14         9   \n",
       "529790   acbcabd4159574dec28192f1b9f0f18077251efeae1ad6...       18        14   \n",
       "653089   4ae63fc7f1524ad15eee70f0c8d2d0e4a4bc420c16b3d6...        2        12   \n",
       "836754   2f7ead17feea42cc9488b620ddcd824c0e7deed6bf51b9...       18        15   \n",
       "910630   5246bdcae52f1d21e42e732b043ce05af4879f97586c0c...        1        19   \n",
       "947801   0094ee4c6902abb1b154bdd79a1144c5dd50e2964dfcae...       26        12   \n",
       "951525   1892e5d9ad54fcb441df2fbb36a51d90c9a74355b49bfa...        1         8   \n",
       "986652   a21559895cfc7e04ef2750417bcb7a72b37c57948cd4d4...       21        10   \n",
       "987172   7c64d9da306e18d2a0d2e6bf5f08e186e9947e0d1ea2f1...       10        14   \n",
       "1002711  13460ef63f4542a03dc5eaef61ec09c149bc4618dbf46d...        1        14   \n",
       "1118700  167ca2b8a78916a83ad49f911d6048c4e673f62636a699...        1        20   \n",
       "\n",
       "         sms_weekday  sms_day_count_max  sms_day_count_min  \\\n",
       "6136               2               1976                  2   \n",
       "36200              3               2205                  2   \n",
       "56135              0               5712                  1   \n",
       "65997              1               7842                  1   \n",
       "154693             5               7387                  1   \n",
       "529790             2               7528                 15   \n",
       "653089             0               9689                  1   \n",
       "836754             2               4972                 35   \n",
       "910630             2               3567                  4   \n",
       "947801             6              10987                  1   \n",
       "951525             2              17785              17785   \n",
       "986652             1               2771                  2   \n",
       "987172             4               8921                  1   \n",
       "1002711            2              15049                  7   \n",
       "1118700            2               5158                  2   \n",
       "\n",
       "         sms_day_count_mean  sms_day_count_median  sms_day_count_std  \\\n",
       "6136            1023.877274                 709.0         524.845070   \n",
       "36200           1823.128405                2205.0         519.019675   \n",
       "56135           4240.157392                5712.0        1518.309698   \n",
       "65997           6517.751165                7842.0        2372.611120   \n",
       "154693          7217.970507                7387.0        1101.417445   \n",
       "529790          7513.059658                7528.0         334.721420   \n",
       "653089          9688.000206                9689.0          98.417480   \n",
       "836754          4937.489315                4972.0         411.366092   \n",
       "910630          1686.666047                1396.0         773.520424   \n",
       "947801         10948.182115               10987.0         651.566777   \n",
       "951525         17785.000000               17785.0           0.000000   \n",
       "986652          1984.628976                2771.0         955.601505   \n",
       "987172          7579.535196                8921.0        1738.467974   \n",
       "1002711        12899.941132               15049.0        4522.560578   \n",
       "1118700         5138.140595                5158.0         318.958396   \n",
       "\n",
       "         sms_count  ...  sms_day_people_count_median  \\\n",
       "6136         14789  ...                        178.0   \n",
       "36200         3598  ...                       2102.0   \n",
       "56135        11106  ...                       5412.0   \n",
       "65997        10304  ...                       7681.0   \n",
       "154693        7561  ...                       7266.0   \n",
       "529790        7543  ...                       7401.0   \n",
       "653089        9690  ...                       9609.0   \n",
       "836754        5007  ...                       4781.0   \n",
       "910630       34436  ...                        239.0   \n",
       "947801       11026  ...                      10732.0   \n",
       "951525       17785  ...                      17723.0   \n",
       "986652        4873  ...                       2159.0   \n",
       "987172       14462  ...                       8587.0   \n",
       "1002711      18448  ...                      14710.0   \n",
       "1118700       5178  ...                       5029.0   \n",
       "\n",
       "         sms_day_people_count_std  sms_day_same_count_max  \\\n",
       "6136                   126.132028                      33   \n",
       "36200                  509.869091                      63   \n",
       "56135                 1377.474354                      45   \n",
       "65997                 2327.674467                      57   \n",
       "154693                1088.892108                      52   \n",
       "529790                 329.642458                      44   \n",
       "653089                  97.604784                      36   \n",
       "836754                 398.117721                      41   \n",
       "910630                 129.443733                      95   \n",
       "947801                 637.086206                     147   \n",
       "951525                   0.000000                      15   \n",
       "986652                 747.061028                      25   \n",
       "987172                1679.363787                     145   \n",
       "1002711               4410.094075                     159   \n",
       "1118700                311.576132                      46   \n",
       "\n",
       "         sms_day_same_count_min  sms_day_same_count_mean  \\\n",
       "6136                          1                 4.251200   \n",
       "36200                         1                 2.731518   \n",
       "56135                         1                 1.257338   \n",
       "65997                         1                 1.560947   \n",
       "154693                        1                 1.726888   \n",
       "529790                        1                 1.316320   \n",
       "653089                        1                 1.140970   \n",
       "836754                        1                 1.559617   \n",
       "910630                        1                11.482344   \n",
       "947801                        1                 3.937965   \n",
       "951525                        1                 1.027889   \n",
       "986652                        1                 1.937821   \n",
       "987172                        1                 3.119762   \n",
       "1002711                       1                 3.789137   \n",
       "1118700                       1                 2.033217   \n",
       "\n",
       "         sms_day_same_count_median  sms_day_same_count_std  calltype_2_rate  \\\n",
       "6136                           4.0                1.944347         0.293529   \n",
       "36200                          1.0                8.864605         0.334074   \n",
       "56135                          1.0                2.856189         0.064470   \n",
       "65997                          1.0                4.778260         0.579872   \n",
       "154693                         1.0                5.094439         0.253802   \n",
       "529790                         1.0                3.359982         0.011401   \n",
       "653089                         1.0                2.132649         0.227864   \n",
       "836754                         1.0                4.176680         0.023367   \n",
       "910630                         6.0               14.199109         0.318388   \n",
       "947801                         1.0               19.324637         0.016234   \n",
       "951525                         1.0                0.579497         0.220410   \n",
       "986652                         1.0                2.767991         0.344962   \n",
       "987172                         1.0               15.348895         0.374430   \n",
       "1002711                        1.0               20.512787         0.010624   \n",
       "1118700                        1.0                6.475945         0.011974   \n",
       "\n",
       "         sms_hour_label  sms_week_mode  \n",
       "6136                  3              0  \n",
       "36200                 3              4  \n",
       "56135                 2              3  \n",
       "65997                 4              4  \n",
       "154693                1              3  \n",
       "529790                3              2  \n",
       "653089                2              0  \n",
       "836754                3              3  \n",
       "910630                4              3  \n",
       "947801                2              1  \n",
       "951525                1              2  \n",
       "986652                1              4  \n",
       "987172                3              3  \n",
       "1002711               3              3  \n",
       "1118700               4              2  \n",
       "\n",
       "[15 rows x 34 columns]"
      ]
     },
     "execution_count": 355,
     "metadata": {},
     "output_type": "execute_result"
    }
   ],
   "source": [
    "df_sms_1.loc[df_sms_1.sms_people_count>3000]"
   ]
  },
  {
   "cell_type": "code",
   "execution_count": 628,
   "metadata": {},
   "outputs": [],
   "source": [
    "df_app['flow_median'] = df_app.groupby('phone_no_m')['flow'].transform('median')\n",
    "df_app_1= df_app[['phone_no_m', 'total_flow', 'flow_max', 'flow_min',#'flow_median',\n",
    "                 'flow_mean', \n",
    "                  'flow_std', 'app_count']].drop_duplicates(subset=['phone_no_m'])"
   ]
  },
  {
   "cell_type": "code",
   "execution_count": 629,
   "metadata": {},
   "outputs": [],
   "source": [
    "df_app_user= pd.merge(df_user, df_app_1, how='left', on='phone_no_m')\n",
    "df_app_user=df_app_user[df_app_user.label.notna()]\n",
    "df_app_user.to_excel('E:\\Term2\\数据挖掘\\pre\\df_app_user.xlsx',index=0)"
   ]
  },
  {
   "cell_type": "code",
   "execution_count": 562,
   "metadata": {},
   "outputs": [
    {
     "data": {
      "text/plain": [
       "Text(0.5, 1.0, 'Total_flow')"
      ]
     },
     "execution_count": 562,
     "metadata": {},
     "output_type": "execute_result"
    },
    {
     "data": {
      "image/png": "[encoded data removed]",
      "text/plain": [
       "<Figure size 720x576 with 1 Axes>"
      ]
     },
     "metadata": {
      "needs_background": "light"
     },
     "output_type": "display_data"
    }
   ],
   "source": [
    "plt.figure(figsize=(10,8))\n",
    "sns.boxplot(x=df_app_user['label'],y=df_app_user['total_flow'],palette=['#75bbfd','#fc96aa'])\n",
    "plt.tick_params(labelsize=12)#.loc[df_sms_user.sms_same_count_max<2000]\n",
    "plt.xlabel('Label',size=15,family= 'Times New Roman')\n",
    "plt.ylabel(' ')\n",
    "plt.title('Total_flow',size=15,family= 'Times New Roman')\n",
    "\n"
   ]
  },
  {
   "cell_type": "code",
   "execution_count": 565,
   "metadata": {},
   "outputs": [
    {
     "data": {
      "text/plain": [
       "Text(0.5, 1.0, 'Flow_std')"
      ]
     },
     "execution_count": 565,
     "metadata": {},
     "output_type": "execute_result"
    },
    {
     "data": {
      "image/png": "[encoded data removed]",
      "text/plain": [
       "<Figure size 720x576 with 1 Axes>"
      ]
     },
     "metadata": {
      "needs_background": "light"
     },
     "output_type": "display_data"
    }
   ],
   "source": [
    "plt.figure(figsize=(10,8))\n",
    "sns.distplot(df_app_user.loc[df_app_user.label==1]['flow_mean'],color='#fc96aa')\n",
    "sns.distplot(df_app_user.loc[df_app_user.label==0]['flow_std'],color='#75bbfd')\n",
    "plt.tick_params(labelsize=12)#.loc[df_sms_user.sms_same_count_max<2000]\n",
    "\n",
    "plt.ylabel(' ')\n",
    "plt.title('Flow_std',size=15,family= 'Times New Roman')\n"
   ]
  },
  {
   "cell_type": "code",
   "execution_count": 760,
   "metadata": {},
   "outputs": [
    {
     "data": {
      "text/html": [
       "<div>\n",
       "<style scoped>\n",
       "    .dataframe tbody tr th:only-of-type {\n",
       "        vertical-align: middle;\n",
       "    }\n",
       "\n",
       "    .dataframe tbody tr th {\n",
       "        vertical-align: top;\n",
       "    }\n",
       "\n",
       "    .dataframe thead th {\n",
       "        text-align: right;\n",
       "    }\n",
       "</style>\n",
       "<table border=\"1\" class=\"dataframe\">\n",
       "  <thead>\n",
       "    <tr style=\"text-align: right;\">\n",
       "      <th></th>\n",
       "      <th>phone_no_m</th>\n",
       "      <th>city_name</th>\n",
       "      <th>county_name</th>\n",
       "      <th>idcard_cnt</th>\n",
       "      <th>label</th>\n",
       "      <th>arpu_202004</th>\n",
       "      <th>calltype_1_rate</th>\n",
       "      <th>voc_day</th>\n",
       "      <th>voc_hour</th>\n",
       "      <th>voc_weekday</th>\n",
       "      <th>...</th>\n",
       "      <th>sms_same_count_max</th>\n",
       "      <th>sms_same_count_mean</th>\n",
       "      <th>sms_same_count_std</th>\n",
       "      <th>sms_day_people_count_max</th>\n",
       "      <th>sms_day_people_count_mean</th>\n",
       "      <th>sms_day_people_count_std</th>\n",
       "      <th>sms_day_same_count_max</th>\n",
       "      <th>sms_day_same_count_mean</th>\n",
       "      <th>sms_day_same_count_std</th>\n",
       "      <th>calltype_2_rate</th>\n",
       "    </tr>\n",
       "  </thead>\n",
       "  <tbody>\n",
       "    <tr>\n",
       "      <th>0</th>\n",
       "      <td>672ddbf02a5544d32e4ecc9433b1981bffe23bf912273a...</td>\n",
       "      <td>16</td>\n",
       "      <td>97</td>\n",
       "      <td>1</td>\n",
       "      <td>0.0</td>\n",
       "      <td>45.0</td>\n",
       "      <td>0.380282</td>\n",
       "      <td>17.0</td>\n",
       "      <td>17.0</td>\n",
       "      <td>1.0</td>\n",
       "      <td>...</td>\n",
       "      <td>43.0</td>\n",
       "      <td>20.402985</td>\n",
       "      <td>17.232213</td>\n",
       "      <td>5.0</td>\n",
       "      <td>2.917910</td>\n",
       "      <td>1.062332</td>\n",
       "      <td>11.0</td>\n",
       "      <td>3.358209</td>\n",
       "      <td>2.797429</td>\n",
       "      <td>0.992537</td>\n",
       "    </tr>\n",
       "    <tr>\n",
       "      <th>1</th>\n",
       "      <td>5e1272273e041e82cb275ae877710be98cdaf5b0a8f34d...</td>\n",
       "      <td>10</td>\n",
       "      <td>82</td>\n",
       "      <td>1</td>\n",
       "      <td>0.0</td>\n",
       "      <td>60.0</td>\n",
       "      <td>NaN</td>\n",
       "      <td>30.0</td>\n",
       "      <td>12.0</td>\n",
       "      <td>0.0</td>\n",
       "      <td>...</td>\n",
       "      <td>135.0</td>\n",
       "      <td>60.798319</td>\n",
       "      <td>58.959029</td>\n",
       "      <td>9.0</td>\n",
       "      <td>4.885154</td>\n",
       "      <td>1.843826</td>\n",
       "      <td>11.0</td>\n",
       "      <td>4.182073</td>\n",
       "      <td>2.573179</td>\n",
       "      <td>1.000000</td>\n",
       "    </tr>\n",
       "    <tr>\n",
       "      <th>2</th>\n",
       "      <td>eaab3472ec87b076e69e6e8bb62b14341638fc63661a6c...</td>\n",
       "      <td>11</td>\n",
       "      <td>160</td>\n",
       "      <td>2</td>\n",
       "      <td>0.0</td>\n",
       "      <td>63.0</td>\n",
       "      <td>0.431818</td>\n",
       "      <td>9.0</td>\n",
       "      <td>17.0</td>\n",
       "      <td>0.0</td>\n",
       "      <td>...</td>\n",
       "      <td>53.0</td>\n",
       "      <td>17.310469</td>\n",
       "      <td>19.484228</td>\n",
       "      <td>9.0</td>\n",
       "      <td>5.115523</td>\n",
       "      <td>2.030834</td>\n",
       "      <td>9.0</td>\n",
       "      <td>3.231047</td>\n",
       "      <td>2.177964</td>\n",
       "      <td>0.913357</td>\n",
       "    </tr>\n",
       "    <tr>\n",
       "      <th>3</th>\n",
       "      <td>0ce1bb415704178bf44e9c9b431a39b083a132c8e6d99f...</td>\n",
       "      <td>11</td>\n",
       "      <td>181</td>\n",
       "      <td>2</td>\n",
       "      <td>0.0</td>\n",
       "      <td>23.2</td>\n",
       "      <td>0.235800</td>\n",
       "      <td>24.0</td>\n",
       "      <td>10.0</td>\n",
       "      <td>1.0</td>\n",
       "      <td>...</td>\n",
       "      <td>92.0</td>\n",
       "      <td>36.458194</td>\n",
       "      <td>35.346916</td>\n",
       "      <td>22.0</td>\n",
       "      <td>10.941472</td>\n",
       "      <td>3.972045</td>\n",
       "      <td>10.0</td>\n",
       "      <td>3.518395</td>\n",
       "      <td>2.539899</td>\n",
       "      <td>0.998328</td>\n",
       "    </tr>\n",
       "    <tr>\n",
       "      <th>4</th>\n",
       "      <td>28b87f35f63f65096a53e3a4c97eaffd4a6c43ffa7e92d...</td>\n",
       "      <td>10</td>\n",
       "      <td>82</td>\n",
       "      <td>1</td>\n",
       "      <td>0.0</td>\n",
       "      <td>50.0</td>\n",
       "      <td>0.500000</td>\n",
       "      <td>8.0</td>\n",
       "      <td>17.0</td>\n",
       "      <td>6.0</td>\n",
       "      <td>...</td>\n",
       "      <td>42.0</td>\n",
       "      <td>29.776471</td>\n",
       "      <td>14.859963</td>\n",
       "      <td>3.0</td>\n",
       "      <td>2.023529</td>\n",
       "      <td>0.616759</td>\n",
       "      <td>12.0</td>\n",
       "      <td>4.082353</td>\n",
       "      <td>3.770852</td>\n",
       "      <td>1.000000</td>\n",
       "    </tr>\n",
       "  </tbody>\n",
       "</table>\n",
       "<p>5 rows × 54 columns</p>\n",
       "</div>"
      ],
      "text/plain": [
       "                                          phone_no_m  city_name  county_name  \\\n",
       "0  672ddbf02a5544d32e4ecc9433b1981bffe23bf912273a...         16           97   \n",
       "1  5e1272273e041e82cb275ae877710be98cdaf5b0a8f34d...         10           82   \n",
       "2  eaab3472ec87b076e69e6e8bb62b14341638fc63661a6c...         11          160   \n",
       "3  0ce1bb415704178bf44e9c9b431a39b083a132c8e6d99f...         11          181   \n",
       "4  28b87f35f63f65096a53e3a4c97eaffd4a6c43ffa7e92d...         10           82   \n",
       "\n",
       "   idcard_cnt  label  arpu_202004  calltype_1_rate  voc_day  voc_hour  \\\n",
       "0           1    0.0         45.0         0.380282     17.0      17.0   \n",
       "1           1    0.0         60.0              NaN     30.0      12.0   \n",
       "2           2    0.0         63.0         0.431818      9.0      17.0   \n",
       "3           2    0.0         23.2         0.235800     24.0      10.0   \n",
       "4           1    0.0         50.0         0.500000      8.0      17.0   \n",
       "\n",
       "   voc_weekday  ...  sms_same_count_max  sms_same_count_mean  \\\n",
       "0          1.0  ...                43.0            20.402985   \n",
       "1          0.0  ...               135.0            60.798319   \n",
       "2          0.0  ...                53.0            17.310469   \n",
       "3          1.0  ...                92.0            36.458194   \n",
       "4          6.0  ...                42.0            29.776471   \n",
       "\n",
       "   sms_same_count_std  sms_day_people_count_max  sms_day_people_count_mean  \\\n",
       "0           17.232213                       5.0                   2.917910   \n",
       "1           58.959029                       9.0                   4.885154   \n",
       "2           19.484228                       9.0                   5.115523   \n",
       "3           35.346916                      22.0                  10.941472   \n",
       "4           14.859963                       3.0                   2.023529   \n",
       "\n",
       "   sms_day_people_count_std  sms_day_same_count_max  sms_day_same_count_mean  \\\n",
       "0                  1.062332                    11.0                 3.358209   \n",
       "1                  1.843826                    11.0                 4.182073   \n",
       "2                  2.030834                     9.0                 3.231047   \n",
       "3                  3.972045                    10.0                 3.518395   \n",
       "4                  0.616759                    12.0                 4.082353   \n",
       "\n",
       "   sms_day_same_count_std  calltype_2_rate  \n",
       "0                2.797429         0.992537  \n",
       "1                2.573179         1.000000  \n",
       "2                2.177964         0.913357  \n",
       "3                2.539899         0.998328  \n",
       "4                3.770852         1.000000  \n",
       "\n",
       "[5 rows x 54 columns]"
      ]
     },
     "execution_count": 760,
     "metadata": {},
     "output_type": "execute_result"
    }
   ],
   "source": [
    "df = pd.merge(df_user, df_voc_1, how='left', on='phone_no_m')\n",
    "df = pd.merge(df, df_sms_1, how='left', on='phone_no_m')\n",
    "#df = pd.merge(df, df_app_1, how='left', on='phone_no_m')\n",
    "\n",
    "df.head()"
   ]
  },
  {
   "cell_type": "code",
   "execution_count": 761,
   "metadata": {},
   "outputs": [
    {
     "data": {
      "text/plain": [
       "((6106, 54), (2045, 54))"
      ]
     },
     "execution_count": 761,
     "metadata": {},
     "output_type": "execute_result"
    }
   ],
   "source": [
    "df_train = df[df.label.notna()]\n",
    "df_test = df[df.label.isna()]\n",
    "df_train.shape, df_test.shape"
   ]
  },
  {
   "cell_type": "code",
   "execution_count": 632,
   "metadata": {},
   "outputs": [],
   "source": [
    "#na_feature=df.columns[df.isnull().any()]\n",
    "#na_feature=na_feature[1:]"
   ]
  },
  {
   "cell_type": "markdown",
   "metadata": {},
   "source": [
    "# 建模"
   ]
  },
  {
   "cell_type": "code",
   "execution_count": 667,
   "metadata": {},
   "outputs": [],
   "source": [
    "ycol = 'label'\n",
    "feature_names = list(\n",
    "    filter(lambda x: x not in [ycol, 'phone_no_m'], df_train.columns))"
   ]
  },
  {
   "cell_type": "code",
   "execution_count": 668,
   "metadata": {},
   "outputs": [
    {
     "name": "stdout",
     "output_type": "stream",
     "text": [
      "Imputing row 1/8151 with 0 missing, elapsed time: 43.378\n",
      "Imputing row 101/8151 with 7 missing, elapsed time: 43.694\n",
      "Imputing row 201/8151 with 0 missing, elapsed time: 43.976\n",
      "Imputing row 301/8151 with 0 missing, elapsed time: 44.530\n",
      "Imputing row 401/8151 with 0 missing, elapsed time: 44.909\n",
      "Imputing row 501/8151 with 0 missing, elapsed time: 45.187\n",
      "Imputing row 601/8151 with 0 missing, elapsed time: 45.560\n",
      "Imputing row 701/8151 with 0 missing, elapsed time: 45.813\n",
      "Imputing row 801/8151 with 0 missing, elapsed time: 46.024\n",
      "Imputing row 901/8151 with 0 missing, elapsed time: 46.473\n",
      "Imputing row 1001/8151 with 0 missing, elapsed time: 46.952\n",
      "Imputing row 1101/8151 with 1 missing, elapsed time: 47.192\n",
      "Imputing row 1201/8151 with 0 missing, elapsed time: 47.464\n",
      "Imputing row 1301/8151 with 0 missing, elapsed time: 47.873\n",
      "Imputing row 1401/8151 with 0 missing, elapsed time: 48.187\n",
      "Imputing row 1501/8151 with 0 missing, elapsed time: 48.461\n",
      "Imputing row 1601/8151 with 0 missing, elapsed time: 48.667\n",
      "Imputing row 1701/8151 with 7 missing, elapsed time: 48.808\n",
      "Imputing row 1801/8151 with 0 missing, elapsed time: 48.957\n",
      "Imputing row 1901/8151 with 0 missing, elapsed time: 49.194\n",
      "Imputing row 2001/8151 with 0 missing, elapsed time: 49.337\n",
      "Imputing row 2101/8151 with 0 missing, elapsed time: 49.588\n",
      "Imputing row 2201/8151 with 0 missing, elapsed time: 49.793\n",
      "Imputing row 2301/8151 with 0 missing, elapsed time: 49.946\n",
      "Imputing row 2401/8151 with 0 missing, elapsed time: 50.137\n",
      "Imputing row 2501/8151 with 0 missing, elapsed time: 50.306\n",
      "Imputing row 2601/8151 with 0 missing, elapsed time: 50.439\n",
      "Imputing row 2701/8151 with 0 missing, elapsed time: 50.551\n",
      "Imputing row 2801/8151 with 79 missing, elapsed time: 50.727\n",
      "Imputing row 2901/8151 with 0 missing, elapsed time: 50.854\n",
      "Imputing row 3001/8151 with 0 missing, elapsed time: 50.989\n",
      "Imputing row 3101/8151 with 0 missing, elapsed time: 51.111\n",
      "Imputing row 3201/8151 with 79 missing, elapsed time: 51.233\n",
      "Imputing row 3301/8151 with 0 missing, elapsed time: 51.419\n",
      "Imputing row 3401/8151 with 0 missing, elapsed time: 51.573\n",
      "Imputing row 3501/8151 with 0 missing, elapsed time: 51.698\n",
      "Imputing row 3601/8151 with 0 missing, elapsed time: 51.843\n",
      "Imputing row 3701/8151 with 0 missing, elapsed time: 51.994\n",
      "Imputing row 3801/8151 with 0 missing, elapsed time: 52.141\n",
      "Imputing row 3901/8151 with 0 missing, elapsed time: 52.330\n",
      "Imputing row 4001/8151 with 6 missing, elapsed time: 52.529\n",
      "Imputing row 4101/8151 with 0 missing, elapsed time: 52.739\n",
      "Imputing row 4201/8151 with 0 missing, elapsed time: 52.928\n",
      "Imputing row 4301/8151 with 78 missing, elapsed time: 53.078\n",
      "Imputing row 4401/8151 with 0 missing, elapsed time: 53.212\n",
      "Imputing row 4501/8151 with 79 missing, elapsed time: 53.370\n",
      "Imputing row 4601/8151 with 0 missing, elapsed time: 53.560\n",
      "Imputing row 4701/8151 with 6 missing, elapsed time: 53.688\n",
      "Imputing row 4801/8151 with 0 missing, elapsed time: 53.863\n",
      "Imputing row 4901/8151 with 79 missing, elapsed time: 53.984\n",
      "Imputing row 5001/8151 with 0 missing, elapsed time: 54.126\n",
      "Imputing row 5101/8151 with 0 missing, elapsed time: 54.224\n",
      "Imputing row 5201/8151 with 6 missing, elapsed time: 54.347\n",
      "Imputing row 5301/8151 with 0 missing, elapsed time: 54.454\n",
      "Imputing row 5401/8151 with 6 missing, elapsed time: 54.570\n",
      "Imputing row 5501/8151 with 0 missing, elapsed time: 54.714\n",
      "Imputing row 5601/8151 with 0 missing, elapsed time: 54.850\n",
      "Imputing row 5701/8151 with 0 missing, elapsed time: 55.032\n",
      "Imputing row 5801/8151 with 6 missing, elapsed time: 55.169\n",
      "Imputing row 5901/8151 with 79 missing, elapsed time: 55.334\n",
      "Imputing row 6001/8151 with 0 missing, elapsed time: 55.495\n",
      "Imputing row 6101/8151 with 0 missing, elapsed time: 55.634\n",
      "Imputing row 6201/8151 with 0 missing, elapsed time: 55.660\n",
      "Imputing row 6301/8151 with 0 missing, elapsed time: 55.693\n",
      "Imputing row 6401/8151 with 0 missing, elapsed time: 55.738\n",
      "Imputing row 6501/8151 with 0 missing, elapsed time: 55.762\n",
      "Imputing row 6601/8151 with 1 missing, elapsed time: 55.788\n",
      "Imputing row 6701/8151 with 0 missing, elapsed time: 55.808\n",
      "Imputing row 6801/8151 with 1 missing, elapsed time: 55.824\n",
      "Imputing row 6901/8151 with 1 missing, elapsed time: 55.845\n",
      "Imputing row 7001/8151 with 1 missing, elapsed time: 55.872\n",
      "Imputing row 7101/8151 with 0 missing, elapsed time: 55.896\n",
      "Imputing row 7201/8151 with 0 missing, elapsed time: 55.904\n",
      "Imputing row 7301/8151 with 0 missing, elapsed time: 55.931\n",
      "Imputing row 7401/8151 with 0 missing, elapsed time: 55.943\n",
      "Imputing row 7501/8151 with 1 missing, elapsed time: 55.960\n",
      "Imputing row 7601/8151 with 0 missing, elapsed time: 55.970\n",
      "Imputing row 7701/8151 with 1 missing, elapsed time: 55.985\n",
      "Imputing row 7801/8151 with 1 missing, elapsed time: 56.000\n",
      "Imputing row 7901/8151 with 0 missing, elapsed time: 56.024\n",
      "Imputing row 8001/8151 with 0 missing, elapsed time: 56.037\n",
      "Imputing row 8101/8151 with 0 missing, elapsed time: 56.045\n"
     ]
    }
   ],
   "source": [
    "#缺失值处理\n",
    "from fancyimpute import KNN\n",
    "df_na=df.copy()\n",
    "df_na_fea=df_na[feature_names]\n",
    "df_fea= pd.DataFrame(KNN(k=6).fit_transform(df_na_fea)) \n",
    "df_fea.columns=df_na_fea.columns"
   ]
  },
  {
   "cell_type": "code",
   "execution_count": 669,
   "metadata": {},
   "outputs": [],
   "source": [
    "from sklearn.model_selection import GridSearchCV #用于交叉验证的模块\n",
    "from sklearn.linear_model import LogisticRegression\n",
    "from fancyimpute import KNN\n",
    "from sklearn.metrics import precision_score, recall_score, f1_score"
   ]
  },
  {
   "cell_type": "markdown",
   "metadata": {},
   "source": [
    "# LR"
   ]
  },
  {
   "cell_type": "code",
   "execution_count": 670,
   "metadata": {},
   "outputs": [],
   "source": [
    "#df_drop=df_train.dropna()"
   ]
  },
  {
   "cell_type": "code",
   "execution_count": 671,
   "metadata": {},
   "outputs": [],
   "source": [
    "df_fea['label']=df['label']"
   ]
  },
  {
   "cell_type": "code",
   "execution_count": 672,
   "metadata": {},
   "outputs": [
    {
     "data": {
      "text/plain": [
       "((6106, 83), (2045, 83))"
      ]
     },
     "execution_count": 672,
     "metadata": {},
     "output_type": "execute_result"
    }
   ],
   "source": [
    "df_train_lr=df_fea[df_fea.label.notna()]\n",
    "df_test_lr = df_fea[df_fea.label.isna()]\n",
    "df_train_lr.shape, df_test_lr.shape"
   ]
  },
  {
   "cell_type": "code",
   "execution_count": 673,
   "metadata": {},
   "outputs": [
    {
     "data": {
      "text/plain": [
       "LogisticRegression(C=0.01, class_weight=None, dual=False, fit_intercept=True,\n",
       "                   intercept_scaling=1, l1_ratio=None, max_iter=100,\n",
       "                   multi_class='auto', n_jobs=None, penalty='l2',\n",
       "                   random_state=None, solver='lbfgs', tol=0.0001, verbose=0,\n",
       "                   warm_start=False)"
      ]
     },
     "execution_count": 673,
     "metadata": {},
     "output_type": "execute_result"
    }
   ],
   "source": [
    "LR=LogisticRegression()\n",
    "X_train=df_train_lr[feature_names]\n",
    "y_train=df_train_lr[ycol]\n",
    "LR_param={'C':[1e-2,1,1e2]}\n",
    "clf=GridSearchCV(estimator=LR, param_grid=LR_param, cv=5) #放入算法模型、需要确定的参数、设置为5折交叉验证\n",
    "clf.fit(X_train,y_train)\n",
    "best_model=clf.best_estimator_ \n",
    "best_model"
   ]
  },
  {
   "cell_type": "code",
   "execution_count": 674,
   "metadata": {},
   "outputs": [],
   "source": [
    "pred_LR=best_model.predict(X_train)"
   ]
  },
  {
   "cell_type": "code",
   "execution_count": 675,
   "metadata": {},
   "outputs": [
    {
     "name": "stdout",
     "output_type": "stream",
     "text": [
      "precision_LR: 0.8783026421136909\n",
      "recall_LR: 0.5591233435270132\n",
      "f1_LR: 0.6832762379321083\n"
     ]
    }
   ],
   "source": [
    "precision_lr=precision_score(y_train,pred_LR)\n",
    "print('precision_LR:',precision_lr )\n",
    "recall_lr=recall_score(y_train,pred_LR)\n",
    "print('recall_LR:',recall_lr )\n",
    "f1 = f1_score(y_train,pred_LR)\n",
    "print('f1_LR:', f1)"
   ]
  },
  {
   "cell_type": "code",
   "execution_count": 577,
   "metadata": {},
   "outputs": [],
   "source": [
    "del df_test_lr['label']"
   ]
  },
  {
   "cell_type": "code",
   "execution_count": 101,
   "metadata": {},
   "outputs": [],
   "source": [
    "X_test=df_test_lr\n",
    "pred=best_model.predict(X_test)\n",
    "res=pd.DataFrame(df_test.phone_no_m)\n",
    "res['label']=pred\n",
    "res.to_csv(r'E:\\Term2\\数据挖掘\\pre\\submissions\\0619_{}.csv'.format(f1), index=False )"
   ]
  },
  {
   "cell_type": "markdown",
   "metadata": {},
   "source": [
    "# LGB"
   ]
  },
  {
   "cell_type": "code",
   "execution_count": 762,
   "metadata": {},
   "outputs": [],
   "source": [
    "import lightgbm as lgb\n",
    "from sklearn.model_selection import StratifiedKFold\n",
    "from sklearn.metrics import f1_score"
   ]
  },
  {
   "cell_type": "code",
   "execution_count": 763,
   "metadata": {},
   "outputs": [],
   "source": [
    "ycol = 'label'\n",
    "feature_names = list(\n",
    "    filter(lambda x: x not in [ycol, 'phone_no_m'], df_train.columns))"
   ]
  },
  {
   "cell_type": "code",
   "execution_count": 764,
   "metadata": {},
   "outputs": [
    {
     "data": {
      "text/plain": [
       "Index(['phone_no_m', 'city_name', 'county_name', 'idcard_cnt', 'label',\n",
       "       'arpu_202004', 'calltype_1_rate', 'voc_day', 'voc_hour', 'voc_weekday',\n",
       "       'voc_day_count_max', 'voc_day_count_median', 'voc_day_count_std',\n",
       "       'voc_hour_count_max', 'voc_hour_count_median', 'voc_hour_count_std',\n",
       "       'voc_count', 'voc_people_count', 'voc_opposite_same_count_max',\n",
       "       'voc_opposite_same_count_mean', 'voc_opposite_same_count_std',\n",
       "       'voc_opposite_same_hour_median', 'voc_opposite_same_hour_std',\n",
       "       'voc_day_people_count_max', 'voc_day_people_count_median',\n",
       "       'voc_day_people_count_std', 'voc_day_same_count_median',\n",
       "       'voc_day_same_count_std', 'voc_day_same_hour_max',\n",
       "       'voc_day_same_hour_mean', 'voc_day_same_hour_median',\n",
       "       'voc_day_same_hour_std', 'sms_day', 'sms_hour', 'sms_weekday',\n",
       "       'sms_day_count_max', 'sms_day_count_min', 'sms_day_count_median',\n",
       "       'sms_day_count_std', 'sms_count', 'sms_hour_count_max',\n",
       "       'sms_hour_count_median', 'sms_hour_count_std', 'sms_people_count',\n",
       "       'sms_same_count_max', 'sms_same_count_mean', 'sms_same_count_std',\n",
       "       'sms_day_people_count_max', 'sms_day_people_count_mean',\n",
       "       'sms_day_people_count_std', 'sms_day_same_count_max',\n",
       "       'sms_day_same_count_mean', 'sms_day_same_count_std', 'calltype_2_rate'],\n",
       "      dtype='object')"
      ]
     },
     "execution_count": 764,
     "metadata": {},
     "output_type": "execute_result"
    }
   ],
   "source": [
    "df_train.columns"
   ]
  },
  {
   "cell_type": "code",
   "execution_count": 765,
   "metadata": {},
   "outputs": [],
   "source": [
    "model = lgb.LGBMClassifier(objective='binary',\n",
    "                           boosting_type='gbdt',\n",
    "                           tree_learner='serial',\n",
    "                           num_leaves=64,\n",
    "                           max_depth=8,\n",
    "                           learning_rate=0.1,\n",
    "                           n_estimators=10000,\n",
    "                           subsample=0.8,\n",
    "                           feature_fraction=0.6,\n",
    "                           reg_alpha=10,\n",
    "                           reg_lambda=12,\n",
    "                           random_state=2020,\n",
    "                           is_unbalance=True,\n",
    "                           metric='auc')"
   ]
  },
  {
   "cell_type": "code",
   "execution_count": 766,
   "metadata": {},
   "outputs": [],
   "source": [
    "oof = []\n",
    "prediction = df_test[['phone_no_m']]\n",
    "prediction[ycol] = 0\n",
    "df_importance_list = []"
   ]
  },
  {
   "cell_type": "code",
   "execution_count": 767,
   "metadata": {},
   "outputs": [],
   "source": [
    "kfold = StratifiedKFold(n_splits=5, shuffle=True, random_state=2020)"
   ]
  },
  {
   "cell_type": "code",
   "execution_count": 768,
   "metadata": {},
   "outputs": [
    {
     "name": "stdout",
     "output_type": "stream",
     "text": [
      "\n",
      "Fold_1 Training ================================\n",
      "\n",
      "Training until validation scores don't improve for 50 rounds\n",
      "[100]\ttrain's auc: 0.9958\tvalid's auc: 0.940911\n",
      "Early stopping, best iteration is:\n",
      "[82]\ttrain's auc: 0.993571\tvalid's auc: 0.941786\n",
      "\n",
      "Fold_2 Training ================================\n",
      "\n",
      "Training until validation scores don't improve for 50 rounds\n",
      "[100]\ttrain's auc: 0.995568\tvalid's auc: 0.952897\n",
      "Early stopping, best iteration is:\n",
      "[141]\ttrain's auc: 0.997519\tvalid's auc: 0.953254\n",
      "\n",
      "Fold_3 Training ================================\n",
      "\n",
      "Training until validation scores don't improve for 50 rounds\n",
      "[100]\ttrain's auc: 0.995824\tvalid's auc: 0.954768\n",
      "Early stopping, best iteration is:\n",
      "[80]\ttrain's auc: 0.993495\tvalid's auc: 0.955319\n",
      "\n",
      "Fold_4 Training ================================\n",
      "\n",
      "Training until validation scores don't improve for 50 rounds\n",
      "[100]\ttrain's auc: 0.995887\tvalid's auc: 0.950903\n",
      "Early stopping, best iteration is:\n",
      "[114]\ttrain's auc: 0.996776\tvalid's auc: 0.951007\n",
      "\n",
      "Fold_5 Training ================================\n",
      "\n",
      "Training until validation scores don't improve for 50 rounds\n",
      "[100]\ttrain's auc: 0.996314\tvalid's auc: 0.955667\n",
      "Early stopping, best iteration is:\n",
      "[64]\ttrain's auc: 0.990671\tvalid's auc: 0.956482\n"
     ]
    }
   ],
   "source": [
    "for fold_id, (trn_idx, val_idx) in enumerate(kfold.split(df_train[feature_names], df_train[ycol])):\n",
    "    X_train = df_train.iloc[trn_idx][feature_names]\n",
    "    Y_train = df_train.iloc[trn_idx][ycol]\n",
    "\n",
    "    X_val = df_train.iloc[val_idx][feature_names]\n",
    "    Y_val = df_train.iloc[val_idx][ycol]\n",
    "\n",
    "    print('\\nFold_{} Training ================================\\n'.format(fold_id+1))\n",
    "\n",
    "    lgb_model = model.fit(X_train,\n",
    "                          Y_train,\n",
    "                          eval_names=['train', 'valid'],\n",
    "                          eval_set=[(X_train, Y_train), (X_val, Y_val)],\n",
    "                          verbose=100,\n",
    "                          eval_metric='auc',\n",
    "                          early_stopping_rounds=50)\n",
    "\n",
    "    pred_val = lgb_model.predict(\n",
    "        X_val, num_iteration=lgb_model.best_iteration_)\n",
    "    df_oof = df_train.iloc[val_idx][['phone_no_m', ycol]].copy()\n",
    "    df_oof['pred'] = pred_val\n",
    "    oof.append(df_oof)\n",
    "\n",
    "    pred_test = lgb_model.predict(\n",
    "        df_test[feature_names], num_iteration=lgb_model.best_iteration_)\n",
    "    prediction[ycol] += pred_test / kfold.n_splits\n",
    "    df_importance = pd.DataFrame({\n",
    "        'column': feature_names,\n",
    "        'importance': lgb_model.feature_importances_,\n",
    "    })\n",
    "    df_importance_list.append(df_importance)\n",
    "\n",
    "    del lgb_model, pred_val, pred_test, X_train, Y_train, X_val, Y_val\n",
    "    gc.collect()\n",
    "    "
   ]
  },
  {
   "cell_type": "code",
   "execution_count": 769,
   "metadata": {
    "scrolled": true
   },
   "outputs": [
    {
     "data": {
      "text/html": [
       "<div>\n",
       "<style scoped>\n",
       "    .dataframe tbody tr th:only-of-type {\n",
       "        vertical-align: middle;\n",
       "    }\n",
       "\n",
       "    .dataframe tbody tr th {\n",
       "        vertical-align: top;\n",
       "    }\n",
       "\n",
       "    .dataframe thead th {\n",
       "        text-align: right;\n",
       "    }\n",
       "</style>\n",
       "<table border=\"1\" class=\"dataframe\">\n",
       "  <thead>\n",
       "    <tr style=\"text-align: right;\">\n",
       "      <th></th>\n",
       "      <th>column</th>\n",
       "      <th>importance</th>\n",
       "    </tr>\n",
       "  </thead>\n",
       "  <tbody>\n",
       "    <tr>\n",
       "      <th>0</th>\n",
       "      <td>arpu_202004</td>\n",
       "      <td>162.4</td>\n",
       "    </tr>\n",
       "    <tr>\n",
       "      <th>1</th>\n",
       "      <td>calltype_1_rate</td>\n",
       "      <td>127.4</td>\n",
       "    </tr>\n",
       "    <tr>\n",
       "      <th>2</th>\n",
       "      <td>sms_day_people_count_std</td>\n",
       "      <td>102.8</td>\n",
       "    </tr>\n",
       "    <tr>\n",
       "      <th>3</th>\n",
       "      <td>sms_day</td>\n",
       "      <td>100.0</td>\n",
       "    </tr>\n",
       "    <tr>\n",
       "      <th>4</th>\n",
       "      <td>county_name</td>\n",
       "      <td>96.6</td>\n",
       "    </tr>\n",
       "    <tr>\n",
       "      <th>5</th>\n",
       "      <td>calltype_2_rate</td>\n",
       "      <td>93.2</td>\n",
       "    </tr>\n",
       "    <tr>\n",
       "      <th>6</th>\n",
       "      <td>sms_same_count_mean</td>\n",
       "      <td>92.6</td>\n",
       "    </tr>\n",
       "    <tr>\n",
       "      <th>7</th>\n",
       "      <td>voc_opposite_same_count_mean</td>\n",
       "      <td>91.6</td>\n",
       "    </tr>\n",
       "    <tr>\n",
       "      <th>8</th>\n",
       "      <td>voc_day_same_count_std</td>\n",
       "      <td>89.4</td>\n",
       "    </tr>\n",
       "    <tr>\n",
       "      <th>9</th>\n",
       "      <td>city_name</td>\n",
       "      <td>88.0</td>\n",
       "    </tr>\n",
       "    <tr>\n",
       "      <th>10</th>\n",
       "      <td>voc_day</td>\n",
       "      <td>87.8</td>\n",
       "    </tr>\n",
       "    <tr>\n",
       "      <th>11</th>\n",
       "      <td>sms_day_same_count_mean</td>\n",
       "      <td>87.6</td>\n",
       "    </tr>\n",
       "    <tr>\n",
       "      <th>12</th>\n",
       "      <td>sms_day_count_std</td>\n",
       "      <td>86.2</td>\n",
       "    </tr>\n",
       "    <tr>\n",
       "      <th>13</th>\n",
       "      <td>voc_opposite_same_count_std</td>\n",
       "      <td>82.2</td>\n",
       "    </tr>\n",
       "    <tr>\n",
       "      <th>14</th>\n",
       "      <td>voc_opposite_same_hour_std</td>\n",
       "      <td>79.8</td>\n",
       "    </tr>\n",
       "    <tr>\n",
       "      <th>15</th>\n",
       "      <td>sms_day_same_count_std</td>\n",
       "      <td>76.8</td>\n",
       "    </tr>\n",
       "    <tr>\n",
       "      <th>16</th>\n",
       "      <td>sms_hour_count_std</td>\n",
       "      <td>76.0</td>\n",
       "    </tr>\n",
       "    <tr>\n",
       "      <th>17</th>\n",
       "      <td>voc_day_same_hour_std</td>\n",
       "      <td>73.0</td>\n",
       "    </tr>\n",
       "    <tr>\n",
       "      <th>18</th>\n",
       "      <td>voc_opposite_same_hour_median</td>\n",
       "      <td>69.0</td>\n",
       "    </tr>\n",
       "    <tr>\n",
       "      <th>19</th>\n",
       "      <td>voc_day_same_hour_median</td>\n",
       "      <td>69.0</td>\n",
       "    </tr>\n",
       "    <tr>\n",
       "      <th>20</th>\n",
       "      <td>sms_same_count_std</td>\n",
       "      <td>67.6</td>\n",
       "    </tr>\n",
       "    <tr>\n",
       "      <th>21</th>\n",
       "      <td>sms_people_count</td>\n",
       "      <td>64.4</td>\n",
       "    </tr>\n",
       "    <tr>\n",
       "      <th>22</th>\n",
       "      <td>voc_day_count_median</td>\n",
       "      <td>63.0</td>\n",
       "    </tr>\n",
       "    <tr>\n",
       "      <th>23</th>\n",
       "      <td>sms_day_people_count_mean</td>\n",
       "      <td>63.0</td>\n",
       "    </tr>\n",
       "    <tr>\n",
       "      <th>24</th>\n",
       "      <td>sms_count</td>\n",
       "      <td>62.8</td>\n",
       "    </tr>\n",
       "    <tr>\n",
       "      <th>25</th>\n",
       "      <td>voc_day_same_hour_mean</td>\n",
       "      <td>61.2</td>\n",
       "    </tr>\n",
       "    <tr>\n",
       "      <th>26</th>\n",
       "      <td>sms_hour_count_max</td>\n",
       "      <td>59.6</td>\n",
       "    </tr>\n",
       "    <tr>\n",
       "      <th>27</th>\n",
       "      <td>voc_day_same_hour_max</td>\n",
       "      <td>59.6</td>\n",
       "    </tr>\n",
       "    <tr>\n",
       "      <th>28</th>\n",
       "      <td>sms_same_count_max</td>\n",
       "      <td>57.4</td>\n",
       "    </tr>\n",
       "    <tr>\n",
       "      <th>29</th>\n",
       "      <td>voc_hour_count_std</td>\n",
       "      <td>54.6</td>\n",
       "    </tr>\n",
       "    <tr>\n",
       "      <th>30</th>\n",
       "      <td>voc_opposite_same_count_max</td>\n",
       "      <td>54.4</td>\n",
       "    </tr>\n",
       "    <tr>\n",
       "      <th>31</th>\n",
       "      <td>voc_day_people_count_std</td>\n",
       "      <td>53.4</td>\n",
       "    </tr>\n",
       "    <tr>\n",
       "      <th>32</th>\n",
       "      <td>sms_day_count_median</td>\n",
       "      <td>50.0</td>\n",
       "    </tr>\n",
       "    <tr>\n",
       "      <th>33</th>\n",
       "      <td>idcard_cnt</td>\n",
       "      <td>47.6</td>\n",
       "    </tr>\n",
       "    <tr>\n",
       "      <th>34</th>\n",
       "      <td>voc_hour</td>\n",
       "      <td>45.6</td>\n",
       "    </tr>\n",
       "    <tr>\n",
       "      <th>35</th>\n",
       "      <td>voc_people_count</td>\n",
       "      <td>45.0</td>\n",
       "    </tr>\n",
       "    <tr>\n",
       "      <th>36</th>\n",
       "      <td>voc_day_count_std</td>\n",
       "      <td>42.6</td>\n",
       "    </tr>\n",
       "    <tr>\n",
       "      <th>37</th>\n",
       "      <td>sms_hour</td>\n",
       "      <td>41.8</td>\n",
       "    </tr>\n",
       "    <tr>\n",
       "      <th>38</th>\n",
       "      <td>voc_day_people_count_median</td>\n",
       "      <td>38.4</td>\n",
       "    </tr>\n",
       "    <tr>\n",
       "      <th>39</th>\n",
       "      <td>voc_hour_count_median</td>\n",
       "      <td>37.8</td>\n",
       "    </tr>\n",
       "    <tr>\n",
       "      <th>40</th>\n",
       "      <td>voc_count</td>\n",
       "      <td>37.4</td>\n",
       "    </tr>\n",
       "    <tr>\n",
       "      <th>41</th>\n",
       "      <td>sms_hour_count_median</td>\n",
       "      <td>29.0</td>\n",
       "    </tr>\n",
       "    <tr>\n",
       "      <th>42</th>\n",
       "      <td>voc_day_count_max</td>\n",
       "      <td>25.2</td>\n",
       "    </tr>\n",
       "    <tr>\n",
       "      <th>43</th>\n",
       "      <td>sms_day_people_count_max</td>\n",
       "      <td>21.6</td>\n",
       "    </tr>\n",
       "    <tr>\n",
       "      <th>44</th>\n",
       "      <td>voc_day_same_count_median</td>\n",
       "      <td>21.0</td>\n",
       "    </tr>\n",
       "    <tr>\n",
       "      <th>45</th>\n",
       "      <td>sms_day_count_max</td>\n",
       "      <td>20.2</td>\n",
       "    </tr>\n",
       "    <tr>\n",
       "      <th>46</th>\n",
       "      <td>voc_hour_count_max</td>\n",
       "      <td>17.2</td>\n",
       "    </tr>\n",
       "    <tr>\n",
       "      <th>47</th>\n",
       "      <td>voc_day_people_count_max</td>\n",
       "      <td>17.0</td>\n",
       "    </tr>\n",
       "    <tr>\n",
       "      <th>48</th>\n",
       "      <td>sms_day_count_min</td>\n",
       "      <td>16.2</td>\n",
       "    </tr>\n",
       "    <tr>\n",
       "      <th>49</th>\n",
       "      <td>voc_weekday</td>\n",
       "      <td>16.0</td>\n",
       "    </tr>\n",
       "    <tr>\n",
       "      <th>50</th>\n",
       "      <td>sms_weekday</td>\n",
       "      <td>16.0</td>\n",
       "    </tr>\n",
       "    <tr>\n",
       "      <th>51</th>\n",
       "      <td>sms_day_same_count_max</td>\n",
       "      <td>13.8</td>\n",
       "    </tr>\n",
       "  </tbody>\n",
       "</table>\n",
       "</div>"
      ],
      "text/plain": [
       "                           column  importance\n",
       "0                     arpu_202004       162.4\n",
       "1                 calltype_1_rate       127.4\n",
       "2        sms_day_people_count_std       102.8\n",
       "3                         sms_day       100.0\n",
       "4                     county_name        96.6\n",
       "5                 calltype_2_rate        93.2\n",
       "6             sms_same_count_mean        92.6\n",
       "7    voc_opposite_same_count_mean        91.6\n",
       "8          voc_day_same_count_std        89.4\n",
       "9                       city_name        88.0\n",
       "10                        voc_day        87.8\n",
       "11        sms_day_same_count_mean        87.6\n",
       "12              sms_day_count_std        86.2\n",
       "13    voc_opposite_same_count_std        82.2\n",
       "14     voc_opposite_same_hour_std        79.8\n",
       "15         sms_day_same_count_std        76.8\n",
       "16             sms_hour_count_std        76.0\n",
       "17          voc_day_same_hour_std        73.0\n",
       "18  voc_opposite_same_hour_median        69.0\n",
       "19       voc_day_same_hour_median        69.0\n",
       "20             sms_same_count_std        67.6\n",
       "21               sms_people_count        64.4\n",
       "22           voc_day_count_median        63.0\n",
       "23      sms_day_people_count_mean        63.0\n",
       "24                      sms_count        62.8\n",
       "25         voc_day_same_hour_mean        61.2\n",
       "26             sms_hour_count_max        59.6\n",
       "27          voc_day_same_hour_max        59.6\n",
       "28             sms_same_count_max        57.4\n",
       "29             voc_hour_count_std        54.6\n",
       "30    voc_opposite_same_count_max        54.4\n",
       "31       voc_day_people_count_std        53.4\n",
       "32           sms_day_count_median        50.0\n",
       "33                     idcard_cnt        47.6\n",
       "34                       voc_hour        45.6\n",
       "35               voc_people_count        45.0\n",
       "36              voc_day_count_std        42.6\n",
       "37                       sms_hour        41.8\n",
       "38    voc_day_people_count_median        38.4\n",
       "39          voc_hour_count_median        37.8\n",
       "40                      voc_count        37.4\n",
       "41          sms_hour_count_median        29.0\n",
       "42              voc_day_count_max        25.2\n",
       "43       sms_day_people_count_max        21.6\n",
       "44      voc_day_same_count_median        21.0\n",
       "45              sms_day_count_max        20.2\n",
       "46             voc_hour_count_max        17.2\n",
       "47       voc_day_people_count_max        17.0\n",
       "48              sms_day_count_min        16.2\n",
       "49                    voc_weekday        16.0\n",
       "50                    sms_weekday        16.0\n",
       "51         sms_day_same_count_max        13.8"
      ]
     },
     "execution_count": 769,
     "metadata": {},
     "output_type": "execute_result"
    }
   ],
   "source": [
    "df_importance = pd.concat(df_importance_list)\n",
    "df_importance = df_importance.groupby(['column'])['importance'].agg(\n",
    "    'mean').sort_values(ascending=False).reset_index()\n",
    "df_importance"
   ]
  },
  {
   "cell_type": "code",
   "execution_count": 770,
   "metadata": {},
   "outputs": [],
   "source": [
    "imp=pd.DataFrame(df_importance)"
   ]
  },
  {
   "cell_type": "code",
   "execution_count": 771,
   "metadata": {},
   "outputs": [
    {
     "data": {
      "text/plain": [
       "Text(0, 0.5, 'Feature')"
      ]
     },
     "execution_count": 771,
     "metadata": {},
     "output_type": "execute_result"
    },
    {
     "data": {
      "image/png": "[encoded data removed]",
      "text/plain": [
       "<Figure size 1440x3600 with 1 Axes>"
      ]
     },
     "metadata": {
      "needs_background": "light"
     },
     "output_type": "display_data"
    }
   ],
   "source": [
    "plt.figure(figsize=(20,50))\n",
    "sns.barplot(y=imp.column,x=imp.importance,orient='h')\n",
    "plt.yticks(fontproperties = 'Times New Roman', size = 23)\n",
    "plt.xticks(fontproperties = 'Times New Roman', size = 23)\n",
    "#plt.tick_params(labelsize=18)\n",
    "plt.xlabel('Label',size=27,family= 'Times New Roman')\n",
    "plt.ylabel('Feature',size=27,family= 'Times New Roman')\n",
    "#plt.title('Total_flow',size=25,family= 'Times New Roman')"
   ]
  },
  {
   "cell_type": "code",
   "execution_count": 772,
   "metadata": {},
   "outputs": [
    {
     "name": "stdout",
     "output_type": "stream",
     "text": [
      "f1: 0.8808625336927224\n"
     ]
    }
   ],
   "source": [
    "df_oof = pd.concat(oof)\n",
    "f1 = f1_score(df_oof[ycol], df_oof['pred'])\n",
    "print('f1:', f1)"
   ]
  },
  {
   "cell_type": "code",
   "execution_count": 773,
   "metadata": {},
   "outputs": [
    {
     "name": "stdout",
     "output_type": "stream",
     "text": [
      "precision_LGB: 0.9347826086956522\n",
      "recall_LGB: 0.8328236493374108\n",
      "f1_LGB: 0.8808625336927224\n"
     ]
    }
   ],
   "source": [
    "precision_lgb=precision_score(df_oof[ycol], df_oof['pred'])\n",
    "print('precision_LGB:',precision_lgb )\n",
    "recall_lgb=recall_score(df_oof[ycol], df_oof['pred'])\n",
    "print('recall_LGB:',recall_lgb)\n",
    "f1_lgb = f1_score(df_oof[ycol], df_oof['pred'])\n",
    "print('f1_LGB:', f1)"
   ]
  },
  {
   "cell_type": "code",
   "execution_count": 687,
   "metadata": {},
   "outputs": [
    {
     "data": {
      "text/html": [
       "<div>\n",
       "<style scoped>\n",
       "    .dataframe tbody tr th:only-of-type {\n",
       "        vertical-align: middle;\n",
       "    }\n",
       "\n",
       "    .dataframe tbody tr th {\n",
       "        vertical-align: top;\n",
       "    }\n",
       "\n",
       "    .dataframe thead th {\n",
       "        text-align: right;\n",
       "    }\n",
       "</style>\n",
       "<table border=\"1\" class=\"dataframe\">\n",
       "  <thead>\n",
       "    <tr style=\"text-align: right;\">\n",
       "      <th></th>\n",
       "      <th>phone_no_m</th>\n",
       "      <th>label</th>\n",
       "    </tr>\n",
       "  </thead>\n",
       "  <tbody>\n",
       "    <tr>\n",
       "      <th>6106</th>\n",
       "      <td>22d522340df77e2252c1a4d92b4bcb00d515e36f3ec6bf...</td>\n",
       "      <td>0</td>\n",
       "    </tr>\n",
       "    <tr>\n",
       "      <th>6107</th>\n",
       "      <td>5220d4b8429bdba3971a7b46a088c6b8fa6710f4060759...</td>\n",
       "      <td>1</td>\n",
       "    </tr>\n",
       "    <tr>\n",
       "      <th>6108</th>\n",
       "      <td>7d19dd2b50ced56f03d23bf928cf34dc570a48525571a8...</td>\n",
       "      <td>0</td>\n",
       "    </tr>\n",
       "    <tr>\n",
       "      <th>6109</th>\n",
       "      <td>134a4a591185c9d3788021896dcfc235e9e0a6a1e3f8a4...</td>\n",
       "      <td>0</td>\n",
       "    </tr>\n",
       "    <tr>\n",
       "      <th>6110</th>\n",
       "      <td>2356dcd6759d50455ddaeed03c838843558e9182d5962f...</td>\n",
       "      <td>0</td>\n",
       "    </tr>\n",
       "  </tbody>\n",
       "</table>\n",
       "</div>"
      ],
      "text/plain": [
       "                                             phone_no_m  label\n",
       "6106  22d522340df77e2252c1a4d92b4bcb00d515e36f3ec6bf...      0\n",
       "6107  5220d4b8429bdba3971a7b46a088c6b8fa6710f4060759...      1\n",
       "6108  7d19dd2b50ced56f03d23bf928cf34dc570a48525571a8...      0\n",
       "6109  134a4a591185c9d3788021896dcfc235e9e0a6a1e3f8a4...      0\n",
       "6110  2356dcd6759d50455ddaeed03c838843558e9182d5962f...      0"
      ]
     },
     "execution_count": 687,
     "metadata": {},
     "output_type": "execute_result"
    }
   ],
   "source": [
    "sub = prediction.copy(deep=True)\n",
    "sub['label'] = sub['label'].apply(lambda x: 1 if x>0 else 0)\n",
    "sub.head()"
   ]
  },
  {
   "cell_type": "code",
   "execution_count": 688,
   "metadata": {},
   "outputs": [
    {
     "data": {
      "text/plain": [
       "0    1511\n",
       "1     534\n",
       "Name: label, dtype: int64"
      ]
     },
     "execution_count": 688,
     "metadata": {},
     "output_type": "execute_result"
    }
   ],
   "source": [
    "sub.label.value_counts()"
   ]
  },
  {
   "cell_type": "code",
   "execution_count": 689,
   "metadata": {},
   "outputs": [],
   "source": [
    "sub.to_csv(r'E:\\Term2\\数据挖掘\\pre\\submissions\\0621_6_baseline_{}.csv'.format(f1), index=False )#encoding='utf-8'"
   ]
  },
  {
   "cell_type": "markdown",
   "metadata": {},
   "source": [
    "# XGBOOST"
   ]
  },
  {
   "cell_type": "code",
   "execution_count": 734,
   "metadata": {},
   "outputs": [
    {
     "name": "stdout",
     "output_type": "stream",
     "text": [
      "fold: 0 training\n",
      "[0]\ttrain-auc:0.95491\tvalid_data-auc:0.90060\n",
      "Multiple eval metrics have been passed: 'valid_data-auc' will be used for early stopping.\n",
      "\n",
      "Will train until valid_data-auc hasn't improved in 100 rounds.\n",
      "[300]\ttrain-auc:0.99779\tvalid_data-auc:0.93709\n",
      "Stopping. Best iteration:\n",
      "[231]\ttrain-auc:0.99576\tvalid_data-auc:0.93802\n",
      "\n",
      "fold: 1 training\n",
      "[0]\ttrain-auc:0.95166\tvalid_data-auc:0.91580\n",
      "Multiple eval metrics have been passed: 'valid_data-auc' will be used for early stopping.\n",
      "\n",
      "Will train until valid_data-auc hasn't improved in 100 rounds.\n",
      "Stopping. Best iteration:\n",
      "[101]\ttrain-auc:0.99186\tvalid_data-auc:0.95462\n",
      "\n",
      "fold: 2 training\n",
      "[0]\ttrain-auc:0.94997\tvalid_data-auc:0.93038\n",
      "Multiple eval metrics have been passed: 'valid_data-auc' will be used for early stopping.\n",
      "\n",
      "Will train until valid_data-auc hasn't improved in 100 rounds.\n",
      "Stopping. Best iteration:\n",
      "[59]\ttrain-auc:0.99127\tvalid_data-auc:0.95158\n",
      "\n",
      "fold: 3 training\n",
      "[0]\ttrain-auc:0.94981\tvalid_data-auc:0.91068\n",
      "Multiple eval metrics have been passed: 'valid_data-auc' will be used for early stopping.\n",
      "\n",
      "Will train until valid_data-auc hasn't improved in 100 rounds.\n",
      "[300]\ttrain-auc:0.99804\tvalid_data-auc:0.95301\n",
      "[600]\ttrain-auc:0.99967\tvalid_data-auc:0.95478\n",
      "[900]\ttrain-auc:0.99987\tvalid_data-auc:0.95598\n",
      "[1200]\ttrain-auc:0.99995\tvalid_data-auc:0.95673\n",
      "Stopping. Best iteration:\n",
      "[1187]\ttrain-auc:0.99995\tvalid_data-auc:0.95680\n",
      "\n",
      "fold: 4 training\n",
      "[0]\ttrain-auc:0.95850\tvalid_data-auc:0.92907\n",
      "Multiple eval metrics have been passed: 'valid_data-auc' will be used for early stopping.\n",
      "\n",
      "Will train until valid_data-auc hasn't improved in 100 rounds.\n",
      "[300]\ttrain-auc:0.99796\tvalid_data-auc:0.95570\n",
      "[600]\ttrain-auc:0.99974\tvalid_data-auc:0.95685\n",
      "[900]\ttrain-auc:0.99990\tvalid_data-auc:0.95759\n",
      "Stopping. Best iteration:\n",
      "[943]\ttrain-auc:0.99992\tvalid_data-auc:0.95789\n",
      "\n"
     ]
    }
   ],
   "source": [
    "import xgboost as xgb\n",
    "ycol = 'label'\n",
    "feature_names = list(\n",
    "    filter(lambda x: x not in [ycol, 'phone_no_m'], df_train.columns))\n",
    "\n",
    "#------Xgboost\n",
    "xgb_params = {\n",
    "    'eta':0.005,\n",
    "    'max_depth':20,\n",
    "    'subsample':0.8,\n",
    "    'colsample_bytree':0.8,\n",
    "    'objective':'binary:logistic',\n",
    "    'eval_metric':'auc',\n",
    "    'silent':True,\n",
    "    'nthread':8}\n",
    "\n",
    "#五折交叉训练\n",
    "#cv_pred_allxgb = 0\n",
    "oof_xgb1 = np.zeros(len(df_train))\n",
    "#prediction_xgb1 = np.zeros(len(df_test))\n",
    "\n",
    "NFOLDS=5\n",
    "kfold = StratifiedKFold(n_splits=NFOLDS, shuffle=True,random_state=2020)\n",
    "kf = kfold.split(df_train[feature_names],df_train[ycol])\n",
    "cv_pred = np.zeros(df_test.shape[0])\n",
    "\n",
    "#valid_best_l2_all=0\n",
    "count = 0\n",
    "imp_list=[]\n",
    "for i,(train_fold,validate) in enumerate(kf):\n",
    "    print(\"fold:\",i,'training')\n",
    "    X_train,X_validate,label_train,label_validate = \\\n",
    "        df_train.iloc[train_fold,:][feature_names],df_train.iloc[validate,:][feature_names],\\\n",
    "        df_train.iloc[train_fold][ycol],df_train.iloc[validate][ycol]\n",
    "    dtrain = xgb.DMatrix(X_train,label_train)\n",
    "    dvalid = xgb.DMatrix(X_validate,label_validate)\n",
    "    watchlist = [(dtrain,'train'),(dvalid,'valid_data')]#训练过程中评估的列表元素\n",
    "    bst = xgb.train(dtrain = dtrain,num_boost_round = 10000,evals = watchlist,\n",
    "                    early_stopping_rounds=100,verbose_eval=300,params=xgb_params)\n",
    "    cv_pred += bst.predict(xgb.DMatrix(df_test[feature_names]), ntree_limit=bst.best_ntree_limit)\n",
    "    oof_xgb1[validate] = bst.predict(xgb.DMatrix(X_validate), ntree_limit=bst.best_ntree_limit)\n",
    "    #prediction_xgb1 += bst.predict(xgb.DMatrix(test_data), ntree_limit=bst.best_ntree_limit) / kfold.n_splits\n",
    "    importances=bst.get_score\n",
    "    count += 1\n",
    "cv_pred /=NFOLDS"
   ]
  },
  {
   "cell_type": "code",
   "execution_count": 735,
   "metadata": {},
   "outputs": [
    {
     "data": {
      "text/plain": [
       "0.8819599109131403"
      ]
     },
     "execution_count": 735,
     "metadata": {},
     "output_type": "execute_result"
    }
   ],
   "source": [
    "final_pred=[round(value) for value in cv_pred]\n",
    "oof_pred=[round(value) for value in oof_xgb1]\n",
    "f1=f1_score(df_train[ycol],oof_pred)\n",
    "f1"
   ]
  },
  {
   "cell_type": "code",
   "execution_count": 736,
   "metadata": {},
   "outputs": [
    {
     "data": {
      "text/plain": [
       "0.9717791411042945"
      ]
     },
     "execution_count": 736,
     "metadata": {},
     "output_type": "execute_result"
    }
   ],
   "source": [
    "precision_score(df_train[ycol],oof_pred)"
   ]
  },
  {
   "cell_type": "code",
   "execution_count": 737,
   "metadata": {},
   "outputs": [
    {
     "data": {
      "text/plain": [
       "0.8073394495412844"
      ]
     },
     "execution_count": 737,
     "metadata": {},
     "output_type": "execute_result"
    }
   ],
   "source": [
    "recall_score(df_train[ycol],oof_pred)"
   ]
  },
  {
   "cell_type": "code",
   "execution_count": 658,
   "metadata": {},
   "outputs": [],
   "source": [
    "prediction=pd.DataFrame(df_test['phone_no_m'])\n",
    "prediction['label']=final_pred\n",
    "prediction.to_csv(r'E:\\Term2\\数据挖掘\\pre\\submissions\\0621_4_{}.csv'.format(f1),index=False)"
   ]
  },
  {
   "cell_type": "code",
   "execution_count": 135,
   "metadata": {},
   "outputs": [],
   "source": [
    "import matplotlib.pyplot as plt\n",
    "import seaborn as sns"
   ]
  },
  {
   "cell_type": "code",
   "execution_count": 136,
   "metadata": {},
   "outputs": [
    {
     "data": {
      "text/plain": [
       "<matplotlib.axes._subplots.AxesSubplot at 0x24f213b48c8>"
      ]
     },
     "execution_count": 136,
     "metadata": {},
     "output_type": "execute_result"
    },
    {
     "data": {
      "image/png": "[encoded data removed]",
      "text/plain": [
       "<Figure size 432x288 with 1 Axes>"
      ]
     },
     "metadata": {
      "needs_background": "light"
     },
     "output_type": "display_data"
    }
   ],
   "source": [
    "sns.boxplot(data = df_train,x = 'label',y='flow_min',palette=\"Blues_d\")"
   ]
  },
  {
   "cell_type": "code",
   "execution_count": 662,
   "metadata": {},
   "outputs": [
    {
     "data": {
      "text/plain": [
       "{'voc_day_people_count_median': 812,\n",
       " 'sms_day_count_median': 758,\n",
       " 'voc_people_count': 760,\n",
       " 'idcard_cnt': 945,\n",
       " 'sms_people_count': 1156,\n",
       " 'voc_day_same_count_std': 1291,\n",
       " 'city_name': 1063,\n",
       " 'sms_day_same_count_mean': 1560,\n",
       " 'app_count': 1336,\n",
       " 'voc_day_same_hour_max': 724,\n",
       " 'voc_day_same_hour_median': 1228,\n",
       " 'voc_day_same_hour_mean': 839,\n",
       " 'voc_day_people_count_std': 775,\n",
       " 'sms_count': 1122,\n",
       " 'sms_hour_count_max': 822,\n",
       " 'voc_hour_count_max': 306,\n",
       " 'voc_day': 1165,\n",
       " 'arpu_202004': 2312,\n",
       " 'sms_day_people_count_max': 452,\n",
       " 'voc_hour': 782,\n",
       " 'flow_mean': 629,\n",
       " 'voc_day_count_std': 726,\n",
       " 'county_name': 1316,\n",
       " 'voc_opposite_same_count_mean': 940,\n",
       " 'voc_day_count_max': 317,\n",
       " 'total_flow': 1042,\n",
       " 'flow_min': 1561,\n",
       " 'sms_same_count_std': 1178,\n",
       " 'sms_hour_count_std': 1236,\n",
       " 'voc_opposite_same_hour_median': 943,\n",
       " 'voc_count': 567,\n",
       " 'sms_hour': 982,\n",
       " 'voc_opposite_same_hour_std': 840,\n",
       " 'flow_max': 849,\n",
       " 'voc_hour_count_median': 335,\n",
       " 'voc_opposite_same_count_max': 640,\n",
       " 'sms_day_count_max': 626,\n",
       " 'sms_day_count_std': 1292,\n",
       " 'voc_weekday': 564,\n",
       " 'sms_day_people_count_mean': 1438,\n",
       " 'calltype_2_rate': 1437,\n",
       " 'calltype_1_rate': 1561,\n",
       " 'sms_weekday': 458,\n",
       " 'voc_opposite_same_count_std': 792,\n",
       " 'voc_day_people_count_max': 274,\n",
       " 'sms_day': 1212,\n",
       " 'sms_hour_count_median': 638,\n",
       " 'flow_std': 561,\n",
       " 'sms_same_count_max': 1066,\n",
       " 'sms_day_people_count_std': 1924,\n",
       " 'voc_hour_count_std': 710,\n",
       " 'voc_day_same_hour_std': 824,\n",
       " 'sms_day_same_count_std': 931,\n",
       " 'sms_day_count_min': 560,\n",
       " 'sms_day_same_count_max': 370,\n",
       " 'voc_day_same_count_median': 300,\n",
       " 'voc_day_count_median': 523}"
      ]
     },
     "execution_count": 662,
     "metadata": {},
     "output_type": "execute_result"
    }
   ],
   "source": [
    "bst.get_score()"
   ]
  },
  {
   "cell_type": "code",
   "execution_count": 88,
   "metadata": {},
   "outputs": [],
   "source": [
    "plt_data=df_train.dropna(subset=['flow_min'])"
   ]
  },
  {
   "cell_type": "code",
   "execution_count": 94,
   "metadata": {},
   "outputs": [
    {
     "data": {
      "text/plain": [
       "<matplotlib.axes._subplots.AxesSubplot at 0x2be50065308>"
      ]
     },
     "execution_count": 94,
     "metadata": {},
     "output_type": "execute_result"
    },
    {
     "data": {
      "image/png": "[encoded data removed]",
      "text/plain": [
       "<Figure size 432x288 with 1 Axes>"
      ]
     },
     "metadata": {
      "needs_background": "light"
     },
     "output_type": "display_data"
    }
   ],
   "source": [
    "sns.boxplot(data= plt_data.loc[plt_data.flow_min<0.001,],x = 'label',y='flow_min',palette=\"Blues_d\")"
   ]
  },
  {
   "cell_type": "code",
   "execution_count": 95,
   "metadata": {},
   "outputs": [
    {
     "data": {
      "text/plain": [
       "<matplotlib.axes._subplots.AxesSubplot at 0x2be4d24a248>"
      ]
     },
     "execution_count": 95,
     "metadata": {},
     "output_type": "execute_result"
    },
    {
     "data": {
      "image/png": "[encoded data removed]",
      "text/plain": [
       "<Figure size 432x288 with 1 Axes>"
      ]
     },
     "metadata": {
      "needs_background": "light"
     },
     "output_type": "display_data"
    }
   ],
   "source": [
    "sns.boxplot(data = df_train,x = 'label',y='arpu_202004',palette=\"Blues_d\")"
   ]
  },
  {
   "cell_type": "code",
   "execution_count": 96,
   "metadata": {},
   "outputs": [
    {
     "data": {
      "text/plain": [
       "<matplotlib.axes._subplots.AxesSubplot at 0x2be5c0f6188>"
      ]
     },
     "execution_count": 96,
     "metadata": {},
     "output_type": "execute_result"
    },
    {
     "data": {
      "image/png": "[encoded data removed]",
      "text/plain": [
       "<Figure size 432x288 with 1 Axes>"
      ]
     },
     "metadata": {
      "needs_background": "light"
     },
     "output_type": "display_data"
    }
   ],
   "source": [
    "sns.boxplot(data= plt_data.loc[plt_data.arpu_202004<500,],x = 'label',y='arpu_202004',palette=\"Blues_d\")"
   ]
  },
  {
   "cell_type": "code",
   "execution_count": 101,
   "metadata": {},
   "outputs": [
    {
     "data": {
      "text/plain": [
       "<matplotlib.axes._subplots.AxesSubplot at 0x2be4da691c8>"
      ]
     },
     "execution_count": 101,
     "metadata": {},
     "output_type": "execute_result"
    },
    {
     "data": {
      "image/png": "[encoded data removed]",
      "text/plain": [
       "<Figure size 432x288 with 1 Axes>"
      ]
     },
     "metadata": {
      "needs_background": "light"
     },
     "output_type": "display_data"
    }
   ],
   "source": [
    "plt_data=df_train.dropna(subset=['sms_same_count_std'])\n",
    "sns.distplot(plt_data.sms_same_count_std)"
   ]
  },
  {
   "cell_type": "code",
   "execution_count": 102,
   "metadata": {},
   "outputs": [
    {
     "data": {
      "text/plain": [
       "<matplotlib.axes._subplots.AxesSubplot at 0x2be56d08b88>"
      ]
     },
     "execution_count": 102,
     "metadata": {},
     "output_type": "execute_result"
    },
    {
     "data": {
      "image/png": "[encoded data removed]",
      "text/plain": [
       "<Figure size 432x288 with 1 Axes>"
      ]
     },
     "metadata": {
      "needs_background": "light"
     },
     "output_type": "display_data"
    }
   ],
   "source": [
    "sns.boxplot(data= plt_data,x = 'label',y='sms_same_count_std',palette=\"Blues_d\")"
   ]
  },
  {
   "cell_type": "code",
   "execution_count": 104,
   "metadata": {},
   "outputs": [
    {
     "data": {
      "text/plain": [
       "<matplotlib.axes._subplots.AxesSubplot at 0x2be3305ce48>"
      ]
     },
     "execution_count": 104,
     "metadata": {},
     "output_type": "execute_result"
    },
    {
     "data": {
      "image/png": "[encoded data removed]",
      "text/plain": [
       "<Figure size 432x288 with 1 Axes>"
      ]
     },
     "metadata": {
      "needs_background": "light"
     },
     "output_type": "display_data"
    }
   ],
   "source": [
    "sns.boxplot(data=plt_data.loc[plt_data.sms_same_count_std<100,],x='label',y='sms_same_count_std',palette='Blues_d')"
   ]
  },
  {
   "cell_type": "code",
   "execution_count": null,
   "metadata": {},
   "outputs": [],
   "source": [
    "sns.distplot(df_train.voc_day_people_count_min)"
   ]
  },
  {
   "cell_type": "code",
   "execution_count": null,
   "metadata": {},
   "outputs": [],
   "source": []
  }
 ],
 "metadata": {
  "kernelspec": {
   "display_name": "Python 3",
   "language": "python",
   "name": "python3"
  },
  "language_info": {
   "codemirror_mode": {
    "name": "ipython",
    "version": 3
   },
   "file_extension": ".py",
   "mimetype": "text/x-python",
   "name": "python",
   "nbconvert_exporter": "python",
   "pygments_lexer": "ipython3",
   "version": "3.7.6"
  }
 },
 "nbformat": 4,
 "nbformat_minor": 2
}
